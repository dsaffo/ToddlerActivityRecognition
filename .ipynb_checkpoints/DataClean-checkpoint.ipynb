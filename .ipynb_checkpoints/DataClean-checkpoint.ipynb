{
 "cells": [
  {
   "cell_type": "markdown",
   "metadata": {},
   "source": [
    "# Data Clean\n",
    "### Takes data labels it, and breaks it into one second chunks\n",
    "#### David Saffo\n",
    "#### 5/16/2017"
   ]
  },
  {
   "cell_type": "code",
   "execution_count": 52,
   "metadata": {
    "collapsed": false
   },
   "outputs": [],
   "source": [
    "import pandas as pd\n",
    "import numpy as np\n",
    "from io import StringIO\n",
    "import math\n",
    "import scipy.stats.stats as stats"
   ]
  },
  {
   "cell_type": "code",
   "execution_count": 2,
   "metadata": {
    "collapsed": false
   },
   "outputs": [],
   "source": [
    "noelWalking = pd.read_csv(\"noel walking.csv\", header = None)\n",
    "noelRunning = pd.read_csv(\"noel running.csv\", header = None)\n",
    "noelSleeping = pd.read_csv(\"noel sleeping.csv\", header = None)\n",
    "noelClimbing = pd.read_csv(\"noel climbing.csv\", header = None)"
   ]
  },
  {
   "cell_type": "code",
   "execution_count": 3,
   "metadata": {
    "collapsed": true
   },
   "outputs": [],
   "source": [
    "def createDF(sub, act, data):\n",
    "    x = 0\n",
    "    i = 0\n",
    "    array = []\n",
    "    d = []\n",
    "    for index, row in data.iterrows():\n",
    "        if (data.iloc[index,0].is_integer()==False):\n",
    "            array.append([data.iloc[index,1],data.iloc[index,2],data.iloc[index,3]])\n",
    "        elif (data.iloc[index,0].is_integer()==True):\n",
    "            d.append([sub , act, array])\n",
    "            array = []\n",
    "            i+=1\n",
    "\n",
    "    d.pop(0)\n",
    "    d.pop(1)\n",
    "    d.pop(-1)\n",
    "    d.pop(-2)\n",
    "\n",
    "    dftest = pd.DataFrame(d)\n",
    "    \n",
    "    return dftest"
   ]
  },
  {
   "cell_type": "code",
   "execution_count": 4,
   "metadata": {
    "collapsed": false
   },
   "outputs": [],
   "source": [
    "df = createDF(\"noel\", \"walking\", noelWalking)\n",
    "df = df.append(createDF(\"noel\", \"running\", noelRunning), ignore_index=True)\n",
    "df = df.append(createDF(\"noel\", \"sleeping\", noelSleeping), ignore_index=True)\n",
    "df = df.append(createDF(\"noel\", \"climbing\", noelClimbing), ignore_index=True)"
   ]
  },
  {
   "cell_type": "code",
   "execution_count": 41,
   "metadata": {
    "collapsed": false
   },
   "outputs": [],
   "source": [
    "temp = []\n",
    "a = []\n",
    "mag = []\n",
    "for i in range(len(df)):\n",
    "    temp = df.iloc[i,2]\n",
    "    mag = []\n",
    "    for j in range(len(temp)):\n",
    "        x = temp[j][0]\n",
    "        y = temp[j][1]\n",
    "        z = temp[j][2]\n",
    "    \n",
    "        magnitude = math.sqrt(x ** 2 + y ** 2 + z ** 2)\n",
    "        \n",
    "        mag.append(magnitude)\n",
    "       \n",
    "    a.append(mag)\n",
    "\n",
    "df.insert(3, \"magnitude\", a)\n",
    "    \n",
    "    "
   ]
  },
  {
   "cell_type": "code",
   "execution_count": 42,
   "metadata": {
    "collapsed": false
   },
   "outputs": [
    {
     "data": {
      "text/html": [
       "<div>\n",
       "<table border=\"1\" class=\"dataframe\">\n",
       "  <thead>\n",
       "    <tr style=\"text-align: right;\">\n",
       "      <th></th>\n",
       "      <th>0</th>\n",
       "      <th>1</th>\n",
       "      <th>2</th>\n",
       "      <th>magnitude</th>\n",
       "    </tr>\n",
       "  </thead>\n",
       "  <tbody>\n",
       "    <tr>\n",
       "      <th>0</th>\n",
       "      <td>noel</td>\n",
       "      <td>walking</td>\n",
       "      <td>[[0.002076, -0.006743, -0.002139], [0.002061, ...</td>\n",
       "      <td>[0.007372458612973016, 0.003802972916022411, 0...</td>\n",
       "    </tr>\n",
       "    <tr>\n",
       "      <th>1</th>\n",
       "      <td>noel</td>\n",
       "      <td>walking</td>\n",
       "      <td>[[0.023377, -0.013351, -0.425448], [-0.098312,...</td>\n",
       "      <td>[0.4262988787623068, 0.4827258387418266, 0.350...</td>\n",
       "    </tr>\n",
       "    <tr>\n",
       "      <th>2</th>\n",
       "      <td>noel</td>\n",
       "      <td>walking</td>\n",
       "      <td>[[0.065003, 0.046967, -0.1216], [0.067933, 0.0...</td>\n",
       "      <td>[0.1456634789437627, 0.15239350389370276, 0.16...</td>\n",
       "    </tr>\n",
       "    <tr>\n",
       "      <th>3</th>\n",
       "      <td>noel</td>\n",
       "      <td>walking</td>\n",
       "      <td>[[-0.031417, 0.082261, -0.079272], [-0.025344,...</td>\n",
       "      <td>[0.11848185512558453, 0.12827635544011998, 0.1...</td>\n",
       "    </tr>\n",
       "    <tr>\n",
       "      <th>4</th>\n",
       "      <td>noel</td>\n",
       "      <td>walking</td>\n",
       "      <td>[[0.070741, 0.150697, -0.32175], [0.135728, 0....</td>\n",
       "      <td>[0.36226639009160094, 0.4096696632361249, 0.43...</td>\n",
       "    </tr>\n",
       "  </tbody>\n",
       "</table>\n",
       "</div>"
      ],
      "text/plain": [
       "      0        1                                                  2  \\\n",
       "0  noel  walking  [[0.002076, -0.006743, -0.002139], [0.002061, ...   \n",
       "1  noel  walking  [[0.023377, -0.013351, -0.425448], [-0.098312,...   \n",
       "2  noel  walking  [[0.065003, 0.046967, -0.1216], [0.067933, 0.0...   \n",
       "3  noel  walking  [[-0.031417, 0.082261, -0.079272], [-0.025344,...   \n",
       "4  noel  walking  [[0.070741, 0.150697, -0.32175], [0.135728, 0....   \n",
       "\n",
       "                                           magnitude  \n",
       "0  [0.007372458612973016, 0.003802972916022411, 0...  \n",
       "1  [0.4262988787623068, 0.4827258387418266, 0.350...  \n",
       "2  [0.1456634789437627, 0.15239350389370276, 0.16...  \n",
       "3  [0.11848185512558453, 0.12827635544011998, 0.1...  \n",
       "4  [0.36226639009160094, 0.4096696632361249, 0.43...  "
      ]
     },
     "execution_count": 42,
     "metadata": {},
     "output_type": "execute_result"
    }
   ],
   "source": [
    "df.head()"
   ]
  },
  {
   "cell_type": "code",
   "execution_count": 43,
   "metadata": {
    "collapsed": true
   },
   "outputs": [],
   "source": [
    "temp = []\n",
    "a = []\n",
    "\n",
    "\n",
    "for i in range(len(df)):\n",
    "    temp = df.iloc[i,3]\n",
    "    Max = max(temp)\n",
    "       \n",
    "    a.append(Max)\n",
    "\n",
    "df.insert(4, \"max\", a)"
   ]
  },
  {
   "cell_type": "code",
   "execution_count": 44,
   "metadata": {
    "collapsed": false
   },
   "outputs": [
    {
     "data": {
      "text/html": [
       "<div>\n",
       "<table border=\"1\" class=\"dataframe\">\n",
       "  <thead>\n",
       "    <tr style=\"text-align: right;\">\n",
       "      <th></th>\n",
       "      <th>0</th>\n",
       "      <th>1</th>\n",
       "      <th>2</th>\n",
       "      <th>magnitude</th>\n",
       "      <th>max</th>\n",
       "    </tr>\n",
       "  </thead>\n",
       "  <tbody>\n",
       "    <tr>\n",
       "      <th>0</th>\n",
       "      <td>noel</td>\n",
       "      <td>walking</td>\n",
       "      <td>[[0.002076, -0.006743, -0.002139], [0.002061, ...</td>\n",
       "      <td>[0.007372458612973016, 0.003802972916022411, 0...</td>\n",
       "      <td>0.772422</td>\n",
       "    </tr>\n",
       "    <tr>\n",
       "      <th>1</th>\n",
       "      <td>noel</td>\n",
       "      <td>walking</td>\n",
       "      <td>[[0.023377, -0.013351, -0.425448], [-0.098312,...</td>\n",
       "      <td>[0.4262988787623068, 0.4827258387418266, 0.350...</td>\n",
       "      <td>0.570496</td>\n",
       "    </tr>\n",
       "    <tr>\n",
       "      <th>2</th>\n",
       "      <td>noel</td>\n",
       "      <td>walking</td>\n",
       "      <td>[[0.065003, 0.046967, -0.1216], [0.067933, 0.0...</td>\n",
       "      <td>[0.1456634789437627, 0.15239350389370276, 0.16...</td>\n",
       "      <td>0.573341</td>\n",
       "    </tr>\n",
       "    <tr>\n",
       "      <th>3</th>\n",
       "      <td>noel</td>\n",
       "      <td>walking</td>\n",
       "      <td>[[-0.031417, 0.082261, -0.079272], [-0.025344,...</td>\n",
       "      <td>[0.11848185512558453, 0.12827635544011998, 0.1...</td>\n",
       "      <td>0.564052</td>\n",
       "    </tr>\n",
       "    <tr>\n",
       "      <th>4</th>\n",
       "      <td>noel</td>\n",
       "      <td>walking</td>\n",
       "      <td>[[0.070741, 0.150697, -0.32175], [0.135728, 0....</td>\n",
       "      <td>[0.36226639009160094, 0.4096696632361249, 0.43...</td>\n",
       "      <td>0.586625</td>\n",
       "    </tr>\n",
       "  </tbody>\n",
       "</table>\n",
       "</div>"
      ],
      "text/plain": [
       "      0        1                                                  2  \\\n",
       "0  noel  walking  [[0.002076, -0.006743, -0.002139], [0.002061, ...   \n",
       "1  noel  walking  [[0.023377, -0.013351, -0.425448], [-0.098312,...   \n",
       "2  noel  walking  [[0.065003, 0.046967, -0.1216], [0.067933, 0.0...   \n",
       "3  noel  walking  [[-0.031417, 0.082261, -0.079272], [-0.025344,...   \n",
       "4  noel  walking  [[0.070741, 0.150697, -0.32175], [0.135728, 0....   \n",
       "\n",
       "                                           magnitude       max  \n",
       "0  [0.007372458612973016, 0.003802972916022411, 0...  0.772422  \n",
       "1  [0.4262988787623068, 0.4827258387418266, 0.350...  0.570496  \n",
       "2  [0.1456634789437627, 0.15239350389370276, 0.16...  0.573341  \n",
       "3  [0.11848185512558453, 0.12827635544011998, 0.1...  0.564052  \n",
       "4  [0.36226639009160094, 0.4096696632361249, 0.43...  0.586625  "
      ]
     },
     "execution_count": 44,
     "metadata": {},
     "output_type": "execute_result"
    }
   ],
   "source": [
    "df.head()"
   ]
  },
  {
   "cell_type": "code",
   "execution_count": 45,
   "metadata": {
    "collapsed": true
   },
   "outputs": [],
   "source": [
    "temp = []\n",
    "a = []\n",
    "\n",
    "\n",
    "for i in range(len(df)):\n",
    "    temp = df.iloc[i,3]\n",
    "    Min = min(temp)\n",
    "       \n",
    "    a.append(Min)\n",
    "\n",
    "df.insert(5, \"min\", a)"
   ]
  },
  {
   "cell_type": "code",
   "execution_count": 46,
   "metadata": {
    "collapsed": false
   },
   "outputs": [
    {
     "data": {
      "text/html": [
       "<div>\n",
       "<table border=\"1\" class=\"dataframe\">\n",
       "  <thead>\n",
       "    <tr style=\"text-align: right;\">\n",
       "      <th></th>\n",
       "      <th>0</th>\n",
       "      <th>1</th>\n",
       "      <th>2</th>\n",
       "      <th>magnitude</th>\n",
       "      <th>max</th>\n",
       "      <th>min</th>\n",
       "    </tr>\n",
       "  </thead>\n",
       "  <tbody>\n",
       "    <tr>\n",
       "      <th>0</th>\n",
       "      <td>noel</td>\n",
       "      <td>walking</td>\n",
       "      <td>[[0.002076, -0.006743, -0.002139], [0.002061, ...</td>\n",
       "      <td>[0.007372458612973016, 0.003802972916022411, 0...</td>\n",
       "      <td>0.772422</td>\n",
       "      <td>0.003803</td>\n",
       "    </tr>\n",
       "    <tr>\n",
       "      <th>1</th>\n",
       "      <td>noel</td>\n",
       "      <td>walking</td>\n",
       "      <td>[[0.023377, -0.013351, -0.425448], [-0.098312,...</td>\n",
       "      <td>[0.4262988787623068, 0.4827258387418266, 0.350...</td>\n",
       "      <td>0.570496</td>\n",
       "      <td>0.157260</td>\n",
       "    </tr>\n",
       "    <tr>\n",
       "      <th>2</th>\n",
       "      <td>noel</td>\n",
       "      <td>walking</td>\n",
       "      <td>[[0.065003, 0.046967, -0.1216], [0.067933, 0.0...</td>\n",
       "      <td>[0.1456634789437627, 0.15239350389370276, 0.16...</td>\n",
       "      <td>0.573341</td>\n",
       "      <td>0.084021</td>\n",
       "    </tr>\n",
       "    <tr>\n",
       "      <th>3</th>\n",
       "      <td>noel</td>\n",
       "      <td>walking</td>\n",
       "      <td>[[-0.031417, 0.082261, -0.079272], [-0.025344,...</td>\n",
       "      <td>[0.11848185512558453, 0.12827635544011998, 0.1...</td>\n",
       "      <td>0.564052</td>\n",
       "      <td>0.118482</td>\n",
       "    </tr>\n",
       "    <tr>\n",
       "      <th>4</th>\n",
       "      <td>noel</td>\n",
       "      <td>walking</td>\n",
       "      <td>[[0.070741, 0.150697, -0.32175], [0.135728, 0....</td>\n",
       "      <td>[0.36226639009160094, 0.4096696632361249, 0.43...</td>\n",
       "      <td>0.586625</td>\n",
       "      <td>0.176065</td>\n",
       "    </tr>\n",
       "  </tbody>\n",
       "</table>\n",
       "</div>"
      ],
      "text/plain": [
       "      0        1                                                  2  \\\n",
       "0  noel  walking  [[0.002076, -0.006743, -0.002139], [0.002061, ...   \n",
       "1  noel  walking  [[0.023377, -0.013351, -0.425448], [-0.098312,...   \n",
       "2  noel  walking  [[0.065003, 0.046967, -0.1216], [0.067933, 0.0...   \n",
       "3  noel  walking  [[-0.031417, 0.082261, -0.079272], [-0.025344,...   \n",
       "4  noel  walking  [[0.070741, 0.150697, -0.32175], [0.135728, 0....   \n",
       "\n",
       "                                           magnitude       max       min  \n",
       "0  [0.007372458612973016, 0.003802972916022411, 0...  0.772422  0.003803  \n",
       "1  [0.4262988787623068, 0.4827258387418266, 0.350...  0.570496  0.157260  \n",
       "2  [0.1456634789437627, 0.15239350389370276, 0.16...  0.573341  0.084021  \n",
       "3  [0.11848185512558453, 0.12827635544011998, 0.1...  0.564052  0.118482  \n",
       "4  [0.36226639009160094, 0.4096696632361249, 0.43...  0.586625  0.176065  "
      ]
     },
     "execution_count": 46,
     "metadata": {},
     "output_type": "execute_result"
    }
   ],
   "source": [
    "df.head()"
   ]
  },
  {
   "cell_type": "code",
   "execution_count": 47,
   "metadata": {
    "collapsed": true
   },
   "outputs": [],
   "source": [
    "temp = []\n",
    "a = []\n",
    "\n",
    "\n",
    "for i in range(len(df)):\n",
    "    temp = df.iloc[i,3]\n",
    "    x = np.array(temp)\n",
    "    std = np.std(x)\n",
    "    a.append(std)\n",
    "\n",
    "df.insert(6, \"std\", a)"
   ]
  },
  {
   "cell_type": "code",
   "execution_count": 48,
   "metadata": {
    "collapsed": false
   },
   "outputs": [
    {
     "data": {
      "text/html": [
       "<div>\n",
       "<table border=\"1\" class=\"dataframe\">\n",
       "  <thead>\n",
       "    <tr style=\"text-align: right;\">\n",
       "      <th></th>\n",
       "      <th>0</th>\n",
       "      <th>1</th>\n",
       "      <th>2</th>\n",
       "      <th>magnitude</th>\n",
       "      <th>max</th>\n",
       "      <th>min</th>\n",
       "      <th>std</th>\n",
       "    </tr>\n",
       "  </thead>\n",
       "  <tbody>\n",
       "    <tr>\n",
       "      <th>0</th>\n",
       "      <td>noel</td>\n",
       "      <td>walking</td>\n",
       "      <td>[[0.002076, -0.006743, -0.002139], [0.002061, ...</td>\n",
       "      <td>[0.007372458612973016, 0.003802972916022411, 0...</td>\n",
       "      <td>0.772422</td>\n",
       "      <td>0.003803</td>\n",
       "      <td>0.192916</td>\n",
       "    </tr>\n",
       "    <tr>\n",
       "      <th>1</th>\n",
       "      <td>noel</td>\n",
       "      <td>walking</td>\n",
       "      <td>[[0.023377, -0.013351, -0.425448], [-0.098312,...</td>\n",
       "      <td>[0.4262988787623068, 0.4827258387418266, 0.350...</td>\n",
       "      <td>0.570496</td>\n",
       "      <td>0.157260</td>\n",
       "      <td>0.088100</td>\n",
       "    </tr>\n",
       "    <tr>\n",
       "      <th>2</th>\n",
       "      <td>noel</td>\n",
       "      <td>walking</td>\n",
       "      <td>[[0.065003, 0.046967, -0.1216], [0.067933, 0.0...</td>\n",
       "      <td>[0.1456634789437627, 0.15239350389370276, 0.16...</td>\n",
       "      <td>0.573341</td>\n",
       "      <td>0.084021</td>\n",
       "      <td>0.091172</td>\n",
       "    </tr>\n",
       "    <tr>\n",
       "      <th>3</th>\n",
       "      <td>noel</td>\n",
       "      <td>walking</td>\n",
       "      <td>[[-0.031417, 0.082261, -0.079272], [-0.025344,...</td>\n",
       "      <td>[0.11848185512558453, 0.12827635544011998, 0.1...</td>\n",
       "      <td>0.564052</td>\n",
       "      <td>0.118482</td>\n",
       "      <td>0.074929</td>\n",
       "    </tr>\n",
       "    <tr>\n",
       "      <th>4</th>\n",
       "      <td>noel</td>\n",
       "      <td>walking</td>\n",
       "      <td>[[0.070741, 0.150697, -0.32175], [0.135728, 0....</td>\n",
       "      <td>[0.36226639009160094, 0.4096696632361249, 0.43...</td>\n",
       "      <td>0.586625</td>\n",
       "      <td>0.176065</td>\n",
       "      <td>0.076042</td>\n",
       "    </tr>\n",
       "  </tbody>\n",
       "</table>\n",
       "</div>"
      ],
      "text/plain": [
       "      0        1                                                  2  \\\n",
       "0  noel  walking  [[0.002076, -0.006743, -0.002139], [0.002061, ...   \n",
       "1  noel  walking  [[0.023377, -0.013351, -0.425448], [-0.098312,...   \n",
       "2  noel  walking  [[0.065003, 0.046967, -0.1216], [0.067933, 0.0...   \n",
       "3  noel  walking  [[-0.031417, 0.082261, -0.079272], [-0.025344,...   \n",
       "4  noel  walking  [[0.070741, 0.150697, -0.32175], [0.135728, 0....   \n",
       "\n",
       "                                           magnitude       max       min  \\\n",
       "0  [0.007372458612973016, 0.003802972916022411, 0...  0.772422  0.003803   \n",
       "1  [0.4262988787623068, 0.4827258387418266, 0.350...  0.570496  0.157260   \n",
       "2  [0.1456634789437627, 0.15239350389370276, 0.16...  0.573341  0.084021   \n",
       "3  [0.11848185512558453, 0.12827635544011998, 0.1...  0.564052  0.118482   \n",
       "4  [0.36226639009160094, 0.4096696632361249, 0.43...  0.586625  0.176065   \n",
       "\n",
       "        std  \n",
       "0  0.192916  \n",
       "1  0.088100  \n",
       "2  0.091172  \n",
       "3  0.074929  \n",
       "4  0.076042  "
      ]
     },
     "execution_count": 48,
     "metadata": {},
     "output_type": "execute_result"
    }
   ],
   "source": [
    "df.head()"
   ]
  },
  {
   "cell_type": "code",
   "execution_count": 54,
   "metadata": {
    "collapsed": false
   },
   "outputs": [],
   "source": [
    "temp = []\n",
    "a = []\n",
    "\n",
    "\n",
    "for i in range(len(df)):\n",
    "    temp = df.iloc[i,3]\n",
    "    stats.skew(temp)\n",
    "    a.append(temp)\n",
    "\n",
    "#df.insert(6, \"skew\", a)"
   ]
  },
  {
   "cell_type": "code",
   "execution_count": null,
   "metadata": {
    "collapsed": true
   },
   "outputs": [],
   "source": []
  },
  {
   "cell_type": "code",
   "execution_count": 57,
   "metadata": {
    "collapsed": false
   },
   "outputs": [
    {
     "data": {
      "text/html": [
       "<div>\n",
       "<table border=\"1\" class=\"dataframe\">\n",
       "  <thead>\n",
       "    <tr style=\"text-align: right;\">\n",
       "      <th></th>\n",
       "      <th>0</th>\n",
       "      <th>1</th>\n",
       "      <th>2</th>\n",
       "      <th>magnitude</th>\n",
       "      <th>max</th>\n",
       "      <th>min</th>\n",
       "      <th>std</th>\n",
       "    </tr>\n",
       "  </thead>\n",
       "  <tbody>\n",
       "    <tr>\n",
       "      <th>0</th>\n",
       "      <td>noel</td>\n",
       "      <td>walking</td>\n",
       "      <td>[[0.002076, -0.006743, -0.002139], [0.002061, ...</td>\n",
       "      <td>[0.007372458612973016, 0.003802972916022411, 0...</td>\n",
       "      <td>0.772422</td>\n",
       "      <td>0.003803</td>\n",
       "      <td>0.192916</td>\n",
       "    </tr>\n",
       "    <tr>\n",
       "      <th>1</th>\n",
       "      <td>noel</td>\n",
       "      <td>walking</td>\n",
       "      <td>[[0.023377, -0.013351, -0.425448], [-0.098312,...</td>\n",
       "      <td>[0.4262988787623068, 0.4827258387418266, 0.350...</td>\n",
       "      <td>0.570496</td>\n",
       "      <td>0.157260</td>\n",
       "      <td>0.088100</td>\n",
       "    </tr>\n",
       "    <tr>\n",
       "      <th>2</th>\n",
       "      <td>noel</td>\n",
       "      <td>walking</td>\n",
       "      <td>[[0.065003, 0.046967, -0.1216], [0.067933, 0.0...</td>\n",
       "      <td>[0.1456634789437627, 0.15239350389370276, 0.16...</td>\n",
       "      <td>0.573341</td>\n",
       "      <td>0.084021</td>\n",
       "      <td>0.091172</td>\n",
       "    </tr>\n",
       "    <tr>\n",
       "      <th>3</th>\n",
       "      <td>noel</td>\n",
       "      <td>walking</td>\n",
       "      <td>[[-0.031417, 0.082261, -0.079272], [-0.025344,...</td>\n",
       "      <td>[0.11848185512558453, 0.12827635544011998, 0.1...</td>\n",
       "      <td>0.564052</td>\n",
       "      <td>0.118482</td>\n",
       "      <td>0.074929</td>\n",
       "    </tr>\n",
       "    <tr>\n",
       "      <th>4</th>\n",
       "      <td>noel</td>\n",
       "      <td>walking</td>\n",
       "      <td>[[0.070741, 0.150697, -0.32175], [0.135728, 0....</td>\n",
       "      <td>[0.36226639009160094, 0.4096696632361249, 0.43...</td>\n",
       "      <td>0.586625</td>\n",
       "      <td>0.176065</td>\n",
       "      <td>0.076042</td>\n",
       "    </tr>\n",
       "  </tbody>\n",
       "</table>\n",
       "</div>"
      ],
      "text/plain": [
       "      0        1                                                  2  \\\n",
       "0  noel  walking  [[0.002076, -0.006743, -0.002139], [0.002061, ...   \n",
       "1  noel  walking  [[0.023377, -0.013351, -0.425448], [-0.098312,...   \n",
       "2  noel  walking  [[0.065003, 0.046967, -0.1216], [0.067933, 0.0...   \n",
       "3  noel  walking  [[-0.031417, 0.082261, -0.079272], [-0.025344,...   \n",
       "4  noel  walking  [[0.070741, 0.150697, -0.32175], [0.135728, 0....   \n",
       "\n",
       "                                           magnitude       max       min  \\\n",
       "0  [0.007372458612973016, 0.003802972916022411, 0...  0.772422  0.003803   \n",
       "1  [0.4262988787623068, 0.4827258387418266, 0.350...  0.570496  0.157260   \n",
       "2  [0.1456634789437627, 0.15239350389370276, 0.16...  0.573341  0.084021   \n",
       "3  [0.11848185512558453, 0.12827635544011998, 0.1...  0.564052  0.118482   \n",
       "4  [0.36226639009160094, 0.4096696632361249, 0.43...  0.586625  0.176065   \n",
       "\n",
       "        std  \n",
       "0  0.192916  \n",
       "1  0.088100  \n",
       "2  0.091172  \n",
       "3  0.074929  \n",
       "4  0.076042  "
      ]
     },
     "execution_count": 57,
     "metadata": {},
     "output_type": "execute_result"
    }
   ],
   "source": []
  },
  {
   "cell_type": "code",
   "execution_count": null,
   "metadata": {
    "collapsed": true
   },
   "outputs": [],
   "source": []
  }
 ],
 "metadata": {
  "anaconda-cloud": {},
  "kernelspec": {
   "display_name": "Python [default]",
   "language": "python",
   "name": "python3"
  },
  "language_info": {
   "codemirror_mode": {
    "name": "ipython",
    "version": 3
   },
   "file_extension": ".py",
   "mimetype": "text/x-python",
   "name": "python",
   "nbconvert_exporter": "python",
   "pygments_lexer": "ipython3",
   "version": "3.5.2"
  }
 },
 "nbformat": 4,
 "nbformat_minor": 2
}
