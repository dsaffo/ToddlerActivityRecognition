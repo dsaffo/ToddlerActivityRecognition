{
 "cells": [
  {
   "cell_type": "code",
   "execution_count": 1,
   "metadata": {
    "collapsed": false
   },
   "outputs": [
    {
     "name": "stderr",
     "output_type": "stream",
     "text": [
      "C:\\Users\\dsaffo\\Anaconda3\\lib\\site-packages\\sklearn\\cross_validation.py:44: DeprecationWarning: This module was deprecated in version 0.18 in favor of the model_selection module into which all the refactored classes and functions are moved. Also note that the interface of the new CV iterators are different from that of this module. This module will be removed in 0.20.\n",
      "  \"This module will be removed in 0.20.\", DeprecationWarning)\n",
      "C:\\Users\\dsaffo\\Anaconda3\\lib\\site-packages\\sklearn\\grid_search.py:43: DeprecationWarning: This module was deprecated in version 0.18 in favor of the model_selection module into which all the refactored classes and functions are moved. This module will be removed in 0.20.\n",
      "  DeprecationWarning)\n"
     ]
    }
   ],
   "source": [
    "import pandas as pd\n",
    "import numpy as np\n",
    "import itertools\n",
    "from sklearn.model_selection import train_test_split\n",
    "from sklearn import metrics\n",
    "from sklearn.neighbors import KNeighborsClassifier\n",
    "from sklearn.ensemble import RandomForestClassifier\n",
    "from sklearn.metrics import accuracy_score\n",
    "from sklearn.metrics import f1_score\n",
    "import matplotlib.pyplot as plt\n",
    "from sklearn.metrics import confusion_matrix\n",
    "from sklearn.utils import shuffle\n",
    "from sklearn.model_selection import LeaveOneGroupOut\n",
    "from sklearn import metrics, svm, neighbors, linear_model, tree\n",
    "from sklearn.grid_search import GridSearchCV\n",
    "from sklearn.tree import DecisionTreeRegressor\n",
    "from sklearn.ensemble import BaggingClassifier\n",
    "from sklearn.ensemble import RandomForestClassifier\n",
    "%matplotlib inline"
   ]
  },
  {
   "cell_type": "code",
   "execution_count": 2,
   "metadata": {
    "collapsed": false
   },
   "outputs": [],
   "source": [
    "df = pd.read_csv(\"SimTodActData.csv\")\n",
    "df = df.drop(\"Unnamed: 0\", 1)\n",
    "df=df.rename(columns = {'0':'subject', '1':'activity', '2':'raw acc data'})"
   ]
  },
  {
   "cell_type": "code",
   "execution_count": 3,
   "metadata": {
    "collapsed": false
   },
   "outputs": [
    {
     "data": {
      "text/html": [
       "<div>\n",
       "<table border=\"1\" class=\"dataframe\">\n",
       "  <thead>\n",
       "    <tr style=\"text-align: right;\">\n",
       "      <th></th>\n",
       "      <th>subject</th>\n",
       "      <th>activity</th>\n",
       "      <th>raw acc data</th>\n",
       "      <th>magnitude</th>\n",
       "      <th>max</th>\n",
       "      <th>min</th>\n",
       "      <th>std</th>\n",
       "      <th>skew</th>\n",
       "      <th>kurtosis</th>\n",
       "      <th>mean</th>\n",
       "      <th>...</th>\n",
       "      <th>z skew</th>\n",
       "      <th>x kurtosis</th>\n",
       "      <th>y kurtosis</th>\n",
       "      <th>z kurtosis</th>\n",
       "      <th>x std</th>\n",
       "      <th>y std</th>\n",
       "      <th>z std</th>\n",
       "      <th>xy mean</th>\n",
       "      <th>yz mean</th>\n",
       "      <th>xz mean</th>\n",
       "    </tr>\n",
       "  </thead>\n",
       "  <tbody>\n",
       "    <tr>\n",
       "      <th>0</th>\n",
       "      <td>gia</td>\n",
       "      <td>walking</td>\n",
       "      <td>[[-9.8000000000000007, 0.29999999999999999, -1...</td>\n",
       "      <td>[9.918669265581952, 9.918669265581952, 9.91866...</td>\n",
       "      <td>19.460987</td>\n",
       "      <td>5.989157</td>\n",
       "      <td>2.138958</td>\n",
       "      <td>1.445576</td>\n",
       "      <td>3.793923</td>\n",
       "      <td>10.182836</td>\n",
       "      <td>...</td>\n",
       "      <td>-1.627314</td>\n",
       "      <td>2.253049</td>\n",
       "      <td>2.302408</td>\n",
       "      <td>4.502332</td>\n",
       "      <td>1.999532</td>\n",
       "      <td>1.984068</td>\n",
       "      <td>1.626193</td>\n",
       "      <td>-3.132645</td>\n",
       "      <td>-0.631162</td>\n",
       "      <td>20.944970</td>\n",
       "    </tr>\n",
       "    <tr>\n",
       "      <th>1</th>\n",
       "      <td>gia</td>\n",
       "      <td>walking</td>\n",
       "      <td>[[-10.199999999999999, -5.5999999999999996, -6...</td>\n",
       "      <td>[13.528118864054973, 13.528118864054973, 10.09...</td>\n",
       "      <td>22.588935</td>\n",
       "      <td>6.953416</td>\n",
       "      <td>3.033713</td>\n",
       "      <td>1.752123</td>\n",
       "      <td>3.306845</td>\n",
       "      <td>10.548465</td>\n",
       "      <td>...</td>\n",
       "      <td>-0.872465</td>\n",
       "      <td>2.731893</td>\n",
       "      <td>1.201899</td>\n",
       "      <td>0.519213</td>\n",
       "      <td>2.742992</td>\n",
       "      <td>2.759952</td>\n",
       "      <td>2.067458</td>\n",
       "      <td>-1.707415</td>\n",
       "      <td>0.203607</td>\n",
       "      <td>25.377635</td>\n",
       "    </tr>\n",
       "    <tr>\n",
       "      <th>2</th>\n",
       "      <td>gia</td>\n",
       "      <td>walking</td>\n",
       "      <td>[[-11.1, 0.90000000000000002, -1.5], [-9.59999...</td>\n",
       "      <td>[11.236992480196825, 9.689685237405806, 9.6896...</td>\n",
       "      <td>21.328150</td>\n",
       "      <td>6.024118</td>\n",
       "      <td>2.440292</td>\n",
       "      <td>1.649754</td>\n",
       "      <td>4.167502</td>\n",
       "      <td>10.369328</td>\n",
       "      <td>...</td>\n",
       "      <td>-0.839806</td>\n",
       "      <td>1.010846</td>\n",
       "      <td>1.483274</td>\n",
       "      <td>0.460889</td>\n",
       "      <td>2.311682</td>\n",
       "      <td>2.356913</td>\n",
       "      <td>1.980663</td>\n",
       "      <td>-1.278758</td>\n",
       "      <td>-0.738257</td>\n",
       "      <td>24.078898</td>\n",
       "    </tr>\n",
       "    <tr>\n",
       "      <th>3</th>\n",
       "      <td>gia</td>\n",
       "      <td>walking</td>\n",
       "      <td>[[-9.1999999999999993, 0.80000000000000004, -2...</td>\n",
       "      <td>[9.470480452437457, 9.022749026765624, 9.02274...</td>\n",
       "      <td>20.667608</td>\n",
       "      <td>6.041523</td>\n",
       "      <td>2.709005</td>\n",
       "      <td>1.171656</td>\n",
       "      <td>1.464126</td>\n",
       "      <td>10.482501</td>\n",
       "      <td>...</td>\n",
       "      <td>-0.814940</td>\n",
       "      <td>0.401497</td>\n",
       "      <td>2.833225</td>\n",
       "      <td>0.329225</td>\n",
       "      <td>2.379929</td>\n",
       "      <td>2.786271</td>\n",
       "      <td>2.122226</td>\n",
       "      <td>-2.839178</td>\n",
       "      <td>-0.854489</td>\n",
       "      <td>23.962806</td>\n",
       "    </tr>\n",
       "    <tr>\n",
       "      <th>4</th>\n",
       "      <td>gia</td>\n",
       "      <td>walking</td>\n",
       "      <td>[[-8.0999999999999996, -4.2000000000000002, -4...</td>\n",
       "      <td>[10.218121158021175, 10.218121158021175, 10.21...</td>\n",
       "      <td>18.157643</td>\n",
       "      <td>6.071244</td>\n",
       "      <td>2.444689</td>\n",
       "      <td>1.042117</td>\n",
       "      <td>0.875984</td>\n",
       "      <td>10.402893</td>\n",
       "      <td>...</td>\n",
       "      <td>-0.715887</td>\n",
       "      <td>0.851138</td>\n",
       "      <td>1.599907</td>\n",
       "      <td>0.239431</td>\n",
       "      <td>2.302092</td>\n",
       "      <td>2.508782</td>\n",
       "      <td>1.868072</td>\n",
       "      <td>-3.855110</td>\n",
       "      <td>-1.159058</td>\n",
       "      <td>24.132285</td>\n",
       "    </tr>\n",
       "  </tbody>\n",
       "</table>\n",
       "<p>5 rows × 35 columns</p>\n",
       "</div>"
      ],
      "text/plain": [
       "  subject activity                                       raw acc data  \\\n",
       "0     gia  walking  [[-9.8000000000000007, 0.29999999999999999, -1...   \n",
       "1     gia  walking  [[-10.199999999999999, -5.5999999999999996, -6...   \n",
       "2     gia  walking  [[-11.1, 0.90000000000000002, -1.5], [-9.59999...   \n",
       "3     gia  walking  [[-9.1999999999999993, 0.80000000000000004, -2...   \n",
       "4     gia  walking  [[-8.0999999999999996, -4.2000000000000002, -4...   \n",
       "\n",
       "                                           magnitude        max       min  \\\n",
       "0  [9.918669265581952, 9.918669265581952, 9.91866...  19.460987  5.989157   \n",
       "1  [13.528118864054973, 13.528118864054973, 10.09...  22.588935  6.953416   \n",
       "2  [11.236992480196825, 9.689685237405806, 9.6896...  21.328150  6.024118   \n",
       "3  [9.470480452437457, 9.022749026765624, 9.02274...  20.667608  6.041523   \n",
       "4  [10.218121158021175, 10.218121158021175, 10.21...  18.157643  6.071244   \n",
       "\n",
       "        std      skew  kurtosis       mean    ...        z skew  x kurtosis  \\\n",
       "0  2.138958  1.445576  3.793923  10.182836    ...     -1.627314    2.253049   \n",
       "1  3.033713  1.752123  3.306845  10.548465    ...     -0.872465    2.731893   \n",
       "2  2.440292  1.649754  4.167502  10.369328    ...     -0.839806    1.010846   \n",
       "3  2.709005  1.171656  1.464126  10.482501    ...     -0.814940    0.401497   \n",
       "4  2.444689  1.042117  0.875984  10.402893    ...     -0.715887    0.851138   \n",
       "\n",
       "   y kurtosis  z kurtosis     x std     y std     z std   xy mean   yz mean  \\\n",
       "0    2.302408    4.502332  1.999532  1.984068  1.626193 -3.132645 -0.631162   \n",
       "1    1.201899    0.519213  2.742992  2.759952  2.067458 -1.707415  0.203607   \n",
       "2    1.483274    0.460889  2.311682  2.356913  1.980663 -1.278758 -0.738257   \n",
       "3    2.833225    0.329225  2.379929  2.786271  2.122226 -2.839178 -0.854489   \n",
       "4    1.599907    0.239431  2.302092  2.508782  1.868072 -3.855110 -1.159058   \n",
       "\n",
       "     xz mean  \n",
       "0  20.944970  \n",
       "1  25.377635  \n",
       "2  24.078898  \n",
       "3  23.962806  \n",
       "4  24.132285  \n",
       "\n",
       "[5 rows x 35 columns]"
      ]
     },
     "execution_count": 3,
     "metadata": {},
     "output_type": "execute_result"
    }
   ],
   "source": [
    "df.head()"
   ]
  },
  {
   "cell_type": "code",
   "execution_count": null,
   "metadata": {
    "collapsed": true
   },
   "outputs": [],
   "source": []
  },
  {
   "cell_type": "code",
   "execution_count": 4,
   "metadata": {
    "collapsed": true
   },
   "outputs": [],
   "source": [
    "Y = df['activity']\n",
    "features = ['max', 'min', 'std', 'skew', 'mean', 'median', 'x max', 'y max', 'z max', 'x min', 'y min', 'z min', 'x mean', 'y mean', 'z mean', 'x median', 'y median', 'z median', 'x skew', 'y skew', 'z skew', 'x std', 'y std', 'z std',  'xy mean', 'yz mean', 'xz mean']\n",
    "X = df[features]\n",
    "groups = ['subject']"
   ]
  },
  {
   "cell_type": "code",
   "execution_count": 5,
   "metadata": {
    "collapsed": false
   },
   "outputs": [
    {
     "name": "stdout",
     "output_type": "stream",
     "text": [
      "Train Set Size:  280\n",
      "Test Set Size:  120\n"
     ]
    }
   ],
   "source": [
    "X_train, X_test, y_train, y_test = train_test_split(X, Y, test_size=0.30, random_state=42)\n",
    "print(\"Train Set Size: \", len(X_train))\n",
    "print(\"Test Set Size: \", len(X_test))"
   ]
  },
  {
   "cell_type": "code",
   "execution_count": 6,
   "metadata": {
    "collapsed": false
   },
   "outputs": [
    {
     "name": "stdout",
     "output_type": "stream",
     "text": [
      "Feature ranking:\n",
      "feature (1, 'max', 0.076060305927621988)\n",
      "feature (2, 'min', 0.07517640183957669)\n",
      "feature (3, 'std', 0.070529327296168093)\n",
      "feature (4, 'skew', 0.066296935192638365)\n",
      "feature (5, 'mean', 0.062766033226529197)\n",
      "feature (6, 'median', 0.047182763044720147)\n",
      "feature (7, 'x max', 0.046871196473500049)\n",
      "feature (8, 'y max', 0.043430907119445319)\n",
      "feature (9, 'z max', 0.043258374034707704)\n",
      "feature (10, 'x min', 0.039573861191820964)\n",
      "feature (11, 'y min', 0.038896654778537883)\n",
      "feature (12, 'z min', 0.037547555893393529)\n",
      "feature (13, 'x mean', 0.037545357827199283)\n",
      "feature (14, 'y mean', 0.033731583428018276)\n",
      "feature (15, 'z mean', 0.030468946412068796)\n",
      "feature (16, 'x median', 0.030101222045713801)\n",
      "feature (17, 'y median', 0.027235427277737756)\n",
      "feature (18, 'z median', 0.026606105770685083)\n",
      "feature (19, 'x skew', 0.024158954981121472)\n",
      "feature (20, 'y skew', 0.023345846009894901)\n",
      "feature (21, 'z skew', 0.022402523197991488)\n",
      "feature (22, 'x std', 0.020700442637912257)\n",
      "feature (23, 'y std', 0.017808437866942802)\n",
      "feature (24, 'z std', 0.016543038835248776)\n",
      "feature (25, 'xy mean', 0.016146199818538078)\n",
      "feature (26, 'yz mean', 0.015925977845638855)\n",
      "feature (27, 'xz mean', 0.0096896200266283709)\n"
     ]
    },
    {
     "data": {
      "image/png": "[encoded data removed]",
      "text/plain": [
       "<matplotlib.figure.Figure at 0x1fe610aaf28>"
      ]
     },
     "metadata": {},
     "output_type": "display_data"
    }
   ],
   "source": [
    "# features analysis\n",
    "from sklearn.ensemble import ExtraTreesClassifier\n",
    "\n",
    "forest = ExtraTreesClassifier(n_estimators=250,\n",
    "                              random_state=0)\n",
    "\n",
    "X = X_train\n",
    "Y = y_train\n",
    "\n",
    "forest.fit(X, Y)\n",
    "importances = forest.feature_importances_\n",
    "std = np.std([tree.feature_importances_ for tree in forest.estimators_],\n",
    "             axis=0)\n",
    "indices = np.argsort(importances)[::-1]\n",
    "\n",
    "# Print the feature ranking\n",
    "print(\"Feature ranking:\")\n",
    "\n",
    "for f in range(X.shape[1]):\n",
    "    print(\"feature\" , (f + 1, features[f], importances[indices[f]]))\n",
    "\n",
    "# Plot the feature importances of the forest\n",
    "plt.figure()\n",
    "plt.title(\"Feature importances\")\n",
    "plt.bar(range(X.shape[1]), importances[indices],\n",
    "       color=\"r\", yerr=std[indices], align=\"center\")\n",
    "plt.xticks(range(X.shape[1]), indices)\n",
    "plt.xlim([-1, X.shape[1]])\n",
    "plt.show()"
   ]
  },
  {
   "cell_type": "raw",
   "metadata": {},
   "source": [
    "# normalize feature importances\n",
    "\n",
    "importances = np.array(importances)\n",
    "importances /= importances.max()\n",
    "\n",
    "for f in range(X.shape[1]):\n",
    "    print(\"%d. feature %d (%f)\" % (f + 1, indices[f], importances[indices[f]]))\n",
    "\n",
    "# Plot the feature importances of the forest\n",
    "plt.figure()\n",
    "plt.title(\"Feature importances\")\n",
    "plt.bar(range(X.shape[1]), importances[indices],\n",
    "       color=\"r\", yerr=std[indices], align=\"center\")\n",
    "plt.xticks(range(X.shape[1]), indices)\n",
    "plt.xlim([-1, X.shape[1]])\n",
    "plt.show()"
   ]
  },
  {
   "cell_type": "raw",
   "metadata": {},
   "source": [
    "# select features > 10 % importance\n",
    "features = [i for i,j in zip(features,importances) if j > 0.3]\n",
    "\n",
    "print (\"Selected number of features: %d\" % len(features))\n",
    "\n",
    "for f in range(len(features)):\n",
    "    print(\"%d. feature %d (%f)\" % (f + 1, indices[f], importances[indices[f]]))"
   ]
  },
  {
   "cell_type": "code",
   "execution_count": 7,
   "metadata": {
    "collapsed": false
   },
   "outputs": [
    {
     "name": "stdout",
     "output_type": "stream",
     "text": [
      "[0.94999999999999996, 25]\n"
     ]
    },
    {
     "data": {
      "image/png": "[encoded data removed]",
      "text/plain": [
       "<matplotlib.figure.Figure at 0x1fe625a6240>"
      ]
     },
     "metadata": {},
     "output_type": "display_data"
    }
   ],
   "source": [
    "nResult= []\n",
    "for n in range(1, 100,1):\n",
    "    model = RandomForestClassifier(n_estimators = n)\n",
    "    model.fit(X_train, y_train)\n",
    "\n",
    "    expected = y_test\n",
    "    predicted = model.predict(X_test)\n",
    "    acc = accuracy_score(expected, predicted)\n",
    "\n",
    "\n",
    "    nResult.append([acc,n])\n",
    "print(max(nResult))\n",
    "#plotting peak k value preformance \n",
    "nResult = pd.DataFrame(nResult, columns=[\"n\", \"acc\"])\n",
    "plt.plot(nResult.acc, nResult.n)\n",
    "plt.title(\"Accuracy with n\")\n",
    "plt.show()"
   ]
  },
  {
   "cell_type": "code",
   "execution_count": 14,
   "metadata": {
    "collapsed": false
   },
   "outputs": [
    {
     "data": {
      "text/plain": [
       "RandomForestClassifier(bootstrap=True, class_weight=None, criterion='gini',\n",
       "            max_depth=None, max_features='auto', max_leaf_nodes=None,\n",
       "            min_impurity_split=1e-07, min_samples_leaf=1,\n",
       "            min_samples_split=2, min_weight_fraction_leaf=0.0,\n",
       "            n_estimators=25, n_jobs=1, oob_score=False, random_state=None,\n",
       "            verbose=0, warm_start=False)"
      ]
     },
     "execution_count": 14,
     "metadata": {},
     "output_type": "execute_result"
    }
   ],
   "source": [
    "model = RandomForestClassifier(n_estimators = 25)\n",
    "model.fit(X_train, y_train)"
   ]
  },
  {
   "cell_type": "code",
   "execution_count": 15,
   "metadata": {
    "collapsed": true
   },
   "outputs": [],
   "source": [
    "expected = y_test\n",
    "predicted = model.predict(X_test)"
   ]
  },
  {
   "cell_type": "code",
   "execution_count": 16,
   "metadata": {
    "collapsed": false
   },
   "outputs": [
    {
     "name": "stdout",
     "output_type": "stream",
     "text": [
      "Classification Report:\n",
      "             precision    recall  f1-score   support\n",
      "\n",
      "   climbing       1.00      0.50      0.67         6\n",
      "    running       0.79      1.00      0.88        23\n",
      "    sitting       0.95      0.88      0.91        24\n",
      "   sleeping       1.00      1.00      1.00        19\n",
      "   standing       0.91      0.95      0.93        21\n",
      "    walking       0.96      0.89      0.92        27\n",
      "\n",
      "avg / total       0.93      0.92      0.91       120\n",
      "\n"
     ]
    }
   ],
   "source": [
    "print(\"Classification Report:\")\n",
    "print(metrics.classification_report(expected, predicted))"
   ]
  },
  {
   "cell_type": "code",
   "execution_count": 17,
   "metadata": {
    "collapsed": false
   },
   "outputs": [
    {
     "name": "stdout",
     "output_type": "stream",
     "text": [
      "Confusion matrix\n"
     ]
    },
    {
     "data": {
      "image/png": "[encoded data removed]",
      "text/plain": [
       "<matplotlib.figure.Figure at 0x1fe627c5828>"
      ]
     },
     "metadata": {},
     "output_type": "display_data"
    }
   ],
   "source": [
    "class_names = [\"climbing\", \"running\", \"sitting\", \"sleeping\", \"standing\", \"walking\"]\n",
    "def plot_confusion_matrix(cm, classes,\n",
    "                          normalize=False,\n",
    "                          title='Confusion matrix',\n",
    "                          cmap=plt.cm.Blues):\n",
    "    \"\"\"\n",
    "    This function prints and plots the confusion matrix.\n",
    "    Normalization can be applied by setting `normalize=True`.\n",
    "    \"\"\"\n",
    "    plt.imshow(cm, interpolation='nearest', cmap=cmap)\n",
    "    plt.title(title)\n",
    "    plt.colorbar()\n",
    "    tick_marks = np.arange(len(classes))\n",
    "    plt.xticks(tick_marks, classes, rotation=45)\n",
    "    plt.yticks(tick_marks, classes)\n",
    "\n",
    "   \n",
    "    print('Confusion matrix')\n",
    "\n",
    "    \n",
    "\n",
    "    thresh = cm.max() / 2.\n",
    "    for i, j in itertools.product(range(cm.shape[0]), range(cm.shape[1])):\n",
    "        plt.text(j, i, cm[i, j],\n",
    "                 horizontalalignment=\"center\",\n",
    "                 color=\"white\" if cm[i, j] > thresh else \"black\")\n",
    "\n",
    "    plt.tight_layout()\n",
    "    plt.ylabel('True label')\n",
    "    plt.xlabel('Predicted label')\n",
    "\n",
    "# Compute confusion matrix\n",
    "cnf_matrix = confusion_matrix(expected, predicted)\n",
    "np.set_printoptions(precision=2)\n",
    "\n",
    "# Plot non-normalized confusion matrix\n",
    "plt.figure()\n",
    "plot_confusion_matrix(cnf_matrix, classes=class_names,\n",
    "                      title='Confusion matrix, without normalization: Random Forest')\n",
    "\n",
    "plt.show()"
   ]
  },
  {
   "cell_type": "code",
   "execution_count": 19,
   "metadata": {
    "collapsed": false
   },
   "outputs": [
    {
     "ename": "AttributeError",
     "evalue": "'str' object has no attribute 'items'",
     "output_type": "error",
     "traceback": [
      "\u001b[0;31m---------------------------------------------------------------------------\u001b[0m",
      "\u001b[0;31mAttributeError\u001b[0m                            Traceback (most recent call last)",
      "\u001b[0;32m<ipython-input-19-532a9d992312>\u001b[0m in \u001b[0;36m<module>\u001b[0;34m()\u001b[0m\n\u001b[1;32m     38\u001b[0m \u001b[1;33m\u001b[0m\u001b[0m\n\u001b[1;32m     39\u001b[0m \u001b[1;32mfor\u001b[0m \u001b[0mmodel\u001b[0m \u001b[1;32min\u001b[0m \u001b[0mmodels\u001b[0m\u001b[1;33m:\u001b[0m\u001b[1;33m\u001b[0m\u001b[0m\n\u001b[0;32m---> 40\u001b[0;31m     \u001b[0mclf\u001b[0m \u001b[1;33m=\u001b[0m \u001b[0mGridSearchCV\u001b[0m\u001b[1;33m(\u001b[0m\u001b[0mmodel\u001b[0m\u001b[1;33m[\u001b[0m\u001b[1;36m0\u001b[0m\u001b[1;33m]\u001b[0m\u001b[1;33m,\u001b[0m \u001b[0mmodel\u001b[0m\u001b[1;33m[\u001b[0m\u001b[1;36m1\u001b[0m\u001b[1;33m]\u001b[0m\u001b[1;33m,\u001b[0m \u001b[0mcv\u001b[0m \u001b[1;33m=\u001b[0m \u001b[0mcv\u001b[0m\u001b[1;33m)\u001b[0m\u001b[1;33m\u001b[0m\u001b[0m\n\u001b[0m\u001b[1;32m     41\u001b[0m     \u001b[0mclf\u001b[0m\u001b[1;33m.\u001b[0m\u001b[0mfit\u001b[0m\u001b[1;33m(\u001b[0m\u001b[0mX_train\u001b[0m\u001b[1;33m,\u001b[0m \u001b[0my_train\u001b[0m\u001b[1;33m)\u001b[0m\u001b[1;33m\u001b[0m\u001b[0m\n\u001b[1;32m     42\u001b[0m     \u001b[0mbest_params\u001b[0m \u001b[1;33m=\u001b[0m \u001b[0mclf\u001b[0m\u001b[1;33m.\u001b[0m\u001b[0mbest_params_\u001b[0m\u001b[1;33m\u001b[0m\u001b[0m\n",
      "\u001b[0;32mC:\\Users\\dsaffo\\Anaconda3\\lib\\site-packages\\sklearn\\grid_search.py\u001b[0m in \u001b[0;36m__init__\u001b[0;34m(self, estimator, param_grid, scoring, fit_params, n_jobs, iid, refit, cv, verbose, pre_dispatch, error_score)\u001b[0m\n\u001b[1;32m    810\u001b[0m             refit, cv, verbose, pre_dispatch, error_score)\n\u001b[1;32m    811\u001b[0m         \u001b[0mself\u001b[0m\u001b[1;33m.\u001b[0m\u001b[0mparam_grid\u001b[0m \u001b[1;33m=\u001b[0m \u001b[0mparam_grid\u001b[0m\u001b[1;33m\u001b[0m\u001b[0m\n\u001b[0;32m--> 812\u001b[0;31m         \u001b[0m_check_param_grid\u001b[0m\u001b[1;33m(\u001b[0m\u001b[0mparam_grid\u001b[0m\u001b[1;33m)\u001b[0m\u001b[1;33m\u001b[0m\u001b[0m\n\u001b[0m\u001b[1;32m    813\u001b[0m \u001b[1;33m\u001b[0m\u001b[0m\n\u001b[1;32m    814\u001b[0m     \u001b[1;32mdef\u001b[0m \u001b[0mfit\u001b[0m\u001b[1;33m(\u001b[0m\u001b[0mself\u001b[0m\u001b[1;33m,\u001b[0m \u001b[0mX\u001b[0m\u001b[1;33m,\u001b[0m \u001b[0my\u001b[0m\u001b[1;33m=\u001b[0m\u001b[1;32mNone\u001b[0m\u001b[1;33m)\u001b[0m\u001b[1;33m:\u001b[0m\u001b[1;33m\u001b[0m\u001b[0m\n",
      "\u001b[0;32mC:\\Users\\dsaffo\\Anaconda3\\lib\\site-packages\\sklearn\\grid_search.py\u001b[0m in \u001b[0;36m_check_param_grid\u001b[0;34m(param_grid)\u001b[0m\n\u001b[1;32m    339\u001b[0m \u001b[1;33m\u001b[0m\u001b[0m\n\u001b[1;32m    340\u001b[0m     \u001b[1;32mfor\u001b[0m \u001b[0mp\u001b[0m \u001b[1;32min\u001b[0m \u001b[0mparam_grid\u001b[0m\u001b[1;33m:\u001b[0m\u001b[1;33m\u001b[0m\u001b[0m\n\u001b[0;32m--> 341\u001b[0;31m         \u001b[1;32mfor\u001b[0m \u001b[0mname\u001b[0m\u001b[1;33m,\u001b[0m \u001b[0mv\u001b[0m \u001b[1;32min\u001b[0m \u001b[0mp\u001b[0m\u001b[1;33m.\u001b[0m\u001b[0mitems\u001b[0m\u001b[1;33m(\u001b[0m\u001b[1;33m)\u001b[0m\u001b[1;33m:\u001b[0m\u001b[1;33m\u001b[0m\u001b[0m\n\u001b[0m\u001b[1;32m    342\u001b[0m             \u001b[1;32mif\u001b[0m \u001b[0misinstance\u001b[0m\u001b[1;33m(\u001b[0m\u001b[0mv\u001b[0m\u001b[1;33m,\u001b[0m \u001b[0mnp\u001b[0m\u001b[1;33m.\u001b[0m\u001b[0mndarray\u001b[0m\u001b[1;33m)\u001b[0m \u001b[1;32mand\u001b[0m \u001b[0mv\u001b[0m\u001b[1;33m.\u001b[0m\u001b[0mndim\u001b[0m \u001b[1;33m>\u001b[0m \u001b[1;36m1\u001b[0m\u001b[1;33m:\u001b[0m\u001b[1;33m\u001b[0m\u001b[0m\n\u001b[1;32m    343\u001b[0m                 \u001b[1;32mraise\u001b[0m \u001b[0mValueError\u001b[0m\u001b[1;33m(\u001b[0m\u001b[1;34m\"Parameter array should be one-dimensional.\"\u001b[0m\u001b[1;33m)\u001b[0m\u001b[1;33m\u001b[0m\u001b[0m\n",
      "\u001b[0;31mAttributeError\u001b[0m: 'str' object has no attribute 'items'"
     ]
    }
   ],
   "source": [
    "\n",
    "# Different models to try\n",
    "#       Model name ---------------------------------------------------------------------\n",
    "#      Parameters ------------------------------------------                           |\n",
    "#     Classifier -----------                               |                           |\n",
    "#                          |                               |                           |\n",
    "#                          v                               v                           |\n",
    "models = [#[tree.DecisionTreeClassifier(), {'min_samples_split': [2, 4, 6, 8, 10],#    |\n",
    "#                                            'min_samples_leaf': [1, 5, 10, 15, 20],#     v\n",
    "#                                            'max_depth': [10, 20, 30, 40, 50]},       \"Decision Tree\"]\n",
    "          ]\n",
    "\n",
    "# models.append([linear_model.LogisticRegression(), {'C': [1e+4, 1e+3, 1e+2, 1e+1, 1, 1e-1, 1e-2, 1e-3, 1e-4, 1e-5]}, \"Logistic Regression with Ridge Penalty\"])\n",
    "\n",
    "# models.append([linear_model.LogisticRegression(penalty='l1'), {'C': [100, 10, 1, 1e-1, 1e-2, 1e-3, 1e-4, 1e-5]}, \"Logistic Regression with Lasso Penalty\"])\n",
    "\n",
    "# LinearSVC\n",
    "#models.append([svm.SVC(kernel='rbf', class_weight={1:10,9:1}), {#'kernel': ['rbf'], # class_weight=\"balanced\"; tol\n",
    "                          # 'gamma': [1e+4, 1e+3, 1e+2, 1e+1, 1, 1e-1, 1e-2, 1e-3, 1e-4, 1e-5, 1e-6], \n",
    "                           #'C': [1e+4, 1e+3, 1e+2, 1e+1, 1, 1e-1, 1e-2, 1e-3, 1e-4, 1e-5, 1e-6]}, \"SVM rbf\"])\n",
    "#models.append([neighbors.KNeighborsClassifier(), {'n_neighbors': [1, 3, 5, 7, 9, 11, 13, 15]}, \"K-Nearest Neighbors\"])\n",
    "\n",
    "\n",
    "\n",
    "\n",
    "\n",
    "models.append([RandomForestClassifier(), \"Random Forest\"])\n",
    "\n",
    "models_with_best_params = []\n",
    "\n",
    "# cross-validation strategy\n",
    "cv = 10 # for 10-folds cross-validation\n",
    "\n",
    "# Leave One Group Out\n",
    "logo = LeaveOneGroupOut()\n",
    "cv = logo.get_n_splits(X_train,y_train,groups)\n",
    "\n",
    "\n",
    "for model in models:\n",
    "    clf = GridSearchCV(model[0], model[1], cv = 5)\n",
    "    clf.fit(X_train, y_train)\n",
    "    best_params = clf.best_params_\n",
    "    best_estimator = clf.best_estimator_\n",
    "    \n",
    "    model_with_best_params = [best_estimator, best_params, model[2]]\n",
    "    \n",
    "    models_with_best_params.append(model_with_best_params)\n",
    "    \n",
    "    print(model[2], \": \")\n",
    "    print(\"Best score for \", model[2], \":\", clf.best_score_)\n",
    "    print()\n",
    "    print(\"Best parameters for \", model[2], \" found on development set:\", best_params)\n",
    "    print()\n",
    "    print(\"Best estimator for \", model[2], \" model:\", best_estimator)\n",
    "    print()\n",
    "    print()\n",
    "\n",
    "    print(\"Grid scores on development set:\")\n",
    "    print()\n",
    "    for params, mean_score, scores in clf.grid_scores_:\n",
    "        print(\"%0.3f (+/-%0.03f) for %r\"\n",
    "              % (mean_score, scores.std() * 2, params))\n",
    "    print()\n",
    "\n",
    "print(models_with_best_params)\n",
    "\n"
   ]
  },
  {
   "cell_type": "code",
   "execution_count": 13,
   "metadata": {
    "collapsed": false
   },
   "outputs": [
    {
     "name": "stdout",
     "output_type": "stream",
     "text": [
      "Prediction accuracy for Random Forest model is 0.925\n",
      "Classification report for classifier RandomForestClassifier(bootstrap=True, class_weight=None, criterion='gini',\n",
      "            max_depth=None, max_features='auto', max_leaf_nodes=None,\n",
      "            min_impurity_split=1e-07, min_samples_leaf=1,\n",
      "            min_samples_split=2, min_weight_fraction_leaf=0.0,\n",
      "            n_estimators=60, n_jobs=1, oob_score=False, random_state=None,\n",
      "            verbose=0, warm_start=False):\n",
      "             precision    recall  f1-score   support\n",
      "\n",
      "   climbing    1.00000   0.66667   0.80000         6\n",
      "    running    0.88462   1.00000   0.93878        23\n",
      "    sitting    1.00000   0.87500   0.93333        24\n",
      "   sleeping    1.00000   1.00000   1.00000        19\n",
      "   standing    0.87500   1.00000   0.93333        21\n",
      "    walking    0.88462   0.85185   0.86792        27\n",
      "\n",
      "avg / total    0.93005   0.92500   0.92355       120\n",
      "\n",
      "\n",
      "Confusion matrix:\n",
      "[[ 4  0  0  0  0  2]\n",
      " [ 0 23  0  0  0  0]\n",
      " [ 0  0 21  0  2  1]\n",
      " [ 0  0  0 19  0  0]\n",
      " [ 0  0  0  0 21  0]\n",
      " [ 0  3  0  0  1 23]]\n"
     ]
    }
   ],
   "source": [
    "for model in models_with_best_params:\n",
    "    classifier = model[0]\n",
    "    classifier.fit(X_train, y_train)\n",
    "    score = classifier.score(X_test, y_test)\n",
    "    print(\"Prediction accuracy for\", model[2], \"model is\", score)\n",
    "    expected = y_test\n",
    "    predicted = classifier.predict(X_test)\n",
    "\n",
    "    print(\"Classification report for classifier %s:\\n%s\\n\"\n",
    "      % (classifier, metrics.classification_report(expected, predicted, digits=5)))\n",
    "    print(\"Confusion matrix:\\n%s\" % metrics.confusion_matrix(expected, predicted))"
   ]
  }
 ],
 "metadata": {
  "kernelspec": {
   "display_name": "Python 3",
   "language": "python",
   "name": "python3"
  },
  "language_info": {
   "codemirror_mode": {
    "name": "ipython",
    "version": 3
   },
   "file_extension": ".py",
   "mimetype": "text/x-python",
   "name": "python",
   "nbconvert_exporter": "python",
   "pygments_lexer": "ipython3",
   "version": "3.6.0"
  }
 },
 "nbformat": 4,
 "nbformat_minor": 1
}
