{
 "cells": [
  {
   "cell_type": "code",
   "execution_count": 17,
   "metadata": {
    "collapsed": false
   },
   "outputs": [],
   "source": [
    "import pandas as pd\n",
    "import numpy as np\n",
    "import matplotlib.pyplot as plt\n",
    "\n",
    "%matplotlib inline"
   ]
  },
  {
   "cell_type": "code",
   "execution_count": 2,
   "metadata": {
    "collapsed": true
   },
   "outputs": [],
   "source": [
    "giaSitting = pd.read_csv(\"Gia Sitting.csv\", header = None, skiprows = 2)\n",
    "giaStanding = pd.read_csv(\"Gia Standing.csv\", header = None, skiprows = 2)"
   ]
  },
  {
   "cell_type": "code",
   "execution_count": 3,
   "metadata": {
    "collapsed": true
   },
   "outputs": [],
   "source": [
    "def createDF(sub, act, data):\n",
    "    data = data.drop(4,1)\n",
    "    x = 0\n",
    "    i = 0\n",
    "    array = []\n",
    "    d = []\n",
    "    for index, row in data.iterrows():\n",
    "        if (data.iloc[index,0] %2 != 0):\n",
    "            array.append([data.iloc[index,1],data.iloc[index,2],data.iloc[index,3]])\n",
    "        elif (data.iloc[index,0] % 2 == 0):\n",
    "            d.append([sub , act, array])\n",
    "            array = []\n",
    "            i+=1\n",
    "\n",
    "    d.pop(0)\n",
    "    d.pop(-1)\n",
    "    d.pop(-2)\n",
    "\n",
    "    dftest = pd.DataFrame(d)\n",
    "    \n",
    "    return dftest"
   ]
  },
  {
   "cell_type": "code",
   "execution_count": 9,
   "metadata": {
    "collapsed": false
   },
   "outputs": [],
   "source": [
    "df_sit = createDF(\"gia\", \"sitting\", giaSitting)\n",
    "df_stand = createDF(\"gia\", \"standing\", giaStanding)\n"
   ]
  },
  {
   "cell_type": "code",
   "execution_count": 8,
   "metadata": {
    "collapsed": false
   },
   "outputs": [
    {
     "data": {
      "text/html": [
       "<div>\n",
       "<table border=\"1\" class=\"dataframe\">\n",
       "  <thead>\n",
       "    <tr style=\"text-align: right;\">\n",
       "      <th></th>\n",
       "      <th>0</th>\n",
       "      <th>1</th>\n",
       "      <th>2</th>\n",
       "    </tr>\n",
       "  </thead>\n",
       "  <tbody>\n",
       "    <tr>\n",
       "      <th>0</th>\n",
       "      <td>gia</td>\n",
       "      <td>sitting</td>\n",
       "      <td>[[-9.2, -1.4, -3.4], [-9.2, -1.4, -3.4], [-9.2...</td>\n",
       "    </tr>\n",
       "    <tr>\n",
       "      <th>1</th>\n",
       "      <td>gia</td>\n",
       "      <td>sitting</td>\n",
       "      <td>[[-9.0, -1.0, -1.2], [-9.0, -1.0, -1.2], [-9.0...</td>\n",
       "    </tr>\n",
       "    <tr>\n",
       "      <th>2</th>\n",
       "      <td>gia</td>\n",
       "      <td>sitting</td>\n",
       "      <td>[[-12.6, -0.3, 0.2], [-10.5, 2.0, -0.3], [-10....</td>\n",
       "    </tr>\n",
       "    <tr>\n",
       "      <th>3</th>\n",
       "      <td>gia</td>\n",
       "      <td>sitting</td>\n",
       "      <td>[[-10.0, 0.2, -1.3], [-10.0, 0.2, -1.3], [-10....</td>\n",
       "    </tr>\n",
       "    <tr>\n",
       "      <th>4</th>\n",
       "      <td>gia</td>\n",
       "      <td>sitting</td>\n",
       "      <td>[[-9.8, -0.1, -1.3], [-9.8, -0.1, -1.3], [-9.8...</td>\n",
       "    </tr>\n",
       "  </tbody>\n",
       "</table>\n",
       "</div>"
      ],
      "text/plain": [
       "     0        1                                                  2\n",
       "0  gia  sitting  [[-9.2, -1.4, -3.4], [-9.2, -1.4, -3.4], [-9.2...\n",
       "1  gia  sitting  [[-9.0, -1.0, -1.2], [-9.0, -1.0, -1.2], [-9.0...\n",
       "2  gia  sitting  [[-12.6, -0.3, 0.2], [-10.5, 2.0, -0.3], [-10....\n",
       "3  gia  sitting  [[-10.0, 0.2, -1.3], [-10.0, 0.2, -1.3], [-10....\n",
       "4  gia  sitting  [[-9.8, -0.1, -1.3], [-9.8, -0.1, -1.3], [-9.8..."
      ]
     },
     "execution_count": 8,
     "metadata": {},
     "output_type": "execute_result"
    }
   ],
   "source": [
    "temp = []\n",
    "tempx = []\n",
    "tempy = []\n",
    "tempz = []\n",
    "x = []\n",
    "y = []\n",
    "z = []\n",
    "for i in range(len(df)):\n",
    "    temp = df.iloc[i,2]\n",
    "    for j in range(len(temp)):\n",
    "        tempx.append(temp[j][0])\n",
    "        tempy.append(temp[j][1])\n",
    "        tempz.append(temp[j][2])\n",
    "    x.append(min(tempx))\n",
    "    y.append(min(tempy))\n",
    "    z.append(min(tempz))\n",
    "    tempx = []\n",
    "    tempy = []\n",
    "    tempz = []\n",
    "\n",
    "df.insert(14, \"x min\", x)\n",
    "df.insert(15, \"y min\", y)\n",
    "df.insert(16, \"z min\", z)"
   ]
  },
  {
   "cell_type": "code",
   "execution_count": 21,
   "metadata": {
    "collapsed": true
   },
   "outputs": [],
   "source": [
    "sitting_clip = df_sit.iloc[5,2]\n",
    "standing_clip = df_stand.iloc[5,2]"
   ]
  },
  {
   "cell_type": "code",
   "execution_count": 22,
   "metadata": {
    "collapsed": false
   },
   "outputs": [
    {
     "name": "stderr",
     "output_type": "stream",
     "text": [
      "C:\\Users\\dsaffo\\Anaconda3\\lib\\site-packages\\ipykernel\\__main__.py:2: MatplotlibDeprecationWarning: pyplot.hold is deprecated.\n",
      "    Future behavior will be consistent with the long-time default:\n",
      "    plot commands add elements without first clearing the\n",
      "    Axes and/or Figure.\n",
      "  from ipykernel import kernelapp as app\n",
      "C:\\Users\\dsaffo\\Anaconda3\\lib\\site-packages\\matplotlib\\__init__.py:917: UserWarning: axes.hold is deprecated. Please remove it from your matplotlibrc and/or style files.\n",
      "  warnings.warn(self.msg_depr_set % key)\n",
      "C:\\Users\\dsaffo\\Anaconda3\\lib\\site-packages\\matplotlib\\rcsetup.py:152: UserWarning: axes.hold is deprecated, will be removed in 3.0\n",
      "  warnings.warn(\"axes.hold is deprecated, will be removed in 3.0\")\n",
      "C:\\Users\\dsaffo\\Anaconda3\\lib\\site-packages\\ipykernel\\__main__.py:6: MatplotlibDeprecationWarning: pyplot.hold is deprecated.\n",
      "    Future behavior will be consistent with the long-time default:\n",
      "    plot commands add elements without first clearing the\n",
      "    Axes and/or Figure.\n"
     ]
    },
    {
     "data": {
      "image/png": "[encoded data removed]",
      "text/plain": [
       "<matplotlib.figure.Figure at 0x1676ed02048>"
      ]
     },
     "metadata": {},
     "output_type": "display_data"
    }
   ],
   "source": [
    "t_sit = range(len(sitting_clip))\n",
    "plt.hold('on')\n",
    "plt.plot(t_sit, [i[0] for i in sitting_clip], t_sit, [i[1] for i in sitting_clip], t_sit, [i[2] for i in sitting_clip])\n",
    "plt.legend(['x', 'y', 'z'])\n",
    "plt.title('sitting')\n",
    "plt.hold('off')\n"
   ]
  },
  {
   "cell_type": "code",
   "execution_count": 23,
   "metadata": {
    "collapsed": false
   },
   "outputs": [
    {
     "name": "stderr",
     "output_type": "stream",
     "text": [
      "C:\\Users\\dsaffo\\Anaconda3\\lib\\site-packages\\ipykernel\\__main__.py:3: MatplotlibDeprecationWarning: pyplot.hold is deprecated.\n",
      "    Future behavior will be consistent with the long-time default:\n",
      "    plot commands add elements without first clearing the\n",
      "    Axes and/or Figure.\n",
      "  app.launch_new_instance()\n",
      "C:\\Users\\dsaffo\\Anaconda3\\lib\\site-packages\\matplotlib\\__init__.py:917: UserWarning: axes.hold is deprecated. Please remove it from your matplotlibrc and/or style files.\n",
      "  warnings.warn(self.msg_depr_set % key)\n",
      "C:\\Users\\dsaffo\\Anaconda3\\lib\\site-packages\\matplotlib\\rcsetup.py:152: UserWarning: axes.hold is deprecated, will be removed in 3.0\n",
      "  warnings.warn(\"axes.hold is deprecated, will be removed in 3.0\")\n",
      "C:\\Users\\dsaffo\\Anaconda3\\lib\\site-packages\\ipykernel\\__main__.py:7: MatplotlibDeprecationWarning: pyplot.hold is deprecated.\n",
      "    Future behavior will be consistent with the long-time default:\n",
      "    plot commands add elements without first clearing the\n",
      "    Axes and/or Figure.\n"
     ]
    },
    {
     "data": {
      "image/png": "[encoded data removed]",
      "text/plain": [
       "<matplotlib.figure.Figure at 0x1676edaccf8>"
      ]
     },
     "metadata": {},
     "output_type": "display_data"
    }
   ],
   "source": [
    "\n",
    "t_stand = range(len(standing_clip))\n",
    "plt.hold('on')\n",
    "plt.plot(t_stand, [i[0] for i in standing_clip], t_stand, [i[1] for i in standing_clip], t_stand, [i[2] for i in standing_clip])\n",
    "plt.legend(['x', 'y', 'z'])\n",
    "plt.title('standing')\n",
    "plt.hold('off')"
   ]
  },
  {
   "cell_type": "code",
   "execution_count": null,
   "metadata": {
    "collapsed": true
   },
   "outputs": [],
   "source": []
  },
  {
   "cell_type": "code",
   "execution_count": null,
   "metadata": {
    "collapsed": true
   },
   "outputs": [],
   "source": []
  }
 ],
 "metadata": {
  "kernelspec": {
   "display_name": "Python 3",
   "language": "python",
   "name": "python3"
  },
  "language_info": {
   "codemirror_mode": {
    "name": "ipython",
    "version": 3
   },
   "file_extension": ".py",
   "mimetype": "text/x-python",
   "name": "python",
   "nbconvert_exporter": "python",
   "pygments_lexer": "ipython3",
   "version": "3.6.0"
  }
 },
 "nbformat": 4,
 "nbformat_minor": 2
}
