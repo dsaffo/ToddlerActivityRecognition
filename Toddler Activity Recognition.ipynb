{
 "cells": [
  {
   "cell_type": "code",
   "execution_count": 79,
   "metadata": {
    "collapsed": false
   },
   "outputs": [],
   "source": [
    "import pandas as pd\n",
    "import numpy as np\n",
    "import itertools\n",
    "from sklearn.model_selection import train_test_split\n",
    "from sklearn import metrics\n",
    "from sklearn.neighbors import KNeighborsClassifier\n",
    "from sklearn.ensemble import RandomForestClassifier\n",
    "from sklearn.metrics import accuracy_score\n",
    "from sklearn.metrics import f1_score\n",
    "import matplotlib.pyplot as plt\n",
    "from sklearn.metrics import confusion_matrix\n",
    "from sklearn.utils import shuffle\n",
    "from sklearn.model_selection import LeaveOneGroupOut\n",
    "from sklearn import metrics, svm, neighbors, linear_model, tree\n",
    "from sklearn.grid_search import GridSearchCV\n",
    "from sklearn.tree import DecisionTreeRegressor\n",
    "from sklearn.ensemble import BaggingClassifier\n",
    "from sklearn.ensemble import RandomForestClassifier\n",
    "%matplotlib inline"
   ]
  },
  {
   "cell_type": "code",
   "execution_count": 80,
   "metadata": {
    "collapsed": false
   },
   "outputs": [],
   "source": [
    "df = pd.read_csv(\"SimTodActData.csv\")\n",
    "df = df.drop(\"Unnamed: 0\", 1)\n",
    "df=df.rename(columns = {'0':'subject', '1':'activity', '2':'raw acc data'})"
   ]
  },
  {
   "cell_type": "code",
   "execution_count": 81,
   "metadata": {
    "collapsed": false
   },
   "outputs": [
    {
     "data": {
      "text/html": [
       "<div>\n",
       "<table border=\"1\" class=\"dataframe\">\n",
       "  <thead>\n",
       "    <tr style=\"text-align: right;\">\n",
       "      <th></th>\n",
       "      <th>subject</th>\n",
       "      <th>activity</th>\n",
       "      <th>raw acc data</th>\n",
       "      <th>magnitude</th>\n",
       "      <th>max</th>\n",
       "      <th>min</th>\n",
       "      <th>std</th>\n",
       "      <th>skew</th>\n",
       "      <th>kurtosis</th>\n",
       "      <th>mean</th>\n",
       "      <th>...</th>\n",
       "      <th>z skew</th>\n",
       "      <th>x kurtosis</th>\n",
       "      <th>y kurtosis</th>\n",
       "      <th>z kurtosis</th>\n",
       "      <th>x std</th>\n",
       "      <th>y std</th>\n",
       "      <th>z std</th>\n",
       "      <th>xy mean</th>\n",
       "      <th>yz mean</th>\n",
       "      <th>xz mean</th>\n",
       "    </tr>\n",
       "  </thead>\n",
       "  <tbody>\n",
       "    <tr>\n",
       "      <th>0</th>\n",
       "      <td>gia</td>\n",
       "      <td>walking</td>\n",
       "      <td>[[-9.8000000000000007, 0.29999999999999999, -1...</td>\n",
       "      <td>[9.918669265581952, 9.918669265581952, 9.91866...</td>\n",
       "      <td>14.342245</td>\n",
       "      <td>7.056203</td>\n",
       "      <td>1.153909</td>\n",
       "      <td>0.765104</td>\n",
       "      <td>4.308712</td>\n",
       "      <td>10.103423</td>\n",
       "      <td>...</td>\n",
       "      <td>-0.958296</td>\n",
       "      <td>4.834692</td>\n",
       "      <td>4.085765</td>\n",
       "      <td>1.460693</td>\n",
       "      <td>1.204284</td>\n",
       "      <td>1.099321</td>\n",
       "      <td>0.682528</td>\n",
       "      <td>-5.076834</td>\n",
       "      <td>-0.512111</td>\n",
       "      <td>16.161558</td>\n",
       "    </tr>\n",
       "    <tr>\n",
       "      <th>1</th>\n",
       "      <td>gia</td>\n",
       "      <td>walking</td>\n",
       "      <td>[[-10.9, 0.20000000000000001, -1.2], [-9.90000...</td>\n",
       "      <td>[10.96767979109529, 10.144456614328833, 10.144...</td>\n",
       "      <td>17.623564</td>\n",
       "      <td>5.989157</td>\n",
       "      <td>2.539697</td>\n",
       "      <td>0.793941</td>\n",
       "      <td>0.369980</td>\n",
       "      <td>10.294204</td>\n",
       "      <td>...</td>\n",
       "      <td>-0.456637</td>\n",
       "      <td>1.420196</td>\n",
       "      <td>1.369993</td>\n",
       "      <td>-0.315002</td>\n",
       "      <td>2.404669</td>\n",
       "      <td>2.229920</td>\n",
       "      <td>1.796619</td>\n",
       "      <td>-3.229899</td>\n",
       "      <td>-0.526181</td>\n",
       "      <td>23.154322</td>\n",
       "    </tr>\n",
       "    <tr>\n",
       "      <th>2</th>\n",
       "      <td>gia</td>\n",
       "      <td>walking</td>\n",
       "      <td>[[-8.5, -4.4000000000000004, -3.5], [-8.5, -4....</td>\n",
       "      <td>[10.191172650877817, 10.191172650877817, 10.19...</td>\n",
       "      <td>19.783074</td>\n",
       "      <td>7.156815</td>\n",
       "      <td>2.980663</td>\n",
       "      <td>1.883973</td>\n",
       "      <td>3.243430</td>\n",
       "      <td>10.325923</td>\n",
       "      <td>...</td>\n",
       "      <td>-1.361813</td>\n",
       "      <td>1.634786</td>\n",
       "      <td>0.683003</td>\n",
       "      <td>2.046856</td>\n",
       "      <td>2.649007</td>\n",
       "      <td>2.882193</td>\n",
       "      <td>2.197824</td>\n",
       "      <td>-3.538241</td>\n",
       "      <td>-1.346332</td>\n",
       "      <td>25.069799</td>\n",
       "    </tr>\n",
       "    <tr>\n",
       "      <th>3</th>\n",
       "      <td>gia</td>\n",
       "      <td>walking</td>\n",
       "      <td>[[-7.2000000000000002, 0.0, -1.2], [-7.2000000...</td>\n",
       "      <td>[7.299315036357863, 7.299315036357863, 7.29931...</td>\n",
       "      <td>20.592474</td>\n",
       "      <td>6.953416</td>\n",
       "      <td>3.096813</td>\n",
       "      <td>1.265939</td>\n",
       "      <td>1.202015</td>\n",
       "      <td>10.695082</td>\n",
       "      <td>...</td>\n",
       "      <td>-0.832902</td>\n",
       "      <td>2.479632</td>\n",
       "      <td>1.038908</td>\n",
       "      <td>0.454232</td>\n",
       "      <td>2.830061</td>\n",
       "      <td>2.743193</td>\n",
       "      <td>2.133902</td>\n",
       "      <td>-3.714523</td>\n",
       "      <td>-0.479246</td>\n",
       "      <td>24.624523</td>\n",
       "    </tr>\n",
       "    <tr>\n",
       "      <th>4</th>\n",
       "      <td>gia</td>\n",
       "      <td>walking</td>\n",
       "      <td>[[-7.2999999999999998, 3.1000000000000001, -2....</td>\n",
       "      <td>[8.179242018671413, 8.275868534480233, 8.27586...</td>\n",
       "      <td>22.588935</td>\n",
       "      <td>7.097183</td>\n",
       "      <td>2.874046</td>\n",
       "      <td>2.321100</td>\n",
       "      <td>6.854679</td>\n",
       "      <td>10.447635</td>\n",
       "      <td>...</td>\n",
       "      <td>-0.821070</td>\n",
       "      <td>3.959701</td>\n",
       "      <td>1.671694</td>\n",
       "      <td>0.469151</td>\n",
       "      <td>2.539729</td>\n",
       "      <td>2.612113</td>\n",
       "      <td>1.971313</td>\n",
       "      <td>3.635025</td>\n",
       "      <td>1.940151</td>\n",
       "      <td>27.191206</td>\n",
       "    </tr>\n",
       "  </tbody>\n",
       "</table>\n",
       "<p>5 rows × 35 columns</p>\n",
       "</div>"
      ],
      "text/plain": [
       "  subject activity                                       raw acc data  \\\n",
       "0     gia  walking  [[-9.8000000000000007, 0.29999999999999999, -1...   \n",
       "1     gia  walking  [[-10.9, 0.20000000000000001, -1.2], [-9.90000...   \n",
       "2     gia  walking  [[-8.5, -4.4000000000000004, -3.5], [-8.5, -4....   \n",
       "3     gia  walking  [[-7.2000000000000002, 0.0, -1.2], [-7.2000000...   \n",
       "4     gia  walking  [[-7.2999999999999998, 3.1000000000000001, -2....   \n",
       "\n",
       "                                           magnitude        max       min  \\\n",
       "0  [9.918669265581952, 9.918669265581952, 9.91866...  14.342245  7.056203   \n",
       "1  [10.96767979109529, 10.144456614328833, 10.144...  17.623564  5.989157   \n",
       "2  [10.191172650877817, 10.191172650877817, 10.19...  19.783074  7.156815   \n",
       "3  [7.299315036357863, 7.299315036357863, 7.29931...  20.592474  6.953416   \n",
       "4  [8.179242018671413, 8.275868534480233, 8.27586...  22.588935  7.097183   \n",
       "\n",
       "        std      skew  kurtosis       mean    ...        z skew  x kurtosis  \\\n",
       "0  1.153909  0.765104  4.308712  10.103423    ...     -0.958296    4.834692   \n",
       "1  2.539697  0.793941  0.369980  10.294204    ...     -0.456637    1.420196   \n",
       "2  2.980663  1.883973  3.243430  10.325923    ...     -1.361813    1.634786   \n",
       "3  3.096813  1.265939  1.202015  10.695082    ...     -0.832902    2.479632   \n",
       "4  2.874046  2.321100  6.854679  10.447635    ...     -0.821070    3.959701   \n",
       "\n",
       "   y kurtosis  z kurtosis     x std     y std     z std   xy mean   yz mean  \\\n",
       "0    4.085765    1.460693  1.204284  1.099321  0.682528 -5.076834 -0.512111   \n",
       "1    1.369993   -0.315002  2.404669  2.229920  1.796619 -3.229899 -0.526181   \n",
       "2    0.683003    2.046856  2.649007  2.882193  2.197824 -3.538241 -1.346332   \n",
       "3    1.038908    0.454232  2.830061  2.743193  2.133902 -3.714523 -0.479246   \n",
       "4    1.671694    0.469151  2.539729  2.612113  1.971313  3.635025  1.940151   \n",
       "\n",
       "     xz mean  \n",
       "0  16.161558  \n",
       "1  23.154322  \n",
       "2  25.069799  \n",
       "3  24.624523  \n",
       "4  27.191206  \n",
       "\n",
       "[5 rows x 35 columns]"
      ]
     },
     "execution_count": 81,
     "metadata": {},
     "output_type": "execute_result"
    }
   ],
   "source": [
    "df.head()"
   ]
  },
  {
   "cell_type": "code",
   "execution_count": null,
   "metadata": {
    "collapsed": true
   },
   "outputs": [],
   "source": []
  },
  {
   "cell_type": "code",
   "execution_count": 113,
   "metadata": {
    "collapsed": true
   },
   "outputs": [],
   "source": [
    "Y = df['activity']\n",
    "features = ['max', 'min', 'std', 'skew', 'mean', 'median', 'x max', 'y max', 'z max', 'x min', 'y min', 'z min', 'x mean', 'y mean', 'z mean', 'x median', 'y median', 'z median', 'x skew', 'y skew', 'z skew', 'x std', 'y std', 'z std',  'xy mean', 'yz mean', 'xz mean']\n",
    "X = df[features]\n",
    "groups = ['subject']"
   ]
  },
  {
   "cell_type": "code",
   "execution_count": 111,
   "metadata": {
    "collapsed": false
   },
   "outputs": [
    {
     "name": "stdout",
     "output_type": "stream",
     "text": [
      "Train Set Size:  808\n",
      "Test Set Size:  347\n"
     ]
    }
   ],
   "source": [
    "X_train, X_test, y_train, y_test = train_test_split(X, Y, test_size=0.30, random_state=42)\n",
    "print(\"Train Set Size: \", len(X_train))\n",
    "print(\"Test Set Size: \", len(X_test))"
   ]
  },
  {
   "cell_type": "code",
   "execution_count": 109,
   "metadata": {
    "collapsed": false
   },
   "outputs": [
    {
     "name": "stdout",
     "output_type": "stream",
     "text": [
      "Feature ranking:\n",
      "feature (1, 'max', 0.074772879715919519)\n",
      "feature (2, 'min', 0.071152955604755166)\n",
      "feature (3, 'std', 0.066371000502392058)\n",
      "feature (4, 'skew', 0.063814825788220966)\n",
      "feature (5, 'mean', 0.05889473894121746)\n",
      "feature (6, 'median', 0.055489037247620679)\n",
      "feature (7, 'x max', 0.047430220418698321)\n",
      "feature (8, 'y max', 0.045090445947521637)\n",
      "feature (9, 'z max', 0.043706701842782913)\n",
      "feature (10, 'x min', 0.043524829436590563)\n",
      "feature (11, 'y min', 0.038369708696991738)\n",
      "feature (12, 'z min', 0.038115291687134463)\n",
      "feature (13, 'x mean', 0.037131037675234638)\n",
      "feature (14, 'y mean', 0.033357324146369952)\n",
      "feature (15, 'z mean', 0.032597625598454701)\n",
      "feature (16, 'x median', 0.028602070650471365)\n",
      "feature (17, 'y median', 0.028266966231831094)\n",
      "feature (18, 'z median', 0.025373616202786435)\n",
      "feature (19, 'x skew', 0.024622100673795957)\n",
      "feature (20, 'y skew', 0.021847952907582267)\n",
      "feature (21, 'z skew', 0.020396123131957915)\n",
      "feature (22, 'x std', 0.020212383586244373)\n",
      "feature (23, 'y std', 0.020172093081457766)\n",
      "feature (24, 'z std', 0.020094419865669223)\n",
      "feature (25, 'xy mean', 0.017106404756505274)\n",
      "feature (26, 'yz mean', 0.012583076724941501)\n",
      "feature (27, 'xz mean', 0.010904168936852022)\n"
     ]
    },
    {
     "data": {
      "image/png": "[encoded data removed]",
      "text/plain": [
       "<matplotlib.figure.Figure at 0x1599ee195f8>"
      ]
     },
     "metadata": {},
     "output_type": "display_data"
    }
   ],
   "source": [
    "# features analysis\n",
    "from sklearn.ensemble import ExtraTreesClassifier\n",
    "\n",
    "forest = ExtraTreesClassifier(n_estimators=250,\n",
    "                              random_state=0)\n",
    "\n",
    "X = X_train\n",
    "Y = y_train\n",
    "\n",
    "forest.fit(X, Y)\n",
    "importances = forest.feature_importances_\n",
    "std = np.std([tree.feature_importances_ for tree in forest.estimators_],\n",
    "             axis=0)\n",
    "indices = np.argsort(importances)[::-1]\n",
    "\n",
    "# Print the feature ranking\n",
    "print(\"Feature ranking:\")\n",
    "\n",
    "for f in range(X.shape[1]):\n",
    "    print(\"feature\" , (f + 1, features[f], importances[indices[f]]))\n",
    "\n",
    "# Plot the feature importances of the forest\n",
    "plt.figure()\n",
    "plt.title(\"Feature importances\")\n",
    "plt.bar(range(X.shape[1]), importances[indices],\n",
    "       color=\"r\", yerr=std[indices], align=\"center\")\n",
    "plt.xticks(range(X.shape[1]), indices)\n",
    "plt.xlim([-1, X.shape[1]])\n",
    "plt.show()"
   ]
  },
  {
   "cell_type": "raw",
   "metadata": {},
   "source": [
    "# normalize feature importances\n",
    "\n",
    "importances = np.array(importances)\n",
    "importances /= importances.max()\n",
    "\n",
    "for f in range(X.shape[1]):\n",
    "    print(\"%d. feature %d (%f)\" % (f + 1, indices[f], importances[indices[f]]))\n",
    "\n",
    "# Plot the feature importances of the forest\n",
    "plt.figure()\n",
    "plt.title(\"Feature importances\")\n",
    "plt.bar(range(X.shape[1]), importances[indices],\n",
    "       color=\"r\", yerr=std[indices], align=\"center\")\n",
    "plt.xticks(range(X.shape[1]), indices)\n",
    "plt.xlim([-1, X.shape[1]])\n",
    "plt.show()"
   ]
  },
  {
   "cell_type": "raw",
   "metadata": {},
   "source": [
    "# select features > 10 % importance\n",
    "features = [i for i,j in zip(features,importances) if j > 0.3]\n",
    "\n",
    "print (\"Selected number of features: %d\" % len(features))\n",
    "\n",
    "for f in range(len(features)):\n",
    "    print(\"%d. feature %d (%f)\" % (f + 1, indices[f], importances[indices[f]]))"
   ]
  },
  {
   "cell_type": "code",
   "execution_count": 112,
   "metadata": {
    "collapsed": false
   },
   "outputs": [
    {
     "name": "stdout",
     "output_type": "stream",
     "text": [
      "[0.88472622478386165, 19]\n"
     ]
    },
    {
     "data": {
      "image/png": "[encoded data removed]",
      "text/plain": [
       "<matplotlib.figure.Figure at 0x1599eaa8e80>"
      ]
     },
     "metadata": {},
     "output_type": "display_data"
    }
   ],
   "source": [
    "nResult= []\n",
    "for n in range(1, 100,1):\n",
    "    model = RandomForestClassifier(n_estimators = n)\n",
    "    model.fit(X_train, y_train)\n",
    "\n",
    "    expected = y_test\n",
    "    predicted = model.predict(X_test)\n",
    "    acc = accuracy_score(expected, predicted)\n",
    "\n",
    "\n",
    "    nResult.append([acc,n])\n",
    "print(max(nResult))\n",
    "#plotting peak k value preformance \n",
    "nResult = pd.DataFrame(nResult, columns=[\"n\", \"acc\"])\n",
    "plt.plot(nResult.acc, nResult.n)\n",
    "plt.title(\"Accuracy with n\")\n",
    "plt.show()"
   ]
  },
  {
   "cell_type": "code",
   "execution_count": 105,
   "metadata": {
    "collapsed": false
   },
   "outputs": [
    {
     "data": {
      "text/plain": [
       "RandomForestClassifier(bootstrap=True, class_weight=None, criterion='gini',\n",
       "            max_depth=None, max_features='auto', max_leaf_nodes=None,\n",
       "            min_impurity_split=1e-07, min_samples_leaf=1,\n",
       "            min_samples_split=2, min_weight_fraction_leaf=0.0,\n",
       "            n_estimators=74, n_jobs=1, oob_score=False, random_state=None,\n",
       "            verbose=0, warm_start=False)"
      ]
     },
     "execution_count": 105,
     "metadata": {},
     "output_type": "execute_result"
    }
   ],
   "source": [
    "model = RandomForestClassifier(n_estimators = 74)\n",
    "model.fit(X_train, y_train)"
   ]
  },
  {
   "cell_type": "code",
   "execution_count": 106,
   "metadata": {
    "collapsed": true
   },
   "outputs": [],
   "source": [
    "expected = y_test\n",
    "predicted = model.predict(X_test)"
   ]
  },
  {
   "cell_type": "code",
   "execution_count": 107,
   "metadata": {
    "collapsed": false
   },
   "outputs": [
    {
     "name": "stdout",
     "output_type": "stream",
     "text": [
      "Classification Report:\n",
      "             precision    recall  f1-score   support\n",
      "\n",
      "   climbing       0.73      0.66      0.69        29\n",
      "    running       0.97      0.93      0.95        69\n",
      "    sitting       0.85      0.80      0.82        70\n",
      "   sleeping       1.00      0.96      0.98        67\n",
      "   standing       0.77      0.86      0.81        50\n",
      "    walking       0.83      0.92      0.87        62\n",
      "\n",
      "avg / total       0.88      0.87      0.87       347\n",
      "\n"
     ]
    }
   ],
   "source": [
    "print(\"Classification Report:\")\n",
    "print(metrics.classification_report(expected, predicted))"
   ]
  },
  {
   "cell_type": "code",
   "execution_count": 108,
   "metadata": {
    "collapsed": false
   },
   "outputs": [
    {
     "name": "stdout",
     "output_type": "stream",
     "text": [
      "Confusion matrix\n"
     ]
    },
    {
     "data": {
      "image/png": "[encoded data removed]",
      "text/plain": [
       "<matplotlib.figure.Figure at 0x1599ee360f0>"
      ]
     },
     "metadata": {},
     "output_type": "display_data"
    }
   ],
   "source": [
    "class_names = [\"climbing\", \"running\", \"sitting\", \"sleeping\", \"standing\", \"walking\"]\n",
    "def plot_confusion_matrix(cm, classes,\n",
    "                          normalize=False,\n",
    "                          title='Confusion matrix',\n",
    "                          cmap=plt.cm.Blues):\n",
    "    \"\"\"\n",
    "    This function prints and plots the confusion matrix.\n",
    "    Normalization can be applied by setting `normalize=True`.\n",
    "    \"\"\"\n",
    "    plt.imshow(cm, interpolation='nearest', cmap=cmap)\n",
    "    plt.title(title)\n",
    "    plt.colorbar()\n",
    "    tick_marks = np.arange(len(classes))\n",
    "    plt.xticks(tick_marks, classes, rotation=45)\n",
    "    plt.yticks(tick_marks, classes)\n",
    "\n",
    "   \n",
    "    print('Confusion matrix')\n",
    "\n",
    "    \n",
    "\n",
    "    thresh = cm.max() / 2.\n",
    "    for i, j in itertools.product(range(cm.shape[0]), range(cm.shape[1])):\n",
    "        plt.text(j, i, cm[i, j],\n",
    "                 horizontalalignment=\"center\",\n",
    "                 color=\"white\" if cm[i, j] > thresh else \"black\")\n",
    "\n",
    "    plt.tight_layout()\n",
    "    plt.ylabel('True label')\n",
    "    plt.xlabel('Predicted label')\n",
    "\n",
    "# Compute confusion matrix\n",
    "cnf_matrix = confusion_matrix(expected, predicted)\n",
    "np.set_printoptions(precision=2)\n",
    "\n",
    "# Plot non-normalized confusion matrix\n",
    "plt.figure()\n",
    "plot_confusion_matrix(cnf_matrix, classes=class_names,\n",
    "                      title='Confusion matrix, without normalization: Random Forest')\n",
    "\n",
    "plt.show()"
   ]
  },
  {
   "cell_type": "code",
   "execution_count": 93,
   "metadata": {
    "collapsed": false
   },
   "outputs": [
    {
     "name": "stdout",
     "output_type": "stream",
     "text": [
      "Random Forest : \n",
      "Best score for  Random Forest : 0.900990099009901\n",
      "\n",
      "Best parameters for  Random Forest  found on development set: {'n_estimators': 150}\n",
      "\n",
      "Best estimator for  Random Forest  model: RandomForestClassifier(bootstrap=True, class_weight=None, criterion='gini',\n",
      "            max_depth=None, max_features='auto', max_leaf_nodes=None,\n",
      "            min_impurity_split=1e-07, min_samples_leaf=1,\n",
      "            min_samples_split=2, min_weight_fraction_leaf=0.0,\n",
      "            n_estimators=150, n_jobs=1, oob_score=False, random_state=None,\n",
      "            verbose=0, warm_start=False)\n",
      "\n",
      "\n",
      "Grid scores on development set:\n",
      "\n",
      "0.882 (+/-0.037) for {'n_estimators': 10}\n",
      "0.874 (+/-0.042) for {'n_estimators': 20}\n",
      "0.884 (+/-0.044) for {'n_estimators': 30}\n",
      "0.886 (+/-0.051) for {'n_estimators': 40}\n",
      "0.891 (+/-0.050) for {'n_estimators': 50}\n",
      "0.894 (+/-0.049) for {'n_estimators': 60}\n",
      "0.890 (+/-0.047) for {'n_estimators': 70}\n",
      "0.891 (+/-0.058) for {'n_estimators': 80}\n",
      "0.892 (+/-0.056) for {'n_estimators': 90}\n",
      "0.890 (+/-0.044) for {'n_estimators': 100}\n",
      "0.901 (+/-0.057) for {'n_estimators': 150}\n",
      "0.895 (+/-0.047) for {'n_estimators': 200}\n",
      "\n",
      "[[RandomForestClassifier(bootstrap=True, class_weight=None, criterion='gini',\n",
      "            max_depth=None, max_features='auto', max_leaf_nodes=None,\n",
      "            min_impurity_split=1e-07, min_samples_leaf=1,\n",
      "            min_samples_split=2, min_weight_fraction_leaf=0.0,\n",
      "            n_estimators=150, n_jobs=1, oob_score=False, random_state=None,\n",
      "            verbose=0, warm_start=False), {'n_estimators': 150}, 'Random Forest']]\n"
     ]
    }
   ],
   "source": [
    "\n",
    "# Different models to try\n",
    "#       Model name ---------------------------------------------------------------------\n",
    "#      Parameters ------------------------------------------                           |\n",
    "#     Classifier -----------                               |                           |\n",
    "#                          |                               |                           |\n",
    "#                          v                               v                           |\n",
    "models = [#[tree.DecisionTreeClassifier(), {'min_samples_split': [2, 4, 6, 8, 10],#    |\n",
    "#                                            'min_samples_leaf': [1, 5, 10, 15, 20],#     v\n",
    "#                                            'max_depth': [10, 20, 30, 40, 50]},       \"Decision Tree\"]\n",
    "          ]\n",
    "\n",
    "# models.append([linear_model.LogisticRegression(), {'C': [1e+4, 1e+3, 1e+2, 1e+1, 1, 1e-1, 1e-2, 1e-3, 1e-4, 1e-5]}, \"Logistic Regression with Ridge Penalty\"])\n",
    "\n",
    "# models.append([linear_model.LogisticRegression(penalty='l1'), {'C': [100, 10, 1, 1e-1, 1e-2, 1e-3, 1e-4, 1e-5]}, \"Logistic Regression with Lasso Penalty\"])\n",
    "\n",
    "# LinearSVC\n",
    "#models.append([svm.SVC(kernel='rbf', class_weight={1:10,9:1}), {#'kernel': ['rbf'], # class_weight=\"balanced\"; tol\n",
    "                          # 'gamma': [1e+4, 1e+3, 1e+2, 1e+1, 1, 1e-1, 1e-2, 1e-3, 1e-4, 1e-5, 1e-6], \n",
    "                           #'C': [1e+4, 1e+3, 1e+2, 1e+1, 1, 1e-1, 1e-2, 1e-3, 1e-4, 1e-5, 1e-6]}, \"SVM rbf\"])\n",
    "#models.append([neighbors.KNeighborsClassifier(), {'n_neighbors': [1, 3, 5, 7, 9, 11, 13, 15]}, \"K-Nearest Neighbors\"])\n",
    "\n",
    "\n",
    "\n",
    "\n",
    "\n",
    "models.append([RandomForestClassifier(), {'n_estimators': [10, 20, 30, 40, 50, 60, 70, 80, 90, 100, 150, 200]\n",
    "                                           }, \"Random Forest\"])\n",
    "\n",
    "models_with_best_params = []\n",
    "\n",
    "# cross-validation strategy\n",
    "cv = 10 # for 10-folds cross-validation\n",
    "\n",
    "# Leave One Group Out\n",
    "logo = LeaveOneGroupOut()\n",
    "cv = logo.get_n_splits(X_train,y_train,groups)\n",
    "\n",
    "\n",
    "for model in models:\n",
    "    clf = GridSearchCV(model[0], model[1], cv = 5)\n",
    "    clf.fit(X_train, y_train)\n",
    "    best_params = clf.best_params_\n",
    "    best_estimator = clf.best_estimator_\n",
    "    \n",
    "    model_with_best_params = [best_estimator, best_params, model[2]]\n",
    "    \n",
    "    models_with_best_params.append(model_with_best_params)\n",
    "    \n",
    "    print(model[2], \": \")\n",
    "    print(\"Best score for \", model[2], \":\", clf.best_score_)\n",
    "    print()\n",
    "    print(\"Best parameters for \", model[2], \" found on development set:\", best_params)\n",
    "    print()\n",
    "    print(\"Best estimator for \", model[2], \" model:\", best_estimator)\n",
    "    print()\n",
    "    print()\n",
    "\n",
    "    print(\"Grid scores on development set:\")\n",
    "    print()\n",
    "    for params, mean_score, scores in clf.grid_scores_:\n",
    "        print(\"%0.3f (+/-%0.03f) for %r\"\n",
    "              % (mean_score, scores.std() * 2, params))\n",
    "    print()\n",
    "\n",
    "print(models_with_best_params)\n",
    "\n"
   ]
  },
  {
   "cell_type": "code",
   "execution_count": 78,
   "metadata": {
    "collapsed": false
   },
   "outputs": [
    {
     "name": "stdout",
     "output_type": "stream",
     "text": [
      "Prediction accuracy for Random Forest model is 0.85878962536\n",
      "Classification report for classifier RandomForestClassifier(bootstrap=True, class_weight=None, criterion='gini',\n",
      "            max_depth=None, max_features='auto', max_leaf_nodes=None,\n",
      "            min_impurity_split=1e-07, min_samples_leaf=1,\n",
      "            min_samples_split=2, min_weight_fraction_leaf=0.0,\n",
      "            n_estimators=150, n_jobs=1, oob_score=False, random_state=None,\n",
      "            verbose=0, warm_start=False):\n",
      "             precision    recall  f1-score   support\n",
      "\n",
      "   climbing    0.77273   0.58621   0.66667        29\n",
      "    running    0.95522   0.92754   0.94118        69\n",
      "    sitting    0.81818   0.77143   0.79412        70\n",
      "   sleeping    0.98462   0.95522   0.96970        67\n",
      "   standing    0.72414   0.84000   0.77778        50\n",
      "    walking    0.82609   0.91935   0.87023        62\n",
      "\n",
      "avg / total    0.86163   0.85879   0.85785       347\n",
      "\n",
      "\n",
      "Confusion matrix:\n",
      "[[17  0  5  1  2  4]\n",
      " [ 0 64  0  0  1  4]\n",
      " [ 3  0 54  0 12  1]\n",
      " [ 2  1  0 64  0  0]\n",
      " [ 0  0  5  0 42  3]\n",
      " [ 0  2  2  0  1 57]]\n"
     ]
    }
   ],
   "source": [
    "for model in models_with_best_params:\n",
    "    classifier = model[0]\n",
    "    classifier.fit(X_train, y_train)\n",
    "    score = classifier.score(X_test, y_test)\n",
    "    print(\"Prediction accuracy for\", model[2], \"model is\", score)\n",
    "    expected = y_test\n",
    "    predicted = classifier.predict(X_test)\n",
    "\n",
    "    print(\"Classification report for classifier %s:\\n%s\\n\"\n",
    "      % (classifier, metrics.classification_report(expected, predicted, digits=5)))\n",
    "    print(\"Confusion matrix:\\n%s\" % metrics.confusion_matrix(expected, predicted))"
   ]
  }
 ],
 "metadata": {
  "kernelspec": {
   "display_name": "Python 3",
   "language": "python",
   "name": "python3"
  },
  "language_info": {
   "codemirror_mode": {
    "name": "ipython",
    "version": 3
   },
   "file_extension": ".py",
   "mimetype": "text/x-python",
   "name": "python",
   "nbconvert_exporter": "python",
   "pygments_lexer": "ipython3",
   "version": "3.6.0"
  }
 },
 "nbformat": 4,
 "nbformat_minor": 1
}
