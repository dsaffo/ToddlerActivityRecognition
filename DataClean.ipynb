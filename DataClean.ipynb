{
 "cells": [
  {
   "cell_type": "code",
   "execution_count": 1,
   "metadata": {
    "collapsed": false
   },
   "outputs": [],
   "source": [
    "import pandas as pd\n",
    "import numpy as np\n",
    "from io import StringIO"
   ]
  },
  {
   "cell_type": "code",
   "execution_count": 2,
   "metadata": {
    "collapsed": false
   },
   "outputs": [],
   "source": [
    "noelWalking = pd.read_csv(\"noel walking.csv\", header = None)\n",
    "noelRunning = pd.read_csv(\"noel running.csv\", header = None)\n",
    "noelSleeping = pd.read_csv(\"noel sleeping.csv\", header = None)\n",
    "noelClimbing = pd.read_csv(\"noel climbing.csv\", header = None)"
   ]
  },
  {
   "cell_type": "code",
   "execution_count": 3,
   "metadata": {
    "collapsed": false
   },
   "outputs": [
    {
     "name": "stdout",
     "output_type": "stream",
     "text": [
      "58\n"
     ]
    }
   ],
   "source": [
    "data = noelWalking\n",
    "x = 0\n",
    "i = 0\n",
    "array = []\n",
    "dic = {}\n",
    "d = []\n",
    "for index, row in data.iterrows():\n",
    "    if (data.iloc[index,0].is_integer()==False):\n",
    "        array.append([data.iloc[index,1],data.iloc[index,2],data.iloc[index,3]])\n",
    "    elif (data.iloc[index,0].is_integer()==True):\n",
    "        d.append([\"noel\" , \"walking\", array])\n",
    "        array = []\n",
    "        i+=1\n",
    "\n",
    "d.pop(0)\n",
    "d.pop(1)\n",
    "d.pop(-1)\n",
    "d.pop(-2)\n",
    "\n",
    "df = pd.DataFrame(d)\n",
    "\n",
    "print(len(df))"
   ]
  },
  {
   "cell_type": "code",
   "execution_count": 4,
   "metadata": {
    "collapsed": false
   },
   "outputs": [
    {
     "name": "stdout",
     "output_type": "stream",
     "text": [
      "116\n"
     ]
    }
   ],
   "source": [
    "data = noelRunning\n",
    "x = 0\n",
    "i = 0\n",
    "array = []\n",
    "dic = {}\n",
    "d = []\n",
    "for index, row in data.iterrows():\n",
    "    if (data.iloc[index,0].is_integer()==False):\n",
    "        array.append([data.iloc[index,1],data.iloc[index,2],data.iloc[index,3]])\n",
    "    elif (data.iloc[index,0].is_integer()==True):\n",
    "        d.append([\"noel\" , \"running\", array])\n",
    "        array = []\n",
    "        i+=1\n",
    "\n",
    "d.pop(0)\n",
    "d.pop(1)\n",
    "d.pop(-1)\n",
    "d.pop(-2)\n",
    "\n",
    "df = df.append(d, ignore_index = True)\n",
    "print(len(df))"
   ]
  },
  {
   "cell_type": "code",
   "execution_count": 5,
   "metadata": {
    "collapsed": false
   },
   "outputs": [
    {
     "name": "stdout",
     "output_type": "stream",
     "text": [
      "173\n"
     ]
    }
   ],
   "source": [
    "data = noelSleeping\n",
    "x = 0\n",
    "i = 0\n",
    "array = []\n",
    "dic = {}\n",
    "d = []\n",
    "for index, row in data.iterrows():\n",
    "    if (data.iloc[index,0].is_integer()==False):\n",
    "        array.append([data.iloc[index,1],data.iloc[index,2],data.iloc[index,3]])\n",
    "    elif (data.iloc[index,0].is_integer()==True):\n",
    "        d.append([\"noel\" , \"sleeping\", array])\n",
    "        array = []\n",
    "        i+=1\n",
    "\n",
    "d.pop(0)\n",
    "d.pop(1)\n",
    "d.pop(-1)\n",
    "d.pop(-2)\n",
    "\n",
    "df = df.append(d, ignore_index = True)\n",
    "print(len(df))"
   ]
  },
  {
   "cell_type": "code",
   "execution_count": 6,
   "metadata": {
    "collapsed": false
   },
   "outputs": [
    {
     "name": "stdout",
     "output_type": "stream",
     "text": [
      "231\n"
     ]
    }
   ],
   "source": [
    "data = noelClimbing\n",
    "x = 0\n",
    "i = 0\n",
    "array = []\n",
    "dic = {}\n",
    "d = []\n",
    "for index, row in data.iterrows():\n",
    "    if (data.iloc[index,0].is_integer()==False):\n",
    "        array.append([data.iloc[index,1],data.iloc[index,2],data.iloc[index,3]])\n",
    "    elif (data.iloc[index,0].is_integer()==True):\n",
    "        d.append([\"noel\" , \"climbing\", array])\n",
    "        array = []\n",
    "        i+=1\n",
    "\n",
    "d.pop(0)\n",
    "d.pop(1)\n",
    "d.pop(-1)\n",
    "d.pop(-2)\n",
    "\n",
    "df = df.append(d, ignore_index = True)\n",
    "print(len(df))"
   ]
  },
  {
   "cell_type": "code",
   "execution_count": null,
   "metadata": {
    "collapsed": true
   },
   "outputs": [],
   "source": [
    "head()"
   ]
  }
 ],
 "metadata": {
  "kernelspec": {
   "display_name": "Python 3",
   "language": "python",
   "name": "python3"
  },
  "language_info": {
   "codemirror_mode": {
    "name": "ipython",
    "version": 3
   },
   "file_extension": ".py",
   "mimetype": "text/x-python",
   "name": "python",
   "nbconvert_exporter": "python",
   "pygments_lexer": "ipython3",
   "version": "3.6.0"
  }
 },
 "nbformat": 4,
 "nbformat_minor": 2
}
