{
 "cells": [
  {
   "cell_type": "markdown",
   "metadata": {
    "nbpresent": {
     "id": "b4256dce-8961-42c5-87f9-71b82c75c555"
    }
   },
   "source": [
    "# Data Clean\n",
    "### Takes data labels it, and breaks it into one second chunks\n",
    "#### David Saffo\n",
    "#### 5/16/2017"
   ]
  },
  {
   "cell_type": "code",
   "execution_count": 1,
   "metadata": {
    "collapsed": false,
    "nbpresent": {
     "id": "4ebc0005-589b-45e8-9522-4561f9b04b78"
    }
   },
   "outputs": [],
   "source": [
    "import pandas as pd\n",
    "import itertools\n",
    "import numpy as np\n",
    "from io import StringIO\n",
    "import math\n",
    "import scipy.stats.stats as stats\n",
    "from sklearn.model_selection import train_test_split\n",
    "from sklearn import metrics\n",
    "from sklearn.neighbors import KNeighborsClassifier\n",
    "from sklearn.metrics import accuracy_score\n",
    "from sklearn.metrics import f1_score\n",
    "import matplotlib.pyplot as plt\n",
    "from sklearn.metrics import confusion_matrix\n",
    "%matplotlib inline\n"
   ]
  },
  {
   "cell_type": "code",
   "execution_count": 2,
   "metadata": {
    "collapsed": false,
    "nbpresent": {
     "id": "bc8266c6-a6b5-4ce7-824d-fe7e018aa1dc"
    }
   },
   "outputs": [],
   "source": [
    "giaWalking = pd.read_csv(\"Gia Walking Hopefully.csv\", header = None, skiprows = 2)\n",
    "giaRunning = pd.read_csv(\"Gia Running.csv\", header = None, skiprows = 2)\n",
    "giaSitting = pd.read_csv(\"Gia Sitting.csv\", header = None, skiprows = 2)\n",
    "giaSleeping = pd.read_csv(\"Gia Sleeping.csv\", header = None, skiprows = 2)\n",
    "giaStanding = pd.read_csv(\"Gia Standing.csv\", header = None, skiprows = 2)\n",
    "giaClimbing = pd.read_csv(\"Gia Climbing.csv\", header = None, skiprows = 2)\n",
    "ilonaWalking = pd.read_csv(\"Ilona Walking.csv\", header = None, skiprows = 2)\n",
    "ilonaRunning = pd.read_csv(\"Ilona Running.csv\", header = None, skiprows = 2)\n",
    "ilonaSitting = pd.read_csv(\"Ilona Sitting.csv\", header = None, skiprows = 2)\n",
    "ilonaSleeping = pd.read_csv(\"Ilona Sleeping.csv\", header = None, skiprows = 2)\n",
    "ilonaStanding = pd.read_csv(\"Ilona Standing.csv\", header = None, skiprows = 2)\n",
    "ilonaClimbing = pd.read_csv(\"Ilona Climbing.csv\", header = None, skiprows = 2)\n",
    "liliWalking = pd.read_csv(\"Lili Walking.csv\", header = None, skiprows = 2)\n",
    "liliRunning = pd.read_csv(\"Lili Running.csv\", header = None, skiprows = 2)\n",
    "liliSitting = pd.read_csv(\"Lili Sitting.csv\", header = None, skiprows = 2)\n",
    "liliSleeping = pd.read_csv(\"Lili Sleeping.csv\", header = None, skiprows = 2)\n",
    "liliStanding = pd.read_csv(\"Lili Standing.csv\", header = None, skiprows = 2)\n",
    "liliClimbing = pd.read_csv(\"Lili Climbing.csv\", header = None, skiprows = 2)\n",
    "chrisWalking = pd.read_csv(\"Chris Walking.csv\", header = None, skiprows = 2)\n",
    "chrisRunning = pd.read_csv(\"Chris Running.csv\", header = None, skiprows = 2)\n",
    "chrisSitting = pd.read_csv(\"Chris Sitting.csv\", header = None, skiprows = 2)\n",
    "chrisSleeping = pd.read_csv(\"Chris Sleeping.csv\", header = None, skiprows = 2)\n",
    "chrisStanding = pd.read_csv(\"Chris Standing.csv\", header = None, skiprows = 2)\n",
    "chrisClimbing = pd.read_csv(\"Chris Climbing.csv\", header = None, skiprows = 2)\n",
    "davidWalking = pd.read_csv(\"David Walking.csv\", header = None, skiprows = 2)\n",
    "davidRunning = pd.read_csv(\"David Running.csv\", header = None, skiprows = 2)\n",
    "davidSitting = pd.read_csv(\"David Sitting.csv\", header = None, skiprows = 2)\n",
    "davidSleeping = pd.read_csv(\"David Sleeping.csv\", header = None, skiprows = 2)\n",
    "davidStanding = pd.read_csv(\"David Standing.csv\", header = None, skiprows = 2)\n",
    "davidClimbing = pd.read_csv(\"David Climbing.csv\", header = None, skiprows = 2)\n",
    "juliaWalking = pd.read_csv(\"Julia Walking.csv\", header = None, skiprows = 2)\n",
    "juliaRunning = pd.read_csv(\"Julia Running.csv\", header = None, skiprows = 2)\n",
    "juliaSitting = pd.read_csv(\"Julia Sitting.csv\", header = None, skiprows = 2)\n",
    "juliaSleeping = pd.read_csv(\"Julia Sleeping.csv\", header = None, skiprows = 2)\n",
    "juliaStanding = pd.read_csv(\"Julia Standing.csv\", header = None, skiprows = 2)\n",
    "juliaClimbing = pd.read_csv(\"Julia Climbing.csv\", header = None, skiprows = 2)\n",
    "noelWalking = pd.read_csv(\"Noel Walking.csv\", header = None, skiprows = 2)\n",
    "noelRunning = pd.read_csv(\"Noel Running.csv\", header = None, skiprows = 2)\n",
    "noelSitting = pd.read_csv(\"Noel Sitting.csv\", header = None, skiprows = 2)\n",
    "noelSleeping = pd.read_csv(\"Noel Sleeping.csv\", header = None, skiprows = 2)\n",
    "noelStanding = pd.read_csv(\"Noel Standing.csv\", header = None, skiprows = 2)\n",
    "noelClimbing = pd.read_csv(\"Noel Climbing.csv\", header = None, skiprows = 2)\n",
    "katieWalking = pd.read_csv(\"Katie Walking.csv\", header = None, skiprows = 2)\n",
    "katieRunning = pd.read_csv(\"Katie Running.csv\", header = None, skiprows = 2)\n",
    "katieSitting = pd.read_csv(\"Katie Sitting.csv\", header = None, skiprows = 2)\n",
    "katieSleeping = pd.read_csv(\"Katie Sleeping.csv\", header = None, skiprows = 2)\n",
    "katieStanding = pd.read_csv(\"Katie Standing.csv\", header = None, skiprows = 2)\n",
    "katieClimbing = pd.read_csv(\"Katie Climbing.csv\", header = None, skiprows = 2)\n",
    "deneeWalking = pd.read_csv(\"Denee Walking.csv\", header = None, skiprows = 2)\n",
    "deneeRunning = pd.read_csv(\"Denee Running.csv\", header = None, skiprows = 2)\n",
    "deneeSitting = pd.read_csv(\"Denee Sitting.csv\", header = None, skiprows = 2)\n",
    "deneeSleeping = pd.read_csv(\"Denee Sleeping.csv\", header = None, skiprows = 2)\n",
    "deneeStanding = pd.read_csv(\"Denee Standing.csv\", header = None, skiprows = 2)\n",
    "deneeClimbing = pd.read_csv(\"Denee Climbing.csv\", header = None, skiprows = 2)"
   ]
  },
  {
   "cell_type": "code",
   "execution_count": 3,
   "metadata": {
    "collapsed": false,
    "nbpresent": {
     "id": "aadfe1b4-205f-42eb-bac3-ea0d033ea5d0"
    }
   },
   "outputs": [],
   "source": [
    "def createDF(sub, act, data):\n",
    "    data = data.drop(4,1)\n",
    "    x = 0\n",
    "    i = 0\n",
    "    array = []\n",
    "    d = []\n",
    "    for index, row in data.iterrows():\n",
    "        if (data.iloc[index,0] % 5 != 0):\n",
    "            array.append([data.iloc[index,1],data.iloc[index,2],data.iloc[index,3]])\n",
    "        elif (data.iloc[index,0] % 5 == 0):\n",
    "            d.append([sub , act, array])\n",
    "            array = []\n",
    "            i+=1\n",
    "\n",
    "    d.pop(0)\n",
    "    d.pop(-1)\n",
    "    \n",
    "\n",
    "    dftest = pd.DataFrame(d)\n",
    "    \n",
    "    return dftest"
   ]
  },
  {
   "cell_type": "code",
   "execution_count": 4,
   "metadata": {
    "collapsed": false,
    "nbpresent": {
     "id": "5ca7fe1f-226f-4d81-8c88-2f7fca679ca2"
    }
   },
   "outputs": [],
   "source": [
    "df = createDF(\"gia\", \"walking\", giaWalking)\n",
    "df = df.append(createDF(\"gia\", \"running\", giaRunning), ignore_index=True)\n",
    "df = df.append(createDF(\"gia\", \"sleeping\", giaSleeping), ignore_index=True)\n",
    "df = df.append(createDF(\"gia\", \"climbing\", giaClimbing), ignore_index=True)\n",
    "df = df.append(createDF(\"gia\", \"sitting\", giaSitting), ignore_index=True)\n",
    "df = df.append(createDF(\"gia\", \"standing\", giaStanding), ignore_index=True)\n",
    "\n",
    "df = df.append(createDF(\"ilona\", \"walking\", ilonaWalking), ignore_index=True)\n",
    "df = df.append(createDF(\"ilona\", \"running\", ilonaRunning), ignore_index=True)\n",
    "df = df.append(createDF(\"ilona\", \"sleeping\", ilonaSleeping), ignore_index=True)\n",
    "df = df.append(createDF(\"ilona\", \"climbing\", ilonaClimbing), ignore_index=True)\n",
    "df = df.append(createDF(\"ilona\", \"sitting\", ilonaSitting), ignore_index=True)\n",
    "df = df.append(createDF(\"ilona\", \"standing\", ilonaStanding), ignore_index=True)\n",
    "\n",
    "df = df.append(createDF(\"lili\", \"walking\", liliWalking), ignore_index=True)\n",
    "df = df.append(createDF(\"lili\", \"running\", liliRunning), ignore_index=True)\n",
    "df = df.append(createDF(\"lili\", \"sleeping\", liliSleeping), ignore_index=True)\n",
    "df = df.append(createDF(\"lili\", \"climbing\", liliClimbing), ignore_index=True)\n",
    "df = df.append(createDF(\"lili\", \"sitting\", liliSitting), ignore_index=True)\n",
    "df = df.append(createDF(\"lili\", \"standing\", liliStanding), ignore_index=True)\n",
    "               \n",
    "df = df.append(createDF(\"chris\", \"walking\", chrisWalking), ignore_index=True)\n",
    "df = df.append(createDF(\"chris\", \"running\", chrisRunning), ignore_index=True)\n",
    "df = df.append(createDF(\"chris\", \"sleeping\", chrisSleeping), ignore_index=True)\n",
    "df = df.append(createDF(\"chris\", \"climbing\", chrisClimbing), ignore_index=True)\n",
    "df = df.append(createDF(\"chris\", \"sitting\", chrisSitting), ignore_index=True)\n",
    "df = df.append(createDF(\"chris\", \"standing\", chrisStanding), ignore_index=True)\n",
    "\n",
    "df = df.append(createDF(\"david\", \"walking\", davidWalking), ignore_index=True)\n",
    "df = df.append(createDF(\"david\", \"running\", davidRunning), ignore_index=True)\n",
    "df = df.append(createDF(\"david\", \"sleeping\", davidSleeping), ignore_index=True)\n",
    "df = df.append(createDF(\"david\", \"climbing\", davidClimbing), ignore_index=True)\n",
    "df = df.append(createDF(\"david\", \"sitting\", davidSitting), ignore_index=True)\n",
    "df = df.append(createDF(\"david\", \"standing\", davidStanding), ignore_index=True)\n",
    "\n",
    "df = df.append(createDF(\"julia\", \"walking\", juliaWalking), ignore_index=True)\n",
    "df = df.append(createDF(\"julia\", \"running\", juliaRunning), ignore_index=True)\n",
    "df = df.append(createDF(\"julia\", \"sleeping\", juliaSleeping), ignore_index=True)\n",
    "df = df.append(createDF(\"julia\", \"climbing\", juliaClimbing), ignore_index=True)\n",
    "df = df.append(createDF(\"julia\", \"sitting\", juliaSitting), ignore_index=True)\n",
    "df = df.append(createDF(\"julia\", \"standing\", juliaStanding), ignore_index=True)\n",
    "\n",
    "df = df.append(createDF(\"noel\", \"walking\", noelWalking), ignore_index=True)\n",
    "df = df.append(createDF(\"noel\", \"running\", noelRunning), ignore_index=True)\n",
    "df = df.append(createDF(\"noel\", \"sleeping\", noelSleeping), ignore_index=True)\n",
    "df = df.append(createDF(\"noel\", \"climbing\", noelClimbing), ignore_index=True)\n",
    "df = df.append(createDF(\"noel\", \"sitting\", noelSitting), ignore_index=True)\n",
    "df = df.append(createDF(\"noel\", \"standing\", noelStanding), ignore_index=True)\n",
    "\n",
    "df = df.append(createDF(\"katie\", \"walking\", katieWalking), ignore_index=True)\n",
    "df = df.append(createDF(\"katie\", \"running\", katieRunning), ignore_index=True)\n",
    "df = df.append(createDF(\"katie\", \"sleeping\", katieSleeping), ignore_index=True)\n",
    "df = df.append(createDF(\"katie\", \"climbing\", katieClimbing), ignore_index=True)\n",
    "df = df.append(createDF(\"katie\", \"sitting\", katieSitting), ignore_index=True)\n",
    "df = df.append(createDF(\"katie\", \"standing\", katieStanding), ignore_index=True)\n",
    "\n",
    "df = df.append(createDF(\"denee\", \"walking\", deneeWalking), ignore_index=True)\n",
    "df = df.append(createDF(\"denee\", \"running\", deneeRunning), ignore_index=True)\n",
    "df = df.append(createDF(\"denee\", \"sleeping\", deneeSleeping), ignore_index=True)\n",
    "df = df.append(createDF(\"denee\", \"climbing\", deneeClimbing), ignore_index=True)\n",
    "df = df.append(createDF(\"denee\", \"sitting\", deneeSitting), ignore_index=True)\n",
    "df = df.append(createDF(\"denee\", \"standing\", deneeStanding), ignore_index=True)"
   ]
  },
  {
   "cell_type": "code",
   "execution_count": 5,
   "metadata": {
    "collapsed": false,
    "nbpresent": {
     "id": "ea968157-ba06-4114-ada9-08d0178e0ea6"
    }
   },
   "outputs": [],
   "source": [
    "temp = []\n",
    "a = []\n",
    "mag = []\n",
    "for i in range(len(df)):\n",
    "    temp = df.iloc[i,2]\n",
    "    mag = []\n",
    "    for j in range(len(temp)):\n",
    "        x = temp[j][0]\n",
    "        y = temp[j][1]\n",
    "        z = temp[j][2]\n",
    "    \n",
    "        magnitude = math.sqrt(x ** 2 + y ** 2 + z ** 2)\n",
    "        \n",
    "        mag.append(magnitude)\n",
    "       \n",
    "    a.append(mag)\n",
    "\n",
    "df.insert(3, \"magnitude\", a)"
   ]
  },
  {
   "cell_type": "code",
   "execution_count": 6,
   "metadata": {
    "collapsed": false,
    "nbpresent": {
     "id": "7a959381-03c5-492f-b6f8-e2ebff1cee14"
    }
   },
   "outputs": [],
   "source": [
    "temp = []\n",
    "a = []\n",
    "\n",
    "\n",
    "for i in range(len(df)):\n",
    "    temp = df.iloc[i,3]\n",
    "    Max = max(temp)\n",
    "       \n",
    "    a.append(Max)\n",
    "\n",
    "df.insert(4, \"max\", a)"
   ]
  },
  {
   "cell_type": "code",
   "execution_count": 7,
   "metadata": {
    "collapsed": false,
    "nbpresent": {
     "id": "6971a287-bc29-41a6-8845-2c2a4240dd4d"
    }
   },
   "outputs": [],
   "source": [
    "temp = []\n",
    "a = []\n",
    "\n",
    "\n",
    "for i in range(len(df)):\n",
    "    temp = df.iloc[i,3]\n",
    "    Min = min(temp)\n",
    "       \n",
    "    a.append(Min)\n",
    "\n",
    "df.insert(5, \"min\", a)"
   ]
  },
  {
   "cell_type": "code",
   "execution_count": 8,
   "metadata": {
    "collapsed": true,
    "nbpresent": {
     "id": "953e2dab-141c-4505-b00c-4e2395d95fef"
    }
   },
   "outputs": [],
   "source": [
    "temp = []\n",
    "a = []\n",
    "\n",
    "\n",
    "for i in range(len(df)):\n",
    "    temp = df.iloc[i,3]\n",
    "    x = np.array(temp)\n",
    "    std = np.std(x)\n",
    "    a.append(std)\n",
    "\n",
    "df.insert(6, \"std\", a)"
   ]
  },
  {
   "cell_type": "code",
   "execution_count": 9,
   "metadata": {
    "collapsed": false,
    "nbpresent": {
     "id": "bf1c2268-9b22-429a-ae6b-34d258dbb7a8"
    }
   },
   "outputs": [],
   "source": [
    "temp = []\n",
    "a = []\n",
    "\n",
    "\n",
    "for i in range(len(df)):\n",
    "    temp = df.iloc[i,3]\n",
    "    skew = stats.skew(temp)\n",
    "    a.append(skew)\n",
    "\n",
    "df.insert(7, \"skew\", a)"
   ]
  },
  {
   "cell_type": "code",
   "execution_count": 10,
   "metadata": {
    "collapsed": true
   },
   "outputs": [],
   "source": [
    "temp = []\n",
    "a = []\n",
    "\n",
    "\n",
    "for i in range(len(df)):\n",
    "    temp = df.iloc[i,3]\n",
    "    kurt = stats.kurtosis(temp)\n",
    "    a.append(kurt)\n",
    "\n",
    "df.insert(8, \"kurtosis\", a)"
   ]
  },
  {
   "cell_type": "code",
   "execution_count": 11,
   "metadata": {
    "collapsed": false,
    "nbpresent": {
     "id": "eff9e866-8d7c-4270-ab8a-34cab6826137"
    }
   },
   "outputs": [],
   "source": [
    "temp = []\n",
    "a = []\n",
    "\n",
    "\n",
    "for i in range(len(df)):\n",
    "    temp = df.iloc[i,3]\n",
    "    x = np.array(temp)\n",
    "    Mean = np.mean(x)\n",
    "    a.append(Mean)\n",
    "\n",
    "df.insert(9, \"mean\", a)"
   ]
  },
  {
   "cell_type": "code",
   "execution_count": 12,
   "metadata": {
    "collapsed": false,
    "nbpresent": {
     "id": "7eff92fa-7b42-4fd1-8021-bcf5a8beaa39"
    }
   },
   "outputs": [],
   "source": [
    "temp = []\n",
    "a = []\n",
    "\n",
    "for i in range(len(df)):\n",
    "    temp = df.iloc[i,3]\n",
    "    x = np.array(temp)\n",
    "    Median = np.median(x)\n",
    "    a.append(Median)\n",
    "\n",
    "df.insert(10, \"median\", a)"
   ]
  },
  {
   "cell_type": "code",
   "execution_count": 13,
   "metadata": {
    "collapsed": false
   },
   "outputs": [],
   "source": [
    "temp = []\n",
    "tempx = []\n",
    "tempy = []\n",
    "tempz = []\n",
    "x = []\n",
    "y = []\n",
    "z = []\n",
    "for i in range(len(df)):\n",
    "    temp = df.iloc[i,2]\n",
    "    for j in range(len(temp)):\n",
    "        tempx.append(temp[j][0])\n",
    "        tempy.append(temp[j][1])\n",
    "        tempz.append(temp[j][2])\n",
    "    x.append(max(tempx))\n",
    "    y.append(max(tempy))\n",
    "    z.append(max(tempz))\n",
    "    tempx = []\n",
    "    tempy = []\n",
    "    tempz = []\n",
    "\n",
    "df.insert(11, \"x max\", x)\n",
    "df.insert(12, \"y max\", y)\n",
    "df.insert(13, \"z max\", z)"
   ]
  },
  {
   "cell_type": "code",
   "execution_count": 14,
   "metadata": {
    "collapsed": false
   },
   "outputs": [],
   "source": [
    "temp = []\n",
    "tempx = []\n",
    "tempy = []\n",
    "tempz = []\n",
    "x = []\n",
    "y = []\n",
    "z = []\n",
    "for i in range(len(df)):\n",
    "    temp = df.iloc[i,2]\n",
    "    for j in range(len(temp)):\n",
    "        tempx.append(temp[j][0])\n",
    "        tempy.append(temp[j][1])\n",
    "        tempz.append(temp[j][2])\n",
    "    x.append(min(tempx))\n",
    "    y.append(min(tempy))\n",
    "    z.append(min(tempz))\n",
    "    tempx = []\n",
    "    tempy = []\n",
    "    tempz = []\n",
    "\n",
    "df.insert(14, \"x min\", x)\n",
    "df.insert(15, \"y min\", y)\n",
    "df.insert(16, \"z min\", z)"
   ]
  },
  {
   "cell_type": "code",
   "execution_count": 15,
   "metadata": {
    "collapsed": true
   },
   "outputs": [],
   "source": [
    "temp = []\n",
    "tempx = []\n",
    "tempy = []\n",
    "tempz = []\n",
    "x = []\n",
    "y = []\n",
    "z = []\n",
    "for i in range(len(df)):\n",
    "    temp = df.iloc[i,2]\n",
    "    \n",
    "    for j in range(len(temp)):\n",
    "        tempx.append(temp[j][0])\n",
    "        tempy.append(temp[j][1])\n",
    "        tempz.append(temp[j][2])\n",
    "    meanx = np.array(tempx)\n",
    "    meany = np.array(tempy)\n",
    "    meanz = np.array(tempz)\n",
    "    x.append(np.mean(meanx))\n",
    "    y.append(np.mean(meany))\n",
    "    z.append(np.mean(meanz))\n",
    "    tempx = []\n",
    "    tempy = []\n",
    "    tempz = []\n",
    "\n",
    "df.insert(17, \"x mean\", x)\n",
    "df.insert(18, \"y mean\", y)\n",
    "df.insert(19, \"z mean\", z)"
   ]
  },
  {
   "cell_type": "code",
   "execution_count": 16,
   "metadata": {
    "collapsed": true
   },
   "outputs": [],
   "source": [
    "temp = []\n",
    "tempx = []\n",
    "tempy = []\n",
    "tempz = []\n",
    "x = []\n",
    "y = []\n",
    "z = []\n",
    "for i in range(len(df)):\n",
    "    temp = df.iloc[i,2]\n",
    "    \n",
    "    for j in range(len(temp)):\n",
    "        tempx.append(temp[j][0])\n",
    "        tempy.append(temp[j][1])\n",
    "        tempz.append(temp[j][2])\n",
    "    medianx = np.array(tempx)\n",
    "    mediany = np.array(tempy)\n",
    "    medianz = np.array(tempz)\n",
    "    x.append(np.median(medianx))\n",
    "    y.append(np.median(mediany))\n",
    "    z.append(np.median(medianz))\n",
    "    tempx = []\n",
    "    tempy = []\n",
    "    tempz = []\n",
    "\n",
    "df.insert(20, \"x median\", x)\n",
    "df.insert(21, \"y median\", y)\n",
    "df.insert(22, \"z median\", z)"
   ]
  },
  {
   "cell_type": "code",
   "execution_count": 17,
   "metadata": {
    "collapsed": true
   },
   "outputs": [],
   "source": [
    "temp = []\n",
    "tempx = []\n",
    "tempy = []\n",
    "tempz = []\n",
    "x = []\n",
    "y = []\n",
    "z = []\n",
    "for i in range(len(df)):\n",
    "    temp = df.iloc[i,2]\n",
    "    for j in range(len(temp)):\n",
    "        tempx.append(temp[j][0])\n",
    "        tempy.append(temp[j][1])\n",
    "        tempz.append(temp[j][2])\n",
    "    x.append(stats.skew(tempx))\n",
    "    y.append(stats.skew(tempy))\n",
    "    z.append(stats.skew(tempz))\n",
    "    tempx = []\n",
    "    tempy = []\n",
    "    tempz = []\n",
    "\n",
    "df.insert(23, \"x skew\", x)\n",
    "df.insert(24, \"y skew\", y)\n",
    "df.insert(25, \"z skew\", z)"
   ]
  },
  {
   "cell_type": "code",
   "execution_count": 18,
   "metadata": {
    "collapsed": true
   },
   "outputs": [],
   "source": [
    "temp = []\n",
    "tempx = []\n",
    "tempy = []\n",
    "tempz = []\n",
    "x = []\n",
    "y = []\n",
    "z = []\n",
    "for i in range(len(df)):\n",
    "    temp = df.iloc[i,2]\n",
    "    for j in range(len(temp)):\n",
    "        tempx.append(temp[j][0])\n",
    "        tempy.append(temp[j][1])\n",
    "        tempz.append(temp[j][2])\n",
    "    x.append(stats.kurtosis(tempx))\n",
    "    y.append(stats.kurtosis(tempy))\n",
    "    z.append(stats.kurtosis(tempz))\n",
    "    tempx = []\n",
    "    tempy = []\n",
    "    tempz = []\n",
    "\n",
    "df.insert(26, \"x kurtosis\", x)\n",
    "df.insert(27, \"y kurtosis\", y)\n",
    "df.insert(28, \"z kurtosis\", z)"
   ]
  },
  {
   "cell_type": "code",
   "execution_count": 19,
   "metadata": {
    "collapsed": true
   },
   "outputs": [],
   "source": [
    "temp = []\n",
    "tempx = []\n",
    "tempy = []\n",
    "tempz = []\n",
    "x = []\n",
    "y = []\n",
    "z = []\n",
    "for i in range(len(df)):\n",
    "    temp = df.iloc[i,2]\n",
    "    \n",
    "    for j in range(len(temp)):\n",
    "        tempx.append(temp[j][0])\n",
    "        tempy.append(temp[j][1])\n",
    "        tempz.append(temp[j][2])\n",
    "    \n",
    "    stdx = np.array(tempx)\n",
    "    stdy = np.array(tempy)\n",
    "    stdz = np.array(tempz)\n",
    "    x.append(np.std(stdx))\n",
    "    y.append(np.std(stdy))\n",
    "    z.append(np.std(stdz))\n",
    "    tempx = []\n",
    "    tempy = []\n",
    "    tempz = []\n",
    "\n",
    "df.insert(29, \"x std\", x)\n",
    "df.insert(30, \"y std\", y)\n",
    "df.insert(31, \"z std\", z)"
   ]
  },
  {
   "cell_type": "code",
   "execution_count": 20,
   "metadata": {
    "collapsed": false
   },
   "outputs": [],
   "source": [
    "temp = []\n",
    "tempx = []\n",
    "tempy = []\n",
    "tempz = []\n",
    "xy = []\n",
    "yz = []\n",
    "xz = []\n",
    "for i in range(len(df)):\n",
    "    temp = df.iloc[i,2]\n",
    "    \n",
    "    for j in range(len(temp)):\n",
    "        tempx.append(temp[j][0])\n",
    "        tempy.append(temp[j][1])\n",
    "        tempz.append(temp[j][2])\n",
    "    x = np.array(tempx)\n",
    "    y = np.array(tempy)\n",
    "    z = np.array(tempz)\n",
    "    \n",
    "    xy.append(np.mean(x * y))\n",
    "    yz.append(np.mean(y * z))\n",
    "    xz.append(np.mean(x * z))\n",
    "    tempx = []\n",
    "    tempy = []\n",
    "    tempz = []\n",
    "\n",
    "df.insert(32, \"xy mean\", xy)\n",
    "df.insert(33, \"yz mean\", yz)\n",
    "df.insert(34, \"xz mean\", xz)"
   ]
  },
  {
   "cell_type": "code",
   "execution_count": 21,
   "metadata": {
    "collapsed": false
   },
   "outputs": [
    {
     "name": "stdout",
     "output_type": "stream",
     "text": [
      "499\n",
      "499\n"
     ]
    },
    {
     "name": "stderr",
     "output_type": "stream",
     "text": [
      "C:\\Users\\dsaffo\\Anaconda3\\lib\\site-packages\\ipykernel\\__main__.py:31: MatplotlibDeprecationWarning: pyplot.hold is deprecated.\n",
      "    Future behavior will be consistent with the long-time default:\n",
      "    plot commands add elements without first clearing the\n",
      "    Axes and/or Figure.\n",
      "C:\\Users\\dsaffo\\Anaconda3\\lib\\site-packages\\matplotlib\\__init__.py:917: UserWarning: axes.hold is deprecated. Please remove it from your matplotlibrc and/or style files.\n",
      "  warnings.warn(self.msg_depr_set % key)\n",
      "C:\\Users\\dsaffo\\Anaconda3\\lib\\site-packages\\matplotlib\\rcsetup.py:152: UserWarning: axes.hold is deprecated, will be removed in 3.0\n",
      "  warnings.warn(\"axes.hold is deprecated, will be removed in 3.0\")\n",
      "C:\\Users\\dsaffo\\Anaconda3\\lib\\site-packages\\ipykernel\\__main__.py:35: MatplotlibDeprecationWarning: pyplot.hold is deprecated.\n",
      "    Future behavior will be consistent with the long-time default:\n",
      "    plot commands add elements without first clearing the\n",
      "    Axes and/or Figure.\n"
     ]
    },
    {
     "data": {
      "image/png": "[encoded data removed]",
      "text/plain": [
       "<matplotlib.figure.Figure at 0x19ce2881198>"
      ]
     },
     "metadata": {},
     "output_type": "display_data"
    }
   ],
   "source": [
    "def movingaverage(interval, window_size):\n",
    "    window= np.ones(int(window_size))/float(window_size)\n",
    "    return np.convolve(interval, window, 'same')\n",
    "\n",
    "temp = []\n",
    "tempx = []\n",
    "tempy = []\n",
    "tempz = []\n",
    "xrun = []\n",
    "yrun = []\n",
    "zrun = []\n",
    "for i in range(len(df)):\n",
    "    temp = df.iloc[i,2]\n",
    "    \n",
    "    for j in range(len(temp)):\n",
    "        tempx.append(temp[j][0])\n",
    "        tempy.append(temp[j][1])\n",
    "        tempz.append(temp[j][2])\n",
    "    x = np.array(tempx)\n",
    "    y = np.array(tempy)\n",
    "    z = np.array(tempz)\n",
    "    \n",
    "    xrun.append(movingaverage(x,20))\n",
    "    yrun.append(movingaverage(y,20))\n",
    "    zrun.append(movingaverage(z,20))\n",
    "    tempx = []\n",
    "    tempy = []\n",
    "    tempz = []\n",
    "print(len(x))\n",
    "t_sit = range(len(xrun[0]))\n",
    "plt.hold('on')\n",
    "plt.plot(t_sit, xrun[0], t_sit, yrun[0], t_sit, zrun[0])\n",
    "plt.legend(['x', 'y', 'z'])\n",
    "plt.title('walking')\n",
    "plt.hold('off')\n",
    "\n",
    "print(len(xrun[0]))\n",
    "df.insert(35, \"running x\", xrun)\n",
    "df.insert(36, \"running y\", yrun)\n",
    "df.insert(37, \"running z\", zrun)"
   ]
  },
  {
   "cell_type": "code",
   "execution_count": 22,
   "metadata": {
    "collapsed": false
   },
   "outputs": [
    {
     "name": "stdout",
     "output_type": "stream",
     "text": [
      "566\n",
      "566\n",
      "566\n"
     ]
    }
   ],
   "source": [
    "temp = []\n",
    "tempx = []\n",
    "tempy = []\n",
    "tempz = []\n",
    "x = []\n",
    "y = []\n",
    "z = []\n",
    "for i in range(len(df)):\n",
    "    temp = df.iloc[i,2]\n",
    "    \n",
    "    for j in range(len(temp)):\n",
    "        tempx.append(temp[j][0])\n",
    "        tempy.append(temp[j][1])\n",
    "        tempz.append(temp[j][2])\n",
    "   \n",
    "    \n",
    "    x.append(tempx)\n",
    "    y.append(tempy)\n",
    "    z.append(tempz)\n",
    "    tempx = []\n",
    "    tempy = []\n",
    "    tempz = []\n",
    "print(len(x))\n",
    "print(len(y))\n",
    "print(len(z))\n",
    "df.insert(3, \"x\", x)\n",
    "df.insert(4, \"y\", y)\n",
    "df.insert(5, \"z\", z)"
   ]
  },
  {
   "cell_type": "code",
   "execution_count": 23,
   "metadata": {
    "collapsed": false
   },
   "outputs": [
    {
     "name": "stderr",
     "output_type": "stream",
     "text": [
      "C:\\Users\\dsaffo\\Anaconda3\\lib\\site-packages\\ipykernel\\__main__.py:7: MatplotlibDeprecationWarning: pyplot.hold is deprecated.\n",
      "    Future behavior will be consistent with the long-time default:\n",
      "    plot commands add elements without first clearing the\n",
      "    Axes and/or Figure.\n",
      "C:\\Users\\dsaffo\\Anaconda3\\lib\\site-packages\\matplotlib\\__init__.py:917: UserWarning: axes.hold is deprecated. Please remove it from your matplotlibrc and/or style files.\n",
      "  warnings.warn(self.msg_depr_set % key)\n",
      "C:\\Users\\dsaffo\\Anaconda3\\lib\\site-packages\\matplotlib\\rcsetup.py:152: UserWarning: axes.hold is deprecated, will be removed in 3.0\n",
      "  warnings.warn(\"axes.hold is deprecated, will be removed in 3.0\")\n",
      "C:\\Users\\dsaffo\\Anaconda3\\lib\\site-packages\\ipykernel\\__main__.py:11: MatplotlibDeprecationWarning: pyplot.hold is deprecated.\n",
      "    Future behavior will be consistent with the long-time default:\n",
      "    plot commands add elements without first clearing the\n",
      "    Axes and/or Figure.\n"
     ]
    },
    {
     "data": {
      "image/png": "[encoded data removed]",
      "text/plain": [
       "<matplotlib.figure.Figure at 0x19ce54ce828>"
      ]
     },
     "metadata": {},
     "output_type": "display_data"
    }
   ],
   "source": [
    "\n",
    "x = df['x'] - df['running x']\n",
    "y = df['y'] - df['running y']\n",
    "z = df['z'] - df['running z']\n",
    "\n",
    "t_sit = range(len(x[0]))\n",
    "plt.hold('on')\n",
    "plt.plot(t_sit, x[0], t_sit, y[0], t_sit, z[0])\n",
    "plt.legend(['x', 'y', 'z'])\n",
    "plt.title('walking')\n",
    "plt.hold('off')\n",
    "\n",
    "df.insert(41, \"x noise\", x)\n",
    "df.insert(42, \"y noise\", y)\n",
    "df.insert(43, \"z noise\", z)"
   ]
  },
  {
   "cell_type": "code",
   "execution_count": 24,
   "metadata": {
    "collapsed": false
   },
   "outputs": [],
   "source": [
    "\n",
    "df['x noise min'] = df.apply(lambda row: min(row['x noise']), axis=1)\n",
    "df['y noise min'] = df.apply(lambda row: min(row['y noise']), axis=1) \n",
    "df['z noise min'] = df.apply(lambda row: min(row['z noise']), axis=1) "
   ]
  },
  {
   "cell_type": "code",
   "execution_count": 25,
   "metadata": {
    "collapsed": true
   },
   "outputs": [],
   "source": [
    "df['x noise max'] = df.apply(lambda row: max(row['x noise']), axis=1) \n",
    "df['y noise max'] = df.apply(lambda row: max(row['y noise']), axis=1) \n",
    "df['z noise max'] = df.apply(lambda row: max(row['z noise']), axis=1) "
   ]
  },
  {
   "cell_type": "code",
   "execution_count": 26,
   "metadata": {
    "collapsed": true
   },
   "outputs": [],
   "source": [
    "df['x noise std'] = df.apply(lambda row: np.std(row['x noise']), axis=1) \n",
    "df['y noise std'] = df.apply(lambda row: np.std(row['y noise']), axis=1) \n",
    "df['z noise std'] = df.apply(lambda row: np.std(row['z noise']), axis=1) "
   ]
  },
  {
   "cell_type": "code",
   "execution_count": 83,
   "metadata": {
    "collapsed": false
   },
   "outputs": [],
   "source": [
    "df['x fft min'] = df.apply(lambda row: min(abs(np.fft.fft(row['x']))), axis = 1)\n",
    "df['y fft min'] = df.apply(lambda row: min(abs(np.fft.fft(row['y']))), axis = 1)\n",
    "df['z fft min'] = df.apply(lambda row: min(abs(np.fft.fft(row['z']))), axis = 1)"
   ]
  },
  {
   "cell_type": "code",
   "execution_count": 85,
   "metadata": {
    "collapsed": true
   },
   "outputs": [],
   "source": [
    "df['x fft max'] = df.apply(lambda row: max(abs(np.fft.fft(row['x']))), axis = 1)\n",
    "df['y fft max'] = df.apply(lambda row: max(abs(np.fft.fft(row['y']))), axis = 1)\n",
    "df['z fft max'] = df.apply(lambda row: max(abs(np.fft.fft(row['z']))), axis = 1)"
   ]
  },
  {
   "cell_type": "code",
   "execution_count": 87,
   "metadata": {
    "collapsed": true
   },
   "outputs": [],
   "source": [
    "df['x fft std'] = df.apply(lambda row: np.std(abs(np.fft.fft(row['x']))), axis = 1)\n",
    "df['y fft std'] = df.apply(lambda row: np.std(abs(np.fft.fft(row['y']))), axis = 1)\n",
    "df['z fft std'] = df.apply(lambda row: np.std(abs(np.fft.fft(row['z']))), axis = 1)"
   ]
  },
  {
   "cell_type": "code",
   "execution_count": 89,
   "metadata": {
    "collapsed": true
   },
   "outputs": [],
   "source": [
    "df['x fft mean'] = df.apply(lambda row: np.mean(abs(np.fft.fft(row['x']))), axis = 1)\n",
    "df['y fft mean'] = df.apply(lambda row: np.mean(abs(np.fft.fft(row['y']))), axis = 1)\n",
    "df['z fft mean'] = df.apply(lambda row: np.mean(abs(np.fft.fft(row['z']))), axis = 1)"
   ]
  },
  {
   "cell_type": "code",
   "execution_count": 91,
   "metadata": {
    "collapsed": true
   },
   "outputs": [],
   "source": [
    "df['x fft median'] = df.apply(lambda row: np.median(abs(np.fft.fft(row['x']))), axis = 1)\n",
    "df['y fft median'] = df.apply(lambda row: np.median(abs(np.fft.fft(row['y']))), axis = 1)\n",
    "df['z fft median'] = df.apply(lambda row: np.median(abs(np.fft.fft(row['z']))), axis = 1)"
   ]
  },
  {
   "cell_type": "code",
   "execution_count": null,
   "metadata": {
    "collapsed": true
   },
   "outputs": [],
   "source": []
  },
  {
   "cell_type": "code",
   "execution_count": 92,
   "metadata": {
    "collapsed": false
   },
   "outputs": [
    {
     "data": {
      "text/html": [
       "<div>\n",
       "<table border=\"1\" class=\"dataframe\">\n",
       "  <thead>\n",
       "    <tr style=\"text-align: right;\">\n",
       "      <th></th>\n",
       "      <th>0</th>\n",
       "      <th>1</th>\n",
       "      <th>2</th>\n",
       "      <th>x</th>\n",
       "      <th>y</th>\n",
       "      <th>z</th>\n",
       "      <th>magnitude</th>\n",
       "      <th>max</th>\n",
       "      <th>min</th>\n",
       "      <th>std</th>\n",
       "      <th>...</th>\n",
       "      <th>z fft max</th>\n",
       "      <th>x fft std</th>\n",
       "      <th>y fft std</th>\n",
       "      <th>z fft std</th>\n",
       "      <th>x fft mean</th>\n",
       "      <th>y fft mean</th>\n",
       "      <th>z fft mean</th>\n",
       "      <th>x fft median</th>\n",
       "      <th>y fft median</th>\n",
       "      <th>z fft median</th>\n",
       "    </tr>\n",
       "  </thead>\n",
       "  <tbody>\n",
       "    <tr>\n",
       "      <th>0</th>\n",
       "      <td>gia</td>\n",
       "      <td>walking</td>\n",
       "      <td>[[-9.8, 0.3, -1.5], [-9.8, 0.3, -1.5], [-9.8, ...</td>\n",
       "      <td>[-9.8, -9.8, -9.8, -9.8, -9.7, -9.7, -9.7, -9....</td>\n",
       "      <td>[0.3, 0.3, 0.3, 0.3, 0.3, 0.3, 0.3, 0.3, 0.3, ...</td>\n",
       "      <td>[-1.5, -1.5, -1.5, -1.5, -1.4, -1.4, -1.4, -1....</td>\n",
       "      <td>[9.918669265581952, 9.918669265581952, 9.91866...</td>\n",
       "      <td>19.460987</td>\n",
       "      <td>5.989157</td>\n",
       "      <td>2.138958</td>\n",
       "      <td>...</td>\n",
       "      <td>1079.2</td>\n",
       "      <td>216.656616</td>\n",
       "      <td>32.51747</td>\n",
       "      <td>54.208134</td>\n",
       "      <td>37.885761</td>\n",
       "      <td>30.626037</td>\n",
       "      <td>26.74132</td>\n",
       "      <td>17.115459</td>\n",
       "      <td>18.70638</td>\n",
       "      <td>15.332066</td>\n",
       "    </tr>\n",
       "  </tbody>\n",
       "</table>\n",
       "<p>1 rows × 68 columns</p>\n",
       "</div>"
      ],
      "text/plain": [
       "     0        1                                                  2  \\\n",
       "0  gia  walking  [[-9.8, 0.3, -1.5], [-9.8, 0.3, -1.5], [-9.8, ...   \n",
       "\n",
       "                                                   x  \\\n",
       "0  [-9.8, -9.8, -9.8, -9.8, -9.7, -9.7, -9.7, -9....   \n",
       "\n",
       "                                                   y  \\\n",
       "0  [0.3, 0.3, 0.3, 0.3, 0.3, 0.3, 0.3, 0.3, 0.3, ...   \n",
       "\n",
       "                                                   z  \\\n",
       "0  [-1.5, -1.5, -1.5, -1.5, -1.4, -1.4, -1.4, -1....   \n",
       "\n",
       "                                           magnitude        max       min  \\\n",
       "0  [9.918669265581952, 9.918669265581952, 9.91866...  19.460987  5.989157   \n",
       "\n",
       "        std      ...       z fft max   x fft std  y fft std  z fft std  \\\n",
       "0  2.138958      ...          1079.2  216.656616   32.51747  54.208134   \n",
       "\n",
       "   x fft mean  y fft mean  z fft mean  x fft median  y fft median  \\\n",
       "0   37.885761   30.626037    26.74132     17.115459      18.70638   \n",
       "\n",
       "   z fft median  \n",
       "0     15.332066  \n",
       "\n",
       "[1 rows x 68 columns]"
      ]
     },
     "execution_count": 92,
     "metadata": {},
     "output_type": "execute_result"
    }
   ],
   "source": [
    "df.head(1)"
   ]
  },
  {
   "cell_type": "code",
   "execution_count": null,
   "metadata": {
    "collapsed": true
   },
   "outputs": [],
   "source": []
  },
  {
   "cell_type": "code",
   "execution_count": 93,
   "metadata": {
    "collapsed": false
   },
   "outputs": [],
   "source": [
    "df.to_csv('SimTodActData.csv')"
   ]
  },
  {
   "cell_type": "code",
   "execution_count": null,
   "metadata": {
    "collapsed": true
   },
   "outputs": [],
   "source": []
  }
 ],
 "metadata": {
  "anaconda-cloud": {},
  "kernelspec": {
   "display_name": "Python 3",
   "language": "python",
   "name": "python3"
  },
  "language_info": {
   "codemirror_mode": {
    "name": "ipython",
    "version": 3
   },
   "file_extension": ".py",
   "mimetype": "text/x-python",
   "name": "python",
   "nbconvert_exporter": "python",
   "pygments_lexer": "ipython3",
   "version": "3.6.0"
  },
  "nbpresent": {
   "slides": {
    "00aa9d4f-38f2-4c9b-87cd-358d179027ea": {
     "id": "00aa9d4f-38f2-4c9b-87cd-358d179027ea",
     "prev": "35fbe87f-e44d-4758-ac18-293d1f2834be",
     "regions": {
      "cbde238e-6828-4edb-9a4e-a718557b0797": {
       "attrs": {
        "height": 0.8,
        "width": 0.8,
        "x": 0.1,
        "y": 0.1
       },
       "content": {
        "cell": "e086c663-6f24-4c26-9808-20ae493fa1b7",
        "part": "whole"
       },
       "id": "cbde238e-6828-4edb-9a4e-a718557b0797"
      }
     }
    },
    "24458f1a-fcc4-4aba-89b0-6551963a830c": {
     "id": "24458f1a-fcc4-4aba-89b0-6551963a830c",
     "prev": "f5d4f634-bc9c-413d-b460-8f151499df52",
     "regions": {
      "39f56057-bb51-4d27-a4e7-a5baea59b553": {
       "attrs": {
        "height": 0.8,
        "width": 0.8,
        "x": 0.1,
        "y": 0.1
       },
       "content": {
        "cell": "bc8266c6-a6b5-4ce7-824d-fe7e018aa1dc",
        "part": "whole"
       },
       "id": "39f56057-bb51-4d27-a4e7-a5baea59b553"
      }
     }
    },
    "28e19f2d-2edf-4510-a3cf-0ca6fad92995": {
     "id": "28e19f2d-2edf-4510-a3cf-0ca6fad92995",
     "prev": "5b7e4850-ecc6-46c5-9d39-c98c62fa5bad",
     "regions": {
      "5af28db4-3e32-451c-b3ce-9b0eaada5fc7": {
       "attrs": {
        "height": 0.8,
        "width": 0.8,
        "x": 0.1,
        "y": 0.1
       },
       "content": {
        "cell": "ef61af13-534c-41ce-aead-b2584ec11d83",
        "part": "whole"
       },
       "id": "5af28db4-3e32-451c-b3ce-9b0eaada5fc7"
      }
     }
    },
    "2f2f5ac8-b261-4390-8871-7b598f7c03e9": {
     "id": "2f2f5ac8-b261-4390-8871-7b598f7c03e9",
     "prev": "dc43aabf-059c-4c29-a45b-dc2cb7ab51ee",
     "regions": {
      "803ed76b-1515-4467-bcc2-c70e1e6cf38d": {
       "attrs": {
        "height": 0.8,
        "width": 0.8,
        "x": 0.1,
        "y": 0.1
       },
       "content": {
        "cell": "81495f28-dcd2-4c3d-8bcb-8d46dc672db1",
        "part": "whole"
       },
       "id": "803ed76b-1515-4467-bcc2-c70e1e6cf38d"
      }
     }
    },
    "35fbe87f-e44d-4758-ac18-293d1f2834be": {
     "id": "35fbe87f-e44d-4758-ac18-293d1f2834be",
     "prev": "a971f19a-b09c-41e8-914e-7df63fa4e809",
     "regions": {
      "9298ea76-295a-4354-8b87-7f695481b349": {
       "attrs": {
        "height": 0.8,
        "width": 0.8,
        "x": 0.1,
        "y": 0.1
       },
       "content": {
        "cell": "7eff92fa-7b42-4fd1-8021-bcf5a8beaa39",
        "part": "whole"
       },
       "id": "9298ea76-295a-4354-8b87-7f695481b349"
      }
     }
    },
    "39d27a99-c386-4d1d-8bcd-7004f9c723f6": {
     "id": "39d27a99-c386-4d1d-8bcd-7004f9c723f6",
     "prev": "710686fb-d2dd-44e2-9bcd-3603187e76fa",
     "regions": {
      "b93c4edb-9ea9-44fb-8bf3-d76f8ed60917": {
       "attrs": {
        "height": 0.8,
        "width": 0.8,
        "x": 0.1,
        "y": 0.1
       },
       "content": {
        "cell": "46327b6e-3158-4b6a-b918-ac7c070cf448",
        "part": "whole"
       },
       "id": "b93c4edb-9ea9-44fb-8bf3-d76f8ed60917"
      }
     }
    },
    "40e00ff8-dca5-4fa9-87c4-5533321cdf50": {
     "id": "40e00ff8-dca5-4fa9-87c4-5533321cdf50",
     "prev": "5d3fb42a-d020-4698-93c1-949787196fcf",
     "regions": {
      "e65767e5-e9f0-4d45-8cfb-9756191e7888": {
       "attrs": {
        "height": 0.8,
        "width": 0.8,
        "x": 0.1,
        "y": 0.1
       },
       "content": {
        "cell": "40b02c89-cc86-4e02-93d3-648620f1ddf6",
        "part": "whole"
       },
       "id": "e65767e5-e9f0-4d45-8cfb-9756191e7888"
      }
     }
    },
    "4d6526d7-84a2-412f-8de3-d428c2603d5a": {
     "id": "4d6526d7-84a2-412f-8de3-d428c2603d5a",
     "prev": "af7ac804-e995-44bd-9555-44030de8cbc9",
     "regions": {
      "aca280c4-afb0-4728-87fc-5b278d4fca95": {
       "attrs": {
        "height": 0.8,
        "width": 0.8,
        "x": 0.1,
        "y": 0.1
       },
       "content": {
        "cell": "de2d4821-414a-4b4d-aa44-490fc69c1332",
        "part": "whole"
       },
       "id": "aca280c4-afb0-4728-87fc-5b278d4fca95"
      }
     }
    },
    "5b7e4850-ecc6-46c5-9d39-c98c62fa5bad": {
     "id": "5b7e4850-ecc6-46c5-9d39-c98c62fa5bad",
     "prev": "00aa9d4f-38f2-4c9b-87cd-358d179027ea",
     "regions": {
      "3ade3b54-b949-419b-8eaf-676cd8e6ff10": {
       "attrs": {
        "height": 0.8,
        "width": 0.8,
        "x": 0.1,
        "y": 0.1
       },
       "content": {
        "cell": "367c9c1f-9583-428a-88ec-a54bff41f630",
        "part": "whole"
       },
       "id": "3ade3b54-b949-419b-8eaf-676cd8e6ff10"
      }
     }
    },
    "5d3fb42a-d020-4698-93c1-949787196fcf": {
     "id": "5d3fb42a-d020-4698-93c1-949787196fcf",
     "prev": "28e19f2d-2edf-4510-a3cf-0ca6fad92995",
     "regions": {
      "20b55005-9431-4a14-80af-b7fb661cbfce": {
       "attrs": {
        "height": 0.8,
        "width": 0.8,
        "x": 0.1,
        "y": 0.1
       },
       "content": {
        "cell": "f7c3093c-2495-4966-bc13-2e748756443c",
        "part": "whole"
       },
       "id": "20b55005-9431-4a14-80af-b7fb661cbfce"
      }
     }
    },
    "5dfa2a38-f1aa-4e29-988b-55d05f1bb331": {
     "id": "5dfa2a38-f1aa-4e29-988b-55d05f1bb331",
     "prev": "a87b18b1-136f-42c0-97fe-496d166e601d",
     "regions": {
      "9bdeb93f-3464-46d7-9703-dd3c4076b1f9": {
       "attrs": {
        "height": 0.8,
        "width": 0.8,
        "x": 0.1,
        "y": 0.1
       },
       "content": {
        "cell": "5ca7fe1f-226f-4d81-8c88-2f7fca679ca2",
        "part": "whole"
       },
       "id": "9bdeb93f-3464-46d7-9703-dd3c4076b1f9"
      }
     }
    },
    "6c734dc7-218e-4ccd-b382-2a24cb4f3c67": {
     "id": "6c734dc7-218e-4ccd-b382-2a24cb4f3c67",
     "prev": "c879f959-2f63-45d0-b287-5a499f09a890",
     "regions": {
      "1edb6e2f-c033-4df2-ad7d-24068abe6533": {
       "attrs": {
        "height": 0.8,
        "width": 0.8,
        "x": 0.1,
        "y": 0.1
       },
       "content": {
        "cell": "eff9e866-8d7c-4270-ab8a-34cab6826137",
        "part": "whole"
       },
       "id": "1edb6e2f-c033-4df2-ad7d-24068abe6533"
      }
     }
    },
    "710686fb-d2dd-44e2-9bcd-3603187e76fa": {
     "id": "710686fb-d2dd-44e2-9bcd-3603187e76fa",
     "prev": "80cb2a4f-5b1f-4ec4-a0c6-b65db12465f3",
     "regions": {
      "40641d00-971f-4e81-9bac-fe38e2194e26": {
       "attrs": {
        "height": 0.8,
        "width": 0.8,
        "x": 0.1,
        "y": 0.1
       },
       "content": {
        "cell": "7a959381-03c5-492f-b6f8-e2ebff1cee14",
        "part": "whole"
       },
       "id": "40641d00-971f-4e81-9bac-fe38e2194e26"
      }
     }
    },
    "7980f726-7060-4448-8a63-8f35ee9f113c": {
     "id": "7980f726-7060-4448-8a63-8f35ee9f113c",
     "prev": null,
     "regions": {
      "e7796935-2c2d-4e79-8fa4-d857b85988d9": {
       "attrs": {
        "height": 0.8,
        "width": 0.8,
        "x": 0.1,
        "y": 0.1
       },
       "content": {
        "cell": "b4256dce-8961-42c5-87f9-71b82c75c555",
        "part": "whole"
       },
       "id": "e7796935-2c2d-4e79-8fa4-d857b85988d9"
      }
     }
    },
    "80cb2a4f-5b1f-4ec4-a0c6-b65db12465f3": {
     "id": "80cb2a4f-5b1f-4ec4-a0c6-b65db12465f3",
     "prev": "af61bb1d-b77d-47f2-9ae4-dfd4f3788679",
     "regions": {
      "76737a2b-3165-45e7-acf8-e5fb90ce2b9f": {
       "attrs": {
        "height": 0.8,
        "width": 0.8,
        "x": 0.1,
        "y": 0.1
       },
       "content": {
        "cell": "1fae0419-be89-4deb-b5e8-0463940d07ae",
        "part": "whole"
       },
       "id": "76737a2b-3165-45e7-acf8-e5fb90ce2b9f"
      }
     }
    },
    "89154808-258a-4328-a8e9-f071f230dc3e": {
     "id": "89154808-258a-4328-a8e9-f071f230dc3e",
     "prev": "b17dfe1d-ed8a-4df7-ac31-3ce5c7c35e54",
     "regions": {
      "dee056b7-c15f-44fe-97e0-af3eb49576d9": {
       "attrs": {
        "height": 0.8,
        "width": 0.8,
        "x": 0.1,
        "y": 0.1
       },
       "content": {
        "cell": "327894fa-5ce0-4967-9872-a4009e7c2f55",
        "part": "whole"
       },
       "id": "dee056b7-c15f-44fe-97e0-af3eb49576d9"
      }
     }
    },
    "a87b18b1-136f-42c0-97fe-496d166e601d": {
     "id": "a87b18b1-136f-42c0-97fe-496d166e601d",
     "prev": "24458f1a-fcc4-4aba-89b0-6551963a830c",
     "regions": {
      "372a86a8-db2c-48fd-9e8b-34b7502784ca": {
       "attrs": {
        "height": 0.8,
        "width": 0.8,
        "x": 0.1,
        "y": 0.1
       },
       "content": {
        "cell": "aadfe1b4-205f-42eb-bac3-ea0d033ea5d0",
        "part": "whole"
       },
       "id": "372a86a8-db2c-48fd-9e8b-34b7502784ca"
      }
     }
    },
    "a971f19a-b09c-41e8-914e-7df63fa4e809": {
     "id": "a971f19a-b09c-41e8-914e-7df63fa4e809",
     "prev": "6c734dc7-218e-4ccd-b382-2a24cb4f3c67",
     "regions": {
      "ed3c9611-91ee-45dd-ab2e-f2e0fb43b041": {
       "attrs": {
        "height": 0.8,
        "width": 0.8,
        "x": 0.1,
        "y": 0.1
       },
       "content": {
        "cell": "530dfcc7-e934-49ae-8e23-fcc83bb20ad9",
        "part": "whole"
       },
       "id": "ed3c9611-91ee-45dd-ab2e-f2e0fb43b041"
      }
     }
    },
    "af61bb1d-b77d-47f2-9ae4-dfd4f3788679": {
     "id": "af61bb1d-b77d-47f2-9ae4-dfd4f3788679",
     "prev": "5dfa2a38-f1aa-4e29-988b-55d05f1bb331",
     "regions": {
      "abd05cbd-c160-4960-a559-935fcf814381": {
       "attrs": {
        "height": 0.8,
        "width": 0.8,
        "x": 0.1,
        "y": 0.1
       },
       "content": {
        "cell": "ea968157-ba06-4114-ada9-08d0178e0ea6",
        "part": "whole"
       },
       "id": "abd05cbd-c160-4960-a559-935fcf814381"
      }
     }
    },
    "af7ac804-e995-44bd-9555-44030de8cbc9": {
     "id": "af7ac804-e995-44bd-9555-44030de8cbc9",
     "prev": "2f2f5ac8-b261-4390-8871-7b598f7c03e9",
     "regions": {
      "73fcf038-c283-4ff9-9f84-ea5c832b7cef": {
       "attrs": {
        "height": 0.8,
        "width": 0.8,
        "x": 0.1,
        "y": 0.1
       },
       "content": {
        "cell": "953e2dab-141c-4505-b00c-4e2395d95fef",
        "part": "whole"
       },
       "id": "73fcf038-c283-4ff9-9f84-ea5c832b7cef"
      }
     }
    },
    "b17dfe1d-ed8a-4df7-ac31-3ce5c7c35e54": {
     "id": "b17dfe1d-ed8a-4df7-ac31-3ce5c7c35e54",
     "prev": "c615bd74-696a-4a06-af65-00249f3ef3be",
     "regions": {
      "5216904a-6218-415c-925f-7e9442411886": {
       "attrs": {
        "height": 0.8,
        "width": 0.8,
        "x": 0.1,
        "y": 0.1
       },
       "content": {
        "cell": "56452b22-a724-4618-bd78-0c9db808bc31",
        "part": "whole"
       },
       "id": "5216904a-6218-415c-925f-7e9442411886"
      }
     }
    },
    "c615bd74-696a-4a06-af65-00249f3ef3be": {
     "id": "c615bd74-696a-4a06-af65-00249f3ef3be",
     "prev": "4d6526d7-84a2-412f-8de3-d428c2603d5a",
     "regions": {
      "2fc34aec-37ef-464e-a428-80bfbbd044b7": {
       "attrs": {
        "height": 0.8,
        "width": 0.8,
        "x": 0.1,
        "y": 0.1
       },
       "content": {
        "cell": "bf1c2268-9b22-429a-ae6b-34d258dbb7a8",
        "part": "whole"
       },
       "id": "2fc34aec-37ef-464e-a428-80bfbbd044b7"
      }
     }
    },
    "c879f959-2f63-45d0-b287-5a499f09a890": {
     "id": "c879f959-2f63-45d0-b287-5a499f09a890",
     "prev": "89154808-258a-4328-a8e9-f071f230dc3e",
     "regions": {
      "1de9e533-96aa-4079-b40f-189e514dbe9a": {
       "attrs": {
        "height": 0.8,
        "width": 0.8,
        "x": 0.1,
        "y": 0.1
       },
       "content": {
        "cell": "f6870b90-cbd2-4db0-9781-97b7b788c184",
        "part": "whole"
       },
       "id": "1de9e533-96aa-4079-b40f-189e514dbe9a"
      }
     }
    },
    "dc43aabf-059c-4c29-a45b-dc2cb7ab51ee": {
     "id": "dc43aabf-059c-4c29-a45b-dc2cb7ab51ee",
     "prev": "39d27a99-c386-4d1d-8bcd-7004f9c723f6",
     "regions": {
      "9a111f70-833f-448f-9af7-ea2ff7245861": {
       "attrs": {
        "height": 0.8,
        "width": 0.8,
        "x": 0.1,
        "y": 0.1
       },
       "content": {
        "cell": "6971a287-bc29-41a6-8845-2c2a4240dd4d",
        "part": "whole"
       },
       "id": "9a111f70-833f-448f-9af7-ea2ff7245861"
      }
     }
    },
    "ec140e2b-69d5-4a42-a0f1-3b59040fd303": {
     "id": "ec140e2b-69d5-4a42-a0f1-3b59040fd303",
     "prev": "40e00ff8-dca5-4fa9-87c4-5533321cdf50",
     "regions": {
      "3b9445a8-52b1-4fc1-8fcc-094f69458b79": {
       "attrs": {
        "height": 0.8,
        "width": 0.8,
        "x": 0.1,
        "y": 0.1
       },
       "content": {
        "cell": "ddf51d90-bf80-4f78-bf80-c6e7964109f7",
        "part": "whole"
       },
       "id": "3b9445a8-52b1-4fc1-8fcc-094f69458b79"
      }
     }
    },
    "f5d4f634-bc9c-413d-b460-8f151499df52": {
     "id": "f5d4f634-bc9c-413d-b460-8f151499df52",
     "prev": "7980f726-7060-4448-8a63-8f35ee9f113c",
     "regions": {
      "c357a6ee-d28f-462e-bee7-2227cfb5591d": {
       "attrs": {
        "height": 0.8,
        "width": 0.8,
        "x": 0.1,
        "y": 0.1
       },
       "content": {
        "cell": "4ebc0005-589b-45e8-9522-4561f9b04b78",
        "part": "whole"
       },
       "id": "c357a6ee-d28f-462e-bee7-2227cfb5591d"
      }
     }
    }
   },
   "themes": {}
  }
 },
 "nbformat": 4,
 "nbformat_minor": 2
}
