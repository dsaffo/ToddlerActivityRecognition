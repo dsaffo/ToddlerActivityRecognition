{
 "cells": [
  {
   "cell_type": "markdown",
   "metadata": {
    "nbpresent": {
     "id": "b4256dce-8961-42c5-87f9-71b82c75c555"
    }
   },
   "source": [
    "# Data Clean\n",
    "### Takes data labels it, and breaks it into one second chunks\n",
    "#### David Saffo\n",
    "#### 5/16/2017"
   ]
  },
  {
   "cell_type": "code",
   "execution_count": 1,
   "metadata": {
    "collapsed": false,
    "nbpresent": {
     "id": "4ebc0005-589b-45e8-9522-4561f9b04b78"
    }
   },
   "outputs": [],
   "source": [
    "import pandas as pd\n",
    "import itertools\n",
    "import numpy as np\n",
    "from io import StringIO\n",
    "import math\n",
    "import scipy.stats.stats as stats\n",
    "from sklearn.model_selection import train_test_split\n",
    "from sklearn import metrics\n",
    "from sklearn.neighbors import KNeighborsClassifier\n",
    "from sklearn.metrics import accuracy_score\n",
    "from sklearn.metrics import f1_score\n",
    "import matplotlib.pyplot as plt\n",
    "from sklearn.metrics import confusion_matrix\n",
    "%matplotlib inline\n",
    "s = 10000000"
   ]
  },
  {
   "cell_type": "code",
   "execution_count": 2,
   "metadata": {
    "collapsed": false,
    "nbpresent": {
     "id": "bc8266c6-a6b5-4ce7-824d-fe7e018aa1dc"
    }
   },
   "outputs": [],
   "source": [
    "giaWalking = pd.read_csv(\"Gia Walking.csv\", header = None, skiprows = 2)\n",
    "giaRunning = pd.read_csv(\"Gia Running.csv\", header = None, skiprows = 2)\n",
    "giaSitting = pd.read_csv(\"Gia Sitting.csv\", header = None, skiprows = 2)\n",
    "giaSleeping = pd.read_csv(\"Gia Sleeping.csv\", header = None, skiprows = 2)\n",
    "giaStanding = pd.read_csv(\"Gia Standing.csv\", header = None, skiprows = 2)\n",
    "giaClimbing = pd.read_csv(\"Gia Climbing.csv\", header = None, skiprows = 2)\n",
    "ilonaWalking = pd.read_csv(\"Ilona Walking.csv\", header = None, skiprows = 2)\n",
    "ilonaRunning = pd.read_csv(\"Ilona Running.csv\", header = None, skiprows = 2)\n",
    "ilonaSitting = pd.read_csv(\"Ilona Sitting.csv\", header = None, skiprows = 2)\n",
    "ilonaSleeping = pd.read_csv(\"Ilona Sleeping.csv\", header = None, skiprows = 2)\n",
    "ilonaStanding = pd.read_csv(\"Ilona Standing.csv\", header = None, skiprows = 2)\n",
    "ilonaClimbing = pd.read_csv(\"Ilona Climbing.csv\", header = None, skiprows = 2)\n",
    "liliWalking = pd.read_csv(\"Lili Walking.csv\", header = None, skiprows = 2)\n",
    "liliRunning = pd.read_csv(\"Lili Running.csv\", header = None, skiprows = 2)\n",
    "liliSitting = pd.read_csv(\"Lili Sitting.csv\", header = None, skiprows = 2)\n",
    "liliSleeping = pd.read_csv(\"Lili Sleeping.csv\", header = None, skiprows = 2)\n",
    "liliStanding = pd.read_csv(\"Lili Standing.csv\", header = None, skiprows = 2)\n",
    "liliClimbing = pd.read_csv(\"Lili Climbing.csv\", header = None, skiprows = 2)"
   ]
  },
  {
   "cell_type": "code",
   "execution_count": 3,
   "metadata": {
    "collapsed": true
   },
   "outputs": [],
   "source": [
    "chrisWalking = pd.read_csv(\"Chris Walking.csv\", header = None, skiprows = 2)\n",
    "chrisRunning = pd.read_csv(\"Chris Running.csv\", header = None, skiprows = 2)\n",
    "chrisSitting = pd.read_csv(\"Chris Sitting.csv\", header = None, skiprows = 2)\n",
    "chrisSleeping = pd.read_csv(\"Chris Sleeping.csv\", header = None, skiprows = 2)\n",
    "chrisStanding = pd.read_csv(\"Chris Standing.csv\", header = None, skiprows = 2)\n",
    "chrisClimbing = pd.read_csv(\"Chris Climbing.csv\", header = None, skiprows = 2)\n",
    "davidWalking = pd.read_csv(\"David Walking.csv\", header = None, skiprows = 2)\n",
    "davidRunning = pd.read_csv(\"David Running.csv\", header = None, skiprows = 2)\n",
    "davidSitting = pd.read_csv(\"David Sitting.csv\", header = None, skiprows = 2)\n",
    "davidSleeping = pd.read_csv(\"David Sleeping.csv\", header = None, skiprows = 2)\n",
    "davidStanding = pd.read_csv(\"David Standing.csv\", header = None, skiprows = 2)\n",
    "davidClimbing = pd.read_csv(\"David Climbing.csv\", header = None, skiprows = 2)"
   ]
  },
  {
   "cell_type": "code",
   "execution_count": 4,
   "metadata": {
    "collapsed": false,
    "nbpresent": {
     "id": "aadfe1b4-205f-42eb-bac3-ea0d033ea5d0"
    }
   },
   "outputs": [],
   "source": [
    "def createDF(sub, act, data):\n",
    "    data = data.drop(4,1)\n",
    "    x = 0\n",
    "    i = 0\n",
    "    array = []\n",
    "    d = []\n",
    "    for index, row in data.iterrows():\n",
    "        if (data.iloc[index,0] %2 != 0):\n",
    "            array.append([data.iloc[index,1],data.iloc[index,2],data.iloc[index,3]])\n",
    "        elif (data.iloc[index,0] % 2 == 0):\n",
    "            d.append([sub , act, array])\n",
    "            array = []\n",
    "            i+=1\n",
    "\n",
    "    d.pop(0)\n",
    "    d.pop(-1)\n",
    "    d.pop(-2)\n",
    "\n",
    "    dftest = pd.DataFrame(d)\n",
    "    \n",
    "    return dftest"
   ]
  },
  {
   "cell_type": "code",
   "execution_count": 5,
   "metadata": {
    "collapsed": false,
    "nbpresent": {
     "id": "5ca7fe1f-226f-4d81-8c88-2f7fca679ca2"
    }
   },
   "outputs": [],
   "source": [
    "df = createDF(\"gia\", \"walking\", giaWalking)\n",
    "df = df.append(createDF(\"gia\", \"running\", giaRunning), ignore_index=True)\n",
    "df = df.append(createDF(\"gia\", \"sleeping\", giaSleeping), ignore_index=True)\n",
    "df = df.append(createDF(\"gia\", \"climbing\", giaClimbing), ignore_index=True)\n",
    "df = df.append(createDF(\"gia\", \"sitting\", giaSitting), ignore_index=True)\n",
    "df = df.append(createDF(\"gia\", \"standing\", giaStanding), ignore_index=True)\n",
    "\n",
    "df = df.append(createDF(\"ilona\", \"walking\", ilonaWalking), ignore_index=True)\n",
    "df = df.append(createDF(\"ilona\", \"running\", ilonaRunning), ignore_index=True)\n",
    "df = df.append(createDF(\"ilona\", \"sleeping\", ilonaSleeping), ignore_index=True)\n",
    "df = df.append(createDF(\"ilona\", \"climbing\", ilonaClimbing), ignore_index=True)\n",
    "df = df.append(createDF(\"ilona\", \"sitting\", ilonaSitting), ignore_index=True)\n",
    "df = df.append(createDF(\"ilona\", \"standing\", ilonaStanding), ignore_index=True)\n",
    "\n",
    "df = df.append(createDF(\"lili\", \"walking\", liliWalking), ignore_index=True)\n",
    "df = df.append(createDF(\"lili\", \"running\", liliRunning), ignore_index=True)\n",
    "df = df.append(createDF(\"lili\", \"sleeping\", liliSleeping), ignore_index=True)\n",
    "df = df.append(createDF(\"lili\", \"climbing\", liliClimbing), ignore_index=True)\n",
    "df = df.append(createDF(\"lili\", \"sitting\", liliSitting), ignore_index=True)\n",
    "df = df.append(createDF(\"lili\", \"standing\", liliStanding), ignore_index=True)\n",
    "               \n",
    "df = df.append(createDF(\"chris\", \"walking\", chrisWalking), ignore_index=True)\n",
    "df = df.append(createDF(\"chris\", \"running\", chrisRunning), ignore_index=True)\n",
    "df = df.append(createDF(\"chris\", \"sleeping\", chrisSleeping), ignore_index=True)\n",
    "df = df.append(createDF(\"chris\", \"climbing\", chrisClimbing), ignore_index=True)\n",
    "df = df.append(createDF(\"chris\", \"sitting\", chrisSitting), ignore_index=True)\n",
    "df = df.append(createDF(\"chris\", \"standing\", chrisStanding), ignore_index=True)\n",
    "\n",
    "df = df.append(createDF(\"david\", \"walking\", davidWalking), ignore_index=True)\n",
    "df = df.append(createDF(\"david\", \"running\", davidRunning), ignore_index=True)\n",
    "df = df.append(createDF(\"david\", \"sleeping\", davidSleeping), ignore_index=True)\n",
    "df = df.append(createDF(\"david\", \"climbing\", davidClimbing), ignore_index=True)\n",
    "df = df.append(createDF(\"david\", \"sitting\", davidSitting), ignore_index=True)\n",
    "df = df.append(createDF(\"david\", \"standing\", davidStanding), ignore_index=True)"
   ]
  },
  {
   "cell_type": "code",
   "execution_count": 6,
   "metadata": {
    "collapsed": false,
    "nbpresent": {
     "id": "ea968157-ba06-4114-ada9-08d0178e0ea6"
    }
   },
   "outputs": [],
   "source": [
    "temp = []\n",
    "a = []\n",
    "mag = []\n",
    "for i in range(len(df)):\n",
    "    temp = df.iloc[i,2]\n",
    "    mag = []\n",
    "    for j in range(len(temp)):\n",
    "        x = temp[j][0]\n",
    "        y = temp[j][1]\n",
    "        z = temp[j][2]\n",
    "    \n",
    "        magnitude = math.sqrt(x ** 2 + y ** 2 + z ** 2)\n",
    "        \n",
    "        mag.append(magnitude)\n",
    "       \n",
    "    a.append(mag)\n",
    "\n",
    "df.insert(3, \"magnitude\", a)"
   ]
  },
  {
   "cell_type": "code",
   "execution_count": 7,
   "metadata": {
    "collapsed": false,
    "nbpresent": {
     "id": "7a959381-03c5-492f-b6f8-e2ebff1cee14"
    }
   },
   "outputs": [],
   "source": [
    "temp = []\n",
    "a = []\n",
    "\n",
    "\n",
    "for i in range(len(df)):\n",
    "    temp = df.iloc[i,3]\n",
    "    Max = max(temp)\n",
    "       \n",
    "    a.append(Max)\n",
    "\n",
    "df.insert(4, \"max\", a)"
   ]
  },
  {
   "cell_type": "code",
   "execution_count": 8,
   "metadata": {
    "collapsed": false,
    "nbpresent": {
     "id": "6971a287-bc29-41a6-8845-2c2a4240dd4d"
    }
   },
   "outputs": [],
   "source": [
    "temp = []\n",
    "a = []\n",
    "\n",
    "\n",
    "for i in range(len(df)):\n",
    "    temp = df.iloc[i,3]\n",
    "    Min = min(temp)\n",
    "       \n",
    "    a.append(Min)\n",
    "\n",
    "df.insert(5, \"min\", a)"
   ]
  },
  {
   "cell_type": "code",
   "execution_count": 9,
   "metadata": {
    "collapsed": true,
    "nbpresent": {
     "id": "953e2dab-141c-4505-b00c-4e2395d95fef"
    }
   },
   "outputs": [],
   "source": [
    "temp = []\n",
    "a = []\n",
    "\n",
    "\n",
    "for i in range(len(df)):\n",
    "    temp = df.iloc[i,3]\n",
    "    x = np.array(temp)\n",
    "    std = np.std(x)\n",
    "    a.append(std)\n",
    "\n",
    "df.insert(6, \"std\", a)"
   ]
  },
  {
   "cell_type": "code",
   "execution_count": 10,
   "metadata": {
    "collapsed": false,
    "nbpresent": {
     "id": "bf1c2268-9b22-429a-ae6b-34d258dbb7a8"
    }
   },
   "outputs": [],
   "source": [
    "temp = []\n",
    "a = []\n",
    "\n",
    "\n",
    "for i in range(len(df)):\n",
    "    temp = df.iloc[i,3]\n",
    "    skew = stats.skew(temp)\n",
    "    a.append(skew)\n",
    "\n",
    "df.insert(7, \"skew\", a)"
   ]
  },
  {
   "cell_type": "code",
   "execution_count": 11,
   "metadata": {
    "collapsed": true
   },
   "outputs": [],
   "source": [
    "temp = []\n",
    "a = []\n",
    "\n",
    "\n",
    "for i in range(len(df)):\n",
    "    temp = df.iloc[i,3]\n",
    "    kurt = stats.kurtosis(temp)\n",
    "    a.append(kurt)\n",
    "\n",
    "df.insert(8, \"kurtosis\", a)"
   ]
  },
  {
   "cell_type": "code",
   "execution_count": 12,
   "metadata": {
    "collapsed": false,
    "nbpresent": {
     "id": "eff9e866-8d7c-4270-ab8a-34cab6826137"
    }
   },
   "outputs": [],
   "source": [
    "temp = []\n",
    "a = []\n",
    "\n",
    "\n",
    "for i in range(len(df)):\n",
    "    temp = df.iloc[i,3]\n",
    "    x = np.array(temp)\n",
    "    Mean = np.mean(x)\n",
    "    a.append(Mean)\n",
    "\n",
    "df.insert(9, \"mean\", a)"
   ]
  },
  {
   "cell_type": "code",
   "execution_count": 13,
   "metadata": {
    "collapsed": false,
    "nbpresent": {
     "id": "7eff92fa-7b42-4fd1-8021-bcf5a8beaa39"
    }
   },
   "outputs": [],
   "source": [
    "temp = []\n",
    "a = []\n",
    "\n",
    "for i in range(len(df)):\n",
    "    temp = df.iloc[i,3]\n",
    "    x = np.array(temp)\n",
    "    Median = np.median(x)\n",
    "    a.append(Median)\n",
    "\n",
    "df.insert(10, \"median\", a)"
   ]
  },
  {
   "cell_type": "code",
   "execution_count": 14,
   "metadata": {
    "collapsed": false
   },
   "outputs": [],
   "source": [
    "temp = []\n",
    "tempx = []\n",
    "tempy = []\n",
    "tempz = []\n",
    "x = []\n",
    "y = []\n",
    "z = []\n",
    "for i in range(len(df)):\n",
    "    temp = df.iloc[i,2]\n",
    "    for j in range(len(temp)):\n",
    "        tempx.append(temp[j][0])\n",
    "        tempy.append(temp[j][1])\n",
    "        tempz.append(temp[j][2])\n",
    "    x.append(max(tempx))\n",
    "    y.append(max(tempy))\n",
    "    z.append(max(tempz))\n",
    "    tempx = []\n",
    "    tempy = []\n",
    "    tempz = []\n",
    "\n",
    "df.insert(11, \"x max\", x)\n",
    "df.insert(12, \"y max\", y)\n",
    "df.insert(13, \"z max\", z)"
   ]
  },
  {
   "cell_type": "code",
   "execution_count": 15,
   "metadata": {
    "collapsed": false
   },
   "outputs": [],
   "source": [
    "temp = []\n",
    "tempx = []\n",
    "tempy = []\n",
    "tempz = []\n",
    "x = []\n",
    "y = []\n",
    "z = []\n",
    "for i in range(len(df)):\n",
    "    temp = df.iloc[i,2]\n",
    "    for j in range(len(temp)):\n",
    "        tempx.append(temp[j][0])\n",
    "        tempy.append(temp[j][1])\n",
    "        tempz.append(temp[j][2])\n",
    "    x.append(min(tempx))\n",
    "    y.append(min(tempy))\n",
    "    z.append(min(tempz))\n",
    "    tempx = []\n",
    "    tempy = []\n",
    "    tempz = []\n",
    "\n",
    "df.insert(14, \"x min\", x)\n",
    "df.insert(15, \"y min\", y)\n",
    "df.insert(16, \"z min\", z)"
   ]
  },
  {
   "cell_type": "code",
   "execution_count": 16,
   "metadata": {
    "collapsed": true
   },
   "outputs": [],
   "source": [
    "temp = []\n",
    "tempx = []\n",
    "tempy = []\n",
    "tempz = []\n",
    "x = []\n",
    "y = []\n",
    "z = []\n",
    "for i in range(len(df)):\n",
    "    temp = df.iloc[i,2]\n",
    "    \n",
    "    for j in range(len(temp)):\n",
    "        tempx.append(temp[j][0])\n",
    "        tempy.append(temp[j][1])\n",
    "        tempz.append(temp[j][2])\n",
    "    meanx = np.array(tempx)\n",
    "    meany = np.array(tempy)\n",
    "    meanz = np.array(tempz)\n",
    "    x.append(np.mean(meanx))\n",
    "    y.append(np.mean(meany))\n",
    "    z.append(np.mean(meanz))\n",
    "    tempx = []\n",
    "    tempy = []\n",
    "    tempz = []\n",
    "\n",
    "df.insert(17, \"x mean\", x)\n",
    "df.insert(18, \"y mean\", y)\n",
    "df.insert(19, \"z mean\", z)"
   ]
  },
  {
   "cell_type": "code",
   "execution_count": 17,
   "metadata": {
    "collapsed": true
   },
   "outputs": [],
   "source": [
    "temp = []\n",
    "tempx = []\n",
    "tempy = []\n",
    "tempz = []\n",
    "x = []\n",
    "y = []\n",
    "z = []\n",
    "for i in range(len(df)):\n",
    "    temp = df.iloc[i,2]\n",
    "    \n",
    "    for j in range(len(temp)):\n",
    "        tempx.append(temp[j][0])\n",
    "        tempy.append(temp[j][1])\n",
    "        tempz.append(temp[j][2])\n",
    "    medianx = np.array(tempx)\n",
    "    mediany = np.array(tempy)\n",
    "    medianz = np.array(tempz)\n",
    "    x.append(np.median(medianx))\n",
    "    y.append(np.median(mediany))\n",
    "    z.append(np.median(medianz))\n",
    "    tempx = []\n",
    "    tempy = []\n",
    "    tempz = []\n",
    "\n",
    "df.insert(20, \"x median\", x)\n",
    "df.insert(21, \"y median\", y)\n",
    "df.insert(22, \"z median\", z)"
   ]
  },
  {
   "cell_type": "code",
   "execution_count": 18,
   "metadata": {
    "collapsed": true
   },
   "outputs": [],
   "source": [
    "temp = []\n",
    "tempx = []\n",
    "tempy = []\n",
    "tempz = []\n",
    "x = []\n",
    "y = []\n",
    "z = []\n",
    "for i in range(len(df)):\n",
    "    temp = df.iloc[i,2]\n",
    "    for j in range(len(temp)):\n",
    "        tempx.append(temp[j][0])\n",
    "        tempy.append(temp[j][1])\n",
    "        tempz.append(temp[j][2])\n",
    "    x.append(stats.skew(tempx))\n",
    "    y.append(stats.skew(tempy))\n",
    "    z.append(stats.skew(tempz))\n",
    "    tempx = []\n",
    "    tempy = []\n",
    "    tempz = []\n",
    "\n",
    "df.insert(23, \"x skew\", x)\n",
    "df.insert(24, \"y skew\", y)\n",
    "df.insert(25, \"z skew\", z)"
   ]
  },
  {
   "cell_type": "code",
   "execution_count": 19,
   "metadata": {
    "collapsed": true
   },
   "outputs": [],
   "source": [
    "temp = []\n",
    "tempx = []\n",
    "tempy = []\n",
    "tempz = []\n",
    "x = []\n",
    "y = []\n",
    "z = []\n",
    "for i in range(len(df)):\n",
    "    temp = df.iloc[i,2]\n",
    "    for j in range(len(temp)):\n",
    "        tempx.append(temp[j][0])\n",
    "        tempy.append(temp[j][1])\n",
    "        tempz.append(temp[j][2])\n",
    "    x.append(stats.kurtosis(tempx))\n",
    "    y.append(stats.kurtosis(tempy))\n",
    "    z.append(stats.kurtosis(tempz))\n",
    "    tempx = []\n",
    "    tempy = []\n",
    "    tempz = []\n",
    "\n",
    "df.insert(26, \"x kurtosis\", x)\n",
    "df.insert(27, \"y kurtosis\", y)\n",
    "df.insert(28, \"z kurtosis\", z)"
   ]
  },
  {
   "cell_type": "code",
   "execution_count": 20,
   "metadata": {
    "collapsed": true
   },
   "outputs": [],
   "source": [
    "temp = []\n",
    "tempx = []\n",
    "tempy = []\n",
    "tempz = []\n",
    "x = []\n",
    "y = []\n",
    "z = []\n",
    "for i in range(len(df)):\n",
    "    temp = df.iloc[i,2]\n",
    "    \n",
    "    for j in range(len(temp)):\n",
    "        tempx.append(temp[j][0])\n",
    "        tempy.append(temp[j][1])\n",
    "        tempz.append(temp[j][2])\n",
    "    \n",
    "    stdx = np.array(tempx)\n",
    "    stdy = np.array(tempy)\n",
    "    stdz = np.array(tempz)\n",
    "    x.append(np.std(stdx))\n",
    "    y.append(np.std(stdy))\n",
    "    z.append(np.std(stdz))\n",
    "    tempx = []\n",
    "    tempy = []\n",
    "    tempz = []\n",
    "\n",
    "df.insert(29, \"x std\", x)\n",
    "df.insert(30, \"y std\", y)\n",
    "df.insert(31, \"z std\", z)"
   ]
  },
  {
   "cell_type": "code",
   "execution_count": 21,
   "metadata": {
    "collapsed": false
   },
   "outputs": [
    {
     "data": {
      "text/html": [
       "<div>\n",
       "<table border=\"1\" class=\"dataframe\">\n",
       "  <thead>\n",
       "    <tr style=\"text-align: right;\">\n",
       "      <th></th>\n",
       "      <th>0</th>\n",
       "      <th>1</th>\n",
       "      <th>2</th>\n",
       "      <th>magnitude</th>\n",
       "      <th>max</th>\n",
       "      <th>min</th>\n",
       "      <th>std</th>\n",
       "      <th>skew</th>\n",
       "      <th>kurtosis</th>\n",
       "      <th>mean</th>\n",
       "      <th>...</th>\n",
       "      <th>z median</th>\n",
       "      <th>x skew</th>\n",
       "      <th>y skew</th>\n",
       "      <th>z skew</th>\n",
       "      <th>x kurtosis</th>\n",
       "      <th>y kurtosis</th>\n",
       "      <th>z kurtosis</th>\n",
       "      <th>x std</th>\n",
       "      <th>y std</th>\n",
       "      <th>z std</th>\n",
       "    </tr>\n",
       "  </thead>\n",
       "  <tbody>\n",
       "    <tr>\n",
       "      <th>0</th>\n",
       "      <td>gia</td>\n",
       "      <td>walking</td>\n",
       "      <td>[[-9.8, 0.3, -1.5], [-9.8, 0.3, -1.5], [-9.8, ...</td>\n",
       "      <td>[9.918669265581952, 9.918669265581952, 9.91866...</td>\n",
       "      <td>14.342245</td>\n",
       "      <td>7.056203</td>\n",
       "      <td>1.153909</td>\n",
       "      <td>0.765104</td>\n",
       "      <td>4.308712</td>\n",
       "      <td>10.103423</td>\n",
       "      <td>...</td>\n",
       "      <td>-1.6</td>\n",
       "      <td>-0.281683</td>\n",
       "      <td>-0.115287</td>\n",
       "      <td>-0.958296</td>\n",
       "      <td>4.834692</td>\n",
       "      <td>4.085765</td>\n",
       "      <td>1.460693</td>\n",
       "      <td>1.204284</td>\n",
       "      <td>1.099321</td>\n",
       "      <td>0.682528</td>\n",
       "    </tr>\n",
       "    <tr>\n",
       "      <th>1</th>\n",
       "      <td>gia</td>\n",
       "      <td>walking</td>\n",
       "      <td>[[-10.9, 0.2, -1.2], [-9.9, -0.7, -2.1], [-9.9...</td>\n",
       "      <td>[10.96767979109529, 10.144456614328833, 10.144...</td>\n",
       "      <td>17.623564</td>\n",
       "      <td>5.989157</td>\n",
       "      <td>2.539697</td>\n",
       "      <td>0.793941</td>\n",
       "      <td>0.369980</td>\n",
       "      <td>10.294204</td>\n",
       "      <td>...</td>\n",
       "      <td>-1.9</td>\n",
       "      <td>-1.143094</td>\n",
       "      <td>0.076080</td>\n",
       "      <td>-0.456637</td>\n",
       "      <td>1.420196</td>\n",
       "      <td>1.369993</td>\n",
       "      <td>-0.315002</td>\n",
       "      <td>2.404669</td>\n",
       "      <td>2.229920</td>\n",
       "      <td>1.796619</td>\n",
       "    </tr>\n",
       "    <tr>\n",
       "      <th>2</th>\n",
       "      <td>gia</td>\n",
       "      <td>walking</td>\n",
       "      <td>[[-8.5, -4.4, -3.5], [-8.5, -4.4, -3.5], [-8.5...</td>\n",
       "      <td>[10.191172650877817, 10.191172650877817, 10.19...</td>\n",
       "      <td>19.783074</td>\n",
       "      <td>7.156815</td>\n",
       "      <td>2.980663</td>\n",
       "      <td>1.883973</td>\n",
       "      <td>3.243430</td>\n",
       "      <td>10.325923</td>\n",
       "      <td>...</td>\n",
       "      <td>-1.9</td>\n",
       "      <td>-1.169397</td>\n",
       "      <td>0.660472</td>\n",
       "      <td>-1.361813</td>\n",
       "      <td>1.634786</td>\n",
       "      <td>0.683003</td>\n",
       "      <td>2.046856</td>\n",
       "      <td>2.649007</td>\n",
       "      <td>2.882193</td>\n",
       "      <td>2.197824</td>\n",
       "    </tr>\n",
       "    <tr>\n",
       "      <th>3</th>\n",
       "      <td>gia</td>\n",
       "      <td>walking</td>\n",
       "      <td>[[-7.2, 0.0, -1.2], [-7.2, 0.0, -1.2], [-7.2, ...</td>\n",
       "      <td>[7.299315036357863, 7.299315036357863, 7.29931...</td>\n",
       "      <td>20.592474</td>\n",
       "      <td>6.953416</td>\n",
       "      <td>3.096813</td>\n",
       "      <td>1.265939</td>\n",
       "      <td>1.202015</td>\n",
       "      <td>10.695082</td>\n",
       "      <td>...</td>\n",
       "      <td>-2.2</td>\n",
       "      <td>-1.385162</td>\n",
       "      <td>-0.753958</td>\n",
       "      <td>-0.832902</td>\n",
       "      <td>2.479632</td>\n",
       "      <td>1.038908</td>\n",
       "      <td>0.454232</td>\n",
       "      <td>2.830061</td>\n",
       "      <td>2.743193</td>\n",
       "      <td>2.133902</td>\n",
       "    </tr>\n",
       "    <tr>\n",
       "      <th>4</th>\n",
       "      <td>gia</td>\n",
       "      <td>walking</td>\n",
       "      <td>[[-7.3, 3.1, -2.0], [-6.3, 4.8, -2.4], [-6.3, ...</td>\n",
       "      <td>[8.179242018671413, 8.275868534480233, 8.27586...</td>\n",
       "      <td>22.588935</td>\n",
       "      <td>7.097183</td>\n",
       "      <td>2.874046</td>\n",
       "      <td>2.321100</td>\n",
       "      <td>6.854679</td>\n",
       "      <td>10.447635</td>\n",
       "      <td>...</td>\n",
       "      <td>-2.0</td>\n",
       "      <td>-1.572159</td>\n",
       "      <td>-0.717104</td>\n",
       "      <td>-0.821070</td>\n",
       "      <td>3.959701</td>\n",
       "      <td>1.671694</td>\n",
       "      <td>0.469151</td>\n",
       "      <td>2.539729</td>\n",
       "      <td>2.612113</td>\n",
       "      <td>1.971313</td>\n",
       "    </tr>\n",
       "  </tbody>\n",
       "</table>\n",
       "<p>5 rows × 32 columns</p>\n",
       "</div>"
      ],
      "text/plain": [
       "     0        1                                                  2  \\\n",
       "0  gia  walking  [[-9.8, 0.3, -1.5], [-9.8, 0.3, -1.5], [-9.8, ...   \n",
       "1  gia  walking  [[-10.9, 0.2, -1.2], [-9.9, -0.7, -2.1], [-9.9...   \n",
       "2  gia  walking  [[-8.5, -4.4, -3.5], [-8.5, -4.4, -3.5], [-8.5...   \n",
       "3  gia  walking  [[-7.2, 0.0, -1.2], [-7.2, 0.0, -1.2], [-7.2, ...   \n",
       "4  gia  walking  [[-7.3, 3.1, -2.0], [-6.3, 4.8, -2.4], [-6.3, ...   \n",
       "\n",
       "                                           magnitude        max       min  \\\n",
       "0  [9.918669265581952, 9.918669265581952, 9.91866...  14.342245  7.056203   \n",
       "1  [10.96767979109529, 10.144456614328833, 10.144...  17.623564  5.989157   \n",
       "2  [10.191172650877817, 10.191172650877817, 10.19...  19.783074  7.156815   \n",
       "3  [7.299315036357863, 7.299315036357863, 7.29931...  20.592474  6.953416   \n",
       "4  [8.179242018671413, 8.275868534480233, 8.27586...  22.588935  7.097183   \n",
       "\n",
       "        std      skew  kurtosis       mean    ...     z median    x skew  \\\n",
       "0  1.153909  0.765104  4.308712  10.103423    ...         -1.6 -0.281683   \n",
       "1  2.539697  0.793941  0.369980  10.294204    ...         -1.9 -1.143094   \n",
       "2  2.980663  1.883973  3.243430  10.325923    ...         -1.9 -1.169397   \n",
       "3  3.096813  1.265939  1.202015  10.695082    ...         -2.2 -1.385162   \n",
       "4  2.874046  2.321100  6.854679  10.447635    ...         -2.0 -1.572159   \n",
       "\n",
       "     y skew    z skew  x kurtosis  y kurtosis  z kurtosis     x std     y std  \\\n",
       "0 -0.115287 -0.958296    4.834692    4.085765    1.460693  1.204284  1.099321   \n",
       "1  0.076080 -0.456637    1.420196    1.369993   -0.315002  2.404669  2.229920   \n",
       "2  0.660472 -1.361813    1.634786    0.683003    2.046856  2.649007  2.882193   \n",
       "3 -0.753958 -0.832902    2.479632    1.038908    0.454232  2.830061  2.743193   \n",
       "4 -0.717104 -0.821070    3.959701    1.671694    0.469151  2.539729  2.612113   \n",
       "\n",
       "      z std  \n",
       "0  0.682528  \n",
       "1  1.796619  \n",
       "2  2.197824  \n",
       "3  2.133902  \n",
       "4  1.971313  \n",
       "\n",
       "[5 rows x 32 columns]"
      ]
     },
     "execution_count": 21,
     "metadata": {},
     "output_type": "execute_result"
    }
   ],
   "source": [
    "df.head()"
   ]
  },
  {
   "cell_type": "code",
   "execution_count": 22,
   "metadata": {
    "collapsed": false,
    "nbpresent": {
     "id": "367c9c1f-9583-428a-88ec-a54bff41f630"
    }
   },
   "outputs": [],
   "source": [
    "Y = df[1]\n",
    "features = ['max', 'min', 'std', 'skew', 'mean', 'median', 'kurtosis', 'x max', 'y max', 'z max', 'x min', 'y min', 'z min', 'x mean', 'y mean', 'z mean', 'x median', 'y median', 'z median', 'x skew', 'y skew', 'z skew', 'x kurtosis', 'y kurtosis', 'z kurtosis', 'x std', 'y std', 'z std']\n",
    "X = df[features]"
   ]
  },
  {
   "cell_type": "code",
   "execution_count": 23,
   "metadata": {
    "collapsed": false,
    "nbpresent": {
     "id": "ef61af13-534c-41ce-aead-b2584ec11d83"
    }
   },
   "outputs": [],
   "source": [
    "X_train, X_test, y_train, y_test = train_test_split(X, Y, test_size=0.30, random_state=42)"
   ]
  },
  {
   "cell_type": "code",
   "execution_count": 24,
   "metadata": {
    "collapsed": false,
    "nbpresent": {
     "id": "f7c3093c-2495-4966-bc13-2e748756443c"
    }
   },
   "outputs": [
    {
     "name": "stdout",
     "output_type": "stream",
     "text": [
      "[0.84615384615384615, 1]\n"
     ]
    },
    {
     "data": {
      "image/png": "[encoded data removed]",
      "text/plain": [
       "<matplotlib.figure.Figure at 0x1e9d8b20940>"
      ]
     },
     "metadata": {},
     "output_type": "display_data"
    }
   ],
   "source": [
    "kResult= []\n",
    "for n in range(1, 100,1):\n",
    "    model = KNeighborsClassifier(n_neighbors = n)\n",
    "    model.fit(X_train, y_train)\n",
    "\n",
    "    expected = y_test\n",
    "    predicted = model.predict(X_test)\n",
    "    acc = accuracy_score(expected, predicted)\n",
    "\n",
    "\n",
    "    kResult.append([acc,n])\n",
    "print(max(kResult))\n",
    "#plotting peak k value preformance \n",
    "kResult = pd.DataFrame(kResult, columns=[\"n\", \"acc\"])\n",
    "plt.plot(kResult.acc, kResult.n)\n",
    "plt.title(\"Accuracy with K\")\n",
    "plt.show()"
   ]
  },
  {
   "cell_type": "code",
   "execution_count": 30,
   "metadata": {
    "collapsed": false,
    "nbpresent": {
     "id": "40b02c89-cc86-4e02-93d3-648620f1ddf6"
    },
    "scrolled": true
   },
   "outputs": [
    {
     "name": "stdout",
     "output_type": "stream",
     "text": [
      "Classification Report:\n",
      "             precision    recall  f1-score   support\n",
      "\n",
      "   climbing       0.53      0.53      0.53        15\n",
      "    running       0.96      0.88      0.91        49\n",
      "    sitting       0.84      0.71      0.77        45\n",
      "   sleeping       0.98      0.93      0.95        54\n",
      "   standing       0.74      0.88      0.80        42\n",
      "    walking       0.81      0.93      0.87        42\n",
      "\n",
      "avg / total       0.85      0.85      0.85       247\n",
      "\n"
     ]
    }
   ],
   "source": [
    "model = KNeighborsClassifier(n_neighbors = 1)\n",
    "model.fit(X_train, y_train)\n",
    "\n",
    "class_names = [\"climbing\", \"running\", \"sitting\", \"sleeping\", \"standing\", \"walking\"]\n",
    "expected = y_test\n",
    "predicted = model.predict(X_test)\n",
    "print(\"Classification Report:\")\n",
    "print(metrics.classification_report(expected, predicted))\n",
    "\n",
    "\n",
    "def plot_confusion_matrix(cm, classes,\n",
    "                          normalize=False,\n",
    "                          title='Confusion matrix',\n",
    "                          cmap=plt.cm.Blues):\n",
    "    \"\"\"\n",
    "    This function prints and plots the confusion matrix.\n",
    "    Normalization can be applied by setting `normalize=True`.\n",
    "    \"\"\"\n",
    "    plt.imshow(cm, interpolation='nearest', cmap=cmap)\n",
    "    plt.title(title)\n",
    "    plt.colorbar()\n",
    "    tick_marks = np.arange(len(classes))\n",
    "    plt.xticks(tick_marks, classes, rotation=45)\n",
    "    plt.yticks(tick_marks, classes)\n",
    "\n",
    "   \n",
    "    print('Confusion matrix')\n",
    "\n",
    "    \n",
    "\n",
    "    thresh = cm.max() / 2.\n",
    "    for i, j in itertools.product(range(cm.shape[0]), range(cm.shape[1])):\n",
    "        plt.text(j, i, cm[i, j],\n",
    "                 horizontalalignment=\"center\",\n",
    "                 color=\"white\" if cm[i, j] > thresh else \"black\")\n",
    "\n",
    "    plt.tight_layout()\n",
    "    plt.ylabel('True label')\n",
    "    plt.xlabel('Predicted label')\n",
    "\n",
    "# Compute confusion matrix\n",
    "cnf_matrix = confusion_matrix(expected, predicted)\n",
    "np.set_printoptions(precision=2)\n",
    "\n"
   ]
  },
  {
   "cell_type": "code",
   "execution_count": 31,
   "metadata": {
    "collapsed": false
   },
   "outputs": [
    {
     "name": "stdout",
     "output_type": "stream",
     "text": [
      "Confusion matrix\n"
     ]
    },
    {
     "data": {
      "image/png": "[encoded data removed]",
      "text/plain": [
       "<matplotlib.figure.Figure at 0x1e9db8d6898>"
      ]
     },
     "metadata": {},
     "output_type": "display_data"
    }
   ],
   "source": [
    "# Plot non-normalized confusion matrix\n",
    "plt.figure()\n",
    "plot_confusion_matrix(cnf_matrix, classes=class_names,\n",
    "                      title='Confusion matrix, without normalization')\n",
    "\n",
    "plt.show()"
   ]
  },
  {
   "cell_type": "code",
   "execution_count": null,
   "metadata": {
    "collapsed": true
   },
   "outputs": [],
   "source": []
  }
 ],
 "metadata": {
  "anaconda-cloud": {},
  "kernelspec": {
   "display_name": "Python [default]",
   "language": "python",
   "name": "python3"
  },
  "language_info": {
   "codemirror_mode": {
    "name": "ipython",
    "version": 3
   },
   "file_extension": ".py",
   "mimetype": "text/x-python",
   "name": "python",
   "nbconvert_exporter": "python",
   "pygments_lexer": "ipython3",
   "version": "3.5.2"
  },
  "nbpresent": {
   "slides": {
    "00aa9d4f-38f2-4c9b-87cd-358d179027ea": {
     "id": "00aa9d4f-38f2-4c9b-87cd-358d179027ea",
     "prev": "35fbe87f-e44d-4758-ac18-293d1f2834be",
     "regions": {
      "cbde238e-6828-4edb-9a4e-a718557b0797": {
       "attrs": {
        "height": 0.8,
        "width": 0.8,
        "x": 0.1,
        "y": 0.1
       },
       "content": {
        "cell": "e086c663-6f24-4c26-9808-20ae493fa1b7",
        "part": "whole"
       },
       "id": "cbde238e-6828-4edb-9a4e-a718557b0797"
      }
     }
    },
    "24458f1a-fcc4-4aba-89b0-6551963a830c": {
     "id": "24458f1a-fcc4-4aba-89b0-6551963a830c",
     "prev": "f5d4f634-bc9c-413d-b460-8f151499df52",
     "regions": {
      "39f56057-bb51-4d27-a4e7-a5baea59b553": {
       "attrs": {
        "height": 0.8,
        "width": 0.8,
        "x": 0.1,
        "y": 0.1
       },
       "content": {
        "cell": "bc8266c6-a6b5-4ce7-824d-fe7e018aa1dc",
        "part": "whole"
       },
       "id": "39f56057-bb51-4d27-a4e7-a5baea59b553"
      }
     }
    },
    "28e19f2d-2edf-4510-a3cf-0ca6fad92995": {
     "id": "28e19f2d-2edf-4510-a3cf-0ca6fad92995",
     "prev": "5b7e4850-ecc6-46c5-9d39-c98c62fa5bad",
     "regions": {
      "5af28db4-3e32-451c-b3ce-9b0eaada5fc7": {
       "attrs": {
        "height": 0.8,
        "width": 0.8,
        "x": 0.1,
        "y": 0.1
       },
       "content": {
        "cell": "ef61af13-534c-41ce-aead-b2584ec11d83",
        "part": "whole"
       },
       "id": "5af28db4-3e32-451c-b3ce-9b0eaada5fc7"
      }
     }
    },
    "2f2f5ac8-b261-4390-8871-7b598f7c03e9": {
     "id": "2f2f5ac8-b261-4390-8871-7b598f7c03e9",
     "prev": "dc43aabf-059c-4c29-a45b-dc2cb7ab51ee",
     "regions": {
      "803ed76b-1515-4467-bcc2-c70e1e6cf38d": {
       "attrs": {
        "height": 0.8,
        "width": 0.8,
        "x": 0.1,
        "y": 0.1
       },
       "content": {
        "cell": "81495f28-dcd2-4c3d-8bcb-8d46dc672db1",
        "part": "whole"
       },
       "id": "803ed76b-1515-4467-bcc2-c70e1e6cf38d"
      }
     }
    },
    "35fbe87f-e44d-4758-ac18-293d1f2834be": {
     "id": "35fbe87f-e44d-4758-ac18-293d1f2834be",
     "prev": "a971f19a-b09c-41e8-914e-7df63fa4e809",
     "regions": {
      "9298ea76-295a-4354-8b87-7f695481b349": {
       "attrs": {
        "height": 0.8,
        "width": 0.8,
        "x": 0.1,
        "y": 0.1
       },
       "content": {
        "cell": "7eff92fa-7b42-4fd1-8021-bcf5a8beaa39",
        "part": "whole"
       },
       "id": "9298ea76-295a-4354-8b87-7f695481b349"
      }
     }
    },
    "39d27a99-c386-4d1d-8bcd-7004f9c723f6": {
     "id": "39d27a99-c386-4d1d-8bcd-7004f9c723f6",
     "prev": "710686fb-d2dd-44e2-9bcd-3603187e76fa",
     "regions": {
      "b93c4edb-9ea9-44fb-8bf3-d76f8ed60917": {
       "attrs": {
        "height": 0.8,
        "width": 0.8,
        "x": 0.1,
        "y": 0.1
       },
       "content": {
        "cell": "46327b6e-3158-4b6a-b918-ac7c070cf448",
        "part": "whole"
       },
       "id": "b93c4edb-9ea9-44fb-8bf3-d76f8ed60917"
      }
     }
    },
    "40e00ff8-dca5-4fa9-87c4-5533321cdf50": {
     "id": "40e00ff8-dca5-4fa9-87c4-5533321cdf50",
     "prev": "5d3fb42a-d020-4698-93c1-949787196fcf",
     "regions": {
      "e65767e5-e9f0-4d45-8cfb-9756191e7888": {
       "attrs": {
        "height": 0.8,
        "width": 0.8,
        "x": 0.1,
        "y": 0.1
       },
       "content": {
        "cell": "40b02c89-cc86-4e02-93d3-648620f1ddf6",
        "part": "whole"
       },
       "id": "e65767e5-e9f0-4d45-8cfb-9756191e7888"
      }
     }
    },
    "4d6526d7-84a2-412f-8de3-d428c2603d5a": {
     "id": "4d6526d7-84a2-412f-8de3-d428c2603d5a",
     "prev": "af7ac804-e995-44bd-9555-44030de8cbc9",
     "regions": {
      "aca280c4-afb0-4728-87fc-5b278d4fca95": {
       "attrs": {
        "height": 0.8,
        "width": 0.8,
        "x": 0.1,
        "y": 0.1
       },
       "content": {
        "cell": "de2d4821-414a-4b4d-aa44-490fc69c1332",
        "part": "whole"
       },
       "id": "aca280c4-afb0-4728-87fc-5b278d4fca95"
      }
     }
    },
    "5b7e4850-ecc6-46c5-9d39-c98c62fa5bad": {
     "id": "5b7e4850-ecc6-46c5-9d39-c98c62fa5bad",
     "prev": "00aa9d4f-38f2-4c9b-87cd-358d179027ea",
     "regions": {
      "3ade3b54-b949-419b-8eaf-676cd8e6ff10": {
       "attrs": {
        "height": 0.8,
        "width": 0.8,
        "x": 0.1,
        "y": 0.1
       },
       "content": {
        "cell": "367c9c1f-9583-428a-88ec-a54bff41f630",
        "part": "whole"
       },
       "id": "3ade3b54-b949-419b-8eaf-676cd8e6ff10"
      }
     }
    },
    "5d3fb42a-d020-4698-93c1-949787196fcf": {
     "id": "5d3fb42a-d020-4698-93c1-949787196fcf",
     "prev": "28e19f2d-2edf-4510-a3cf-0ca6fad92995",
     "regions": {
      "20b55005-9431-4a14-80af-b7fb661cbfce": {
       "attrs": {
        "height": 0.8,
        "width": 0.8,
        "x": 0.1,
        "y": 0.1
       },
       "content": {
        "cell": "f7c3093c-2495-4966-bc13-2e748756443c",
        "part": "whole"
       },
       "id": "20b55005-9431-4a14-80af-b7fb661cbfce"
      }
     }
    },
    "5dfa2a38-f1aa-4e29-988b-55d05f1bb331": {
     "id": "5dfa2a38-f1aa-4e29-988b-55d05f1bb331",
     "prev": "a87b18b1-136f-42c0-97fe-496d166e601d",
     "regions": {
      "9bdeb93f-3464-46d7-9703-dd3c4076b1f9": {
       "attrs": {
        "height": 0.8,
        "width": 0.8,
        "x": 0.1,
        "y": 0.1
       },
       "content": {
        "cell": "5ca7fe1f-226f-4d81-8c88-2f7fca679ca2",
        "part": "whole"
       },
       "id": "9bdeb93f-3464-46d7-9703-dd3c4076b1f9"
      }
     }
    },
    "6c734dc7-218e-4ccd-b382-2a24cb4f3c67": {
     "id": "6c734dc7-218e-4ccd-b382-2a24cb4f3c67",
     "prev": "c879f959-2f63-45d0-b287-5a499f09a890",
     "regions": {
      "1edb6e2f-c033-4df2-ad7d-24068abe6533": {
       "attrs": {
        "height": 0.8,
        "width": 0.8,
        "x": 0.1,
        "y": 0.1
       },
       "content": {
        "cell": "eff9e866-8d7c-4270-ab8a-34cab6826137",
        "part": "whole"
       },
       "id": "1edb6e2f-c033-4df2-ad7d-24068abe6533"
      }
     }
    },
    "710686fb-d2dd-44e2-9bcd-3603187e76fa": {
     "id": "710686fb-d2dd-44e2-9bcd-3603187e76fa",
     "prev": "80cb2a4f-5b1f-4ec4-a0c6-b65db12465f3",
     "regions": {
      "40641d00-971f-4e81-9bac-fe38e2194e26": {
       "attrs": {
        "height": 0.8,
        "width": 0.8,
        "x": 0.1,
        "y": 0.1
       },
       "content": {
        "cell": "7a959381-03c5-492f-b6f8-e2ebff1cee14",
        "part": "whole"
       },
       "id": "40641d00-971f-4e81-9bac-fe38e2194e26"
      }
     }
    },
    "7980f726-7060-4448-8a63-8f35ee9f113c": {
     "id": "7980f726-7060-4448-8a63-8f35ee9f113c",
     "prev": null,
     "regions": {
      "e7796935-2c2d-4e79-8fa4-d857b85988d9": {
       "attrs": {
        "height": 0.8,
        "width": 0.8,
        "x": 0.1,
        "y": 0.1
       },
       "content": {
        "cell": "b4256dce-8961-42c5-87f9-71b82c75c555",
        "part": "whole"
       },
       "id": "e7796935-2c2d-4e79-8fa4-d857b85988d9"
      }
     }
    },
    "80cb2a4f-5b1f-4ec4-a0c6-b65db12465f3": {
     "id": "80cb2a4f-5b1f-4ec4-a0c6-b65db12465f3",
     "prev": "af61bb1d-b77d-47f2-9ae4-dfd4f3788679",
     "regions": {
      "76737a2b-3165-45e7-acf8-e5fb90ce2b9f": {
       "attrs": {
        "height": 0.8,
        "width": 0.8,
        "x": 0.1,
        "y": 0.1
       },
       "content": {
        "cell": "1fae0419-be89-4deb-b5e8-0463940d07ae",
        "part": "whole"
       },
       "id": "76737a2b-3165-45e7-acf8-e5fb90ce2b9f"
      }
     }
    },
    "89154808-258a-4328-a8e9-f071f230dc3e": {
     "id": "89154808-258a-4328-a8e9-f071f230dc3e",
     "prev": "b17dfe1d-ed8a-4df7-ac31-3ce5c7c35e54",
     "regions": {
      "dee056b7-c15f-44fe-97e0-af3eb49576d9": {
       "attrs": {
        "height": 0.8,
        "width": 0.8,
        "x": 0.1,
        "y": 0.1
       },
       "content": {
        "cell": "327894fa-5ce0-4967-9872-a4009e7c2f55",
        "part": "whole"
       },
       "id": "dee056b7-c15f-44fe-97e0-af3eb49576d9"
      }
     }
    },
    "a87b18b1-136f-42c0-97fe-496d166e601d": {
     "id": "a87b18b1-136f-42c0-97fe-496d166e601d",
     "prev": "24458f1a-fcc4-4aba-89b0-6551963a830c",
     "regions": {
      "372a86a8-db2c-48fd-9e8b-34b7502784ca": {
       "attrs": {
        "height": 0.8,
        "width": 0.8,
        "x": 0.1,
        "y": 0.1
       },
       "content": {
        "cell": "aadfe1b4-205f-42eb-bac3-ea0d033ea5d0",
        "part": "whole"
       },
       "id": "372a86a8-db2c-48fd-9e8b-34b7502784ca"
      }
     }
    },
    "a971f19a-b09c-41e8-914e-7df63fa4e809": {
     "id": "a971f19a-b09c-41e8-914e-7df63fa4e809",
     "prev": "6c734dc7-218e-4ccd-b382-2a24cb4f3c67",
     "regions": {
      "ed3c9611-91ee-45dd-ab2e-f2e0fb43b041": {
       "attrs": {
        "height": 0.8,
        "width": 0.8,
        "x": 0.1,
        "y": 0.1
       },
       "content": {
        "cell": "530dfcc7-e934-49ae-8e23-fcc83bb20ad9",
        "part": "whole"
       },
       "id": "ed3c9611-91ee-45dd-ab2e-f2e0fb43b041"
      }
     }
    },
    "af61bb1d-b77d-47f2-9ae4-dfd4f3788679": {
     "id": "af61bb1d-b77d-47f2-9ae4-dfd4f3788679",
     "prev": "5dfa2a38-f1aa-4e29-988b-55d05f1bb331",
     "regions": {
      "abd05cbd-c160-4960-a559-935fcf814381": {
       "attrs": {
        "height": 0.8,
        "width": 0.8,
        "x": 0.1,
        "y": 0.1
       },
       "content": {
        "cell": "ea968157-ba06-4114-ada9-08d0178e0ea6",
        "part": "whole"
       },
       "id": "abd05cbd-c160-4960-a559-935fcf814381"
      }
     }
    },
    "af7ac804-e995-44bd-9555-44030de8cbc9": {
     "id": "af7ac804-e995-44bd-9555-44030de8cbc9",
     "prev": "2f2f5ac8-b261-4390-8871-7b598f7c03e9",
     "regions": {
      "73fcf038-c283-4ff9-9f84-ea5c832b7cef": {
       "attrs": {
        "height": 0.8,
        "width": 0.8,
        "x": 0.1,
        "y": 0.1
       },
       "content": {
        "cell": "953e2dab-141c-4505-b00c-4e2395d95fef",
        "part": "whole"
       },
       "id": "73fcf038-c283-4ff9-9f84-ea5c832b7cef"
      }
     }
    },
    "b17dfe1d-ed8a-4df7-ac31-3ce5c7c35e54": {
     "id": "b17dfe1d-ed8a-4df7-ac31-3ce5c7c35e54",
     "prev": "c615bd74-696a-4a06-af65-00249f3ef3be",
     "regions": {
      "5216904a-6218-415c-925f-7e9442411886": {
       "attrs": {
        "height": 0.8,
        "width": 0.8,
        "x": 0.1,
        "y": 0.1
       },
       "content": {
        "cell": "56452b22-a724-4618-bd78-0c9db808bc31",
        "part": "whole"
       },
       "id": "5216904a-6218-415c-925f-7e9442411886"
      }
     }
    },
    "c615bd74-696a-4a06-af65-00249f3ef3be": {
     "id": "c615bd74-696a-4a06-af65-00249f3ef3be",
     "prev": "4d6526d7-84a2-412f-8de3-d428c2603d5a",
     "regions": {
      "2fc34aec-37ef-464e-a428-80bfbbd044b7": {
       "attrs": {
        "height": 0.8,
        "width": 0.8,
        "x": 0.1,
        "y": 0.1
       },
       "content": {
        "cell": "bf1c2268-9b22-429a-ae6b-34d258dbb7a8",
        "part": "whole"
       },
       "id": "2fc34aec-37ef-464e-a428-80bfbbd044b7"
      }
     }
    },
    "c879f959-2f63-45d0-b287-5a499f09a890": {
     "id": "c879f959-2f63-45d0-b287-5a499f09a890",
     "prev": "89154808-258a-4328-a8e9-f071f230dc3e",
     "regions": {
      "1de9e533-96aa-4079-b40f-189e514dbe9a": {
       "attrs": {
        "height": 0.8,
        "width": 0.8,
        "x": 0.1,
        "y": 0.1
       },
       "content": {
        "cell": "f6870b90-cbd2-4db0-9781-97b7b788c184",
        "part": "whole"
       },
       "id": "1de9e533-96aa-4079-b40f-189e514dbe9a"
      }
     }
    },
    "dc43aabf-059c-4c29-a45b-dc2cb7ab51ee": {
     "id": "dc43aabf-059c-4c29-a45b-dc2cb7ab51ee",
     "prev": "39d27a99-c386-4d1d-8bcd-7004f9c723f6",
     "regions": {
      "9a111f70-833f-448f-9af7-ea2ff7245861": {
       "attrs": {
        "height": 0.8,
        "width": 0.8,
        "x": 0.1,
        "y": 0.1
       },
       "content": {
        "cell": "6971a287-bc29-41a6-8845-2c2a4240dd4d",
        "part": "whole"
       },
       "id": "9a111f70-833f-448f-9af7-ea2ff7245861"
      }
     }
    },
    "ec140e2b-69d5-4a42-a0f1-3b59040fd303": {
     "id": "ec140e2b-69d5-4a42-a0f1-3b59040fd303",
     "prev": "40e00ff8-dca5-4fa9-87c4-5533321cdf50",
     "regions": {
      "3b9445a8-52b1-4fc1-8fcc-094f69458b79": {
       "attrs": {
        "height": 0.8,
        "width": 0.8,
        "x": 0.1,
        "y": 0.1
       },
       "content": {
        "cell": "ddf51d90-bf80-4f78-bf80-c6e7964109f7",
        "part": "whole"
       },
       "id": "3b9445a8-52b1-4fc1-8fcc-094f69458b79"
      }
     }
    },
    "f5d4f634-bc9c-413d-b460-8f151499df52": {
     "id": "f5d4f634-bc9c-413d-b460-8f151499df52",
     "prev": "7980f726-7060-4448-8a63-8f35ee9f113c",
     "regions": {
      "c357a6ee-d28f-462e-bee7-2227cfb5591d": {
       "attrs": {
        "height": 0.8,
        "width": 0.8,
        "x": 0.1,
        "y": 0.1
       },
       "content": {
        "cell": "4ebc0005-589b-45e8-9522-4561f9b04b78",
        "part": "whole"
       },
       "id": "c357a6ee-d28f-462e-bee7-2227cfb5591d"
      }
     }
    }
   },
   "themes": {}
  }
 },
 "nbformat": 4,
 "nbformat_minor": 2
}
