{
 "cells": [
  {
   "cell_type": "markdown",
   "metadata": {},
   "source": [
    "# Data Clean\n",
    "### Takes data labels it, and breaks it into one second chunks\n",
    "#### David Saffo\n",
    "#### 5/16/2017"
   ]
  },
  {
   "cell_type": "code",
   "execution_count": 1,
   "metadata": {
    "collapsed": false
   },
   "outputs": [],
   "source": [
    "import pandas as pd\n",
    "import numpy as np\n",
    "from io import StringIO"
   ]
  },
  {
   "cell_type": "code",
   "execution_count": 2,
   "metadata": {
    "collapsed": false
   },
   "outputs": [],
   "source": [
    "noelWalking = pd.read_csv(\"noel walking.csv\", header = None)\n",
    "noelRunning = pd.read_csv(\"noel running.csv\", header = None)\n",
    "noelSleeping = pd.read_csv(\"noel sleeping.csv\", header = None)\n",
    "noelClimbing = pd.read_csv(\"noel climbing.csv\", header = None)"
   ]
  },
  {
   "cell_type": "code",
   "execution_count": 22,
   "metadata": {
    "collapsed": true
   },
   "outputs": [],
   "source": [
    "def createDF(sub, act, data):\n",
    "    x = 0\n",
    "    i = 0\n",
    "    array = []\n",
    "    d = []\n",
    "    for index, row in data.iterrows():\n",
    "        if (data.iloc[index,0].is_integer()==False):\n",
    "            array.append([data.iloc[index,1],data.iloc[index,2],data.iloc[index,3]])\n",
    "        elif (data.iloc[index,0].is_integer()==True):\n",
    "            d.append([sub , act, array])\n",
    "            array = []\n",
    "            i+=1\n",
    "\n",
    "    d.pop(0)\n",
    "    d.pop(1)\n",
    "    d.pop(-1)\n",
    "    d.pop(-2)\n",
    "\n",
    "    dftest = pd.DataFrame(d)\n",
    "    \n",
    "    return dftest"
   ]
  },
  {
   "cell_type": "code",
   "execution_count": 27,
   "metadata": {
    "collapsed": false
   },
   "outputs": [
    {
     "name": "stdout",
     "output_type": "stream",
     "text": [
      "        0         1                                                  2\n",
      "0    noel   walking  [[0.002076, -0.006743, -0.002139], [0.002061, ...\n",
      "1    noel   walking  [[0.023377, -0.013351, -0.425448], [-0.098312,...\n",
      "2    noel   walking  [[0.065003, 0.046967, -0.1216], [0.067933, 0.0...\n",
      "3    noel   walking  [[-0.031417, 0.082261, -0.079272], [-0.025344,...\n",
      "4    noel   walking  [[0.070741, 0.150697, -0.32175], [0.135728, 0....\n",
      "5    noel   walking  [[0.130174, -0.186873, -0.104022], [0.12439, -...\n",
      "6    noel   walking  [[-0.212478, -0.175231, -0.144015], [-0.218307...\n",
      "7    noel   walking  [[0.064423, -0.05873, -0.280978], [0.015992, -...\n",
      "8    noel   walking  [[0.147187, 0.105897, -0.203647], [0.166917, 0...\n",
      "9    noel   walking  [[-0.139465, 0.197206, -0.218005], [-0.156219,...\n",
      "10   noel   walking  [[-0.23001, -0.013839, -0.187671], [-0.114227,...\n",
      "11   noel   walking  [[0.094697, -0.182555, -0.125247], [0.125779, ...\n",
      "12   noel   walking  [[-0.03247, -0.171798, -0.17908], [-0.038512, ...\n",
      "13   noel   walking  [[-0.070815, -0.273131, -0.199344], [-0.052032...\n",
      "14   noel   walking  [[0.104539, -0.164931, -0.261233], [0.224198, ...\n",
      "15   noel   walking  [[-0.28102, -0.183562, -0.34711], [-0.35263, -...\n",
      "16   noel   walking  [[0.289292, -0.278701, -0.319766], [0.321564, ...\n",
      "17   noel   walking  [[-0.11824, -0.085555, -0.247943], [0.035798, ...\n",
      "18   noel   walking  [[-0.220641, -0.160811, -0.313708], [0.018784,...\n",
      "19   noel   walking  [[-0.211013, -0.160949, -0.316485], [-0.07289,...\n",
      "20   noel   walking  [[0.137833, 0.057847, -0.321979], [0.093659, 0...\n",
      "21   noel   walking  [[-0.091262, 0.000733, -0.162601], [-0.166427,...\n",
      "22   noel   walking  [[0.145524, 0.086015, -0.19089], [0.145264, 0....\n",
      "23   noel   walking  [[0.195359, 0.158967, -0.1841], [0.204224, 0.1...\n",
      "24   noel   walking  [[-0.086562, 0.077683, -0.086581], [-0.105834,...\n",
      "25   noel   walking  [[-0.229797, -0.031371, -0.139407], [-0.146346...\n",
      "26   noel   walking  [[0.096497, -0.07231, -0.297519], [0.155656, -...\n",
      "27   noel   walking  [[0.114274, -0.107818, -0.118091], [0.106477, ...\n",
      "28   noel   walking  [[-0.045959, -0.172057, -0.227542], [-0.015929...\n",
      "29   noel   walking  [[-0.091064, -0.176391, -0.193454], [-0.11058,...\n",
      "..    ...       ...                                                ...\n",
      "201  noel  climbing  [[0.362461, 0.289633, -0.986489], [0.374012, 0...\n",
      "202  noel  climbing  [[0.438786, 0.208151, -0.888863], [0.453617, 0...\n",
      "203  noel  climbing  [[-0.082165, 0.008566, -0.245659], [-0.071819,...\n",
      "204  noel  climbing  [[0.042103, 0.181692, -0.080605], [0.018162, 0...\n",
      "205  noel  climbing  [[-0.016002, 0.126089, -0.104058], [-0.044445,...\n",
      "206  noel  climbing  [[0.219395, 0.047705, -0.195961], [0.21793, 0....\n",
      "207  noel  climbing  [[0.097233, -0.071573, -0.333092], [0.062672, ...\n",
      "208  noel  climbing  [[-0.018535, 0.224783, -0.597481], [-0.004085,...\n",
      "209  noel  climbing  [[0.598957, 0.005697, -1.143303], [0.571263, 0...\n",
      "210  noel  climbing  [[0.619358, 0.164023, -1.27816], [0.594898, 0....\n",
      "211  noel  climbing  [[0.81493, -0.365885, -1.174538], [0.827564, -...\n",
      "212  noel  climbing  [[0.465458, -0.098703, -1.08236], [0.475392, -...\n",
      "213  noel  climbing  [[-0.076824, 0.017309, -0.530999], [-0.05888, ...\n",
      "214  noel  climbing  [[-0.022594, 0.052313, -0.319512], [-0.026623,...\n",
      "215  noel  climbing  [[0.033253, -0.010034, 0.01075], [0.025303, -0...\n",
      "216  noel  climbing  [[0.026707, -0.027979, 0.050361], [0.052555, -...\n",
      "217  noel  climbing  [[0.027531, -0.128366, -0.626412], [0.034046, ...\n",
      "218  noel  climbing  [[0.300678, -0.126947, -1.139977], [0.295994, ...\n",
      "219  noel  climbing  [[0.645893, -0.062006, -1.159279], [0.62154, -...\n",
      "220  noel  climbing  [[0.656895, -0.119272, -1.138191], [0.644978, ...\n",
      "221  noel  climbing  [[0.552815, 0.336127, -1.091912], [0.545551, 0...\n",
      "222  noel  climbing  [[0.350147, 0.120184, -1.146004], [0.351536, 0...\n",
      "223  noel  climbing  [[0.427097, 0.045553, -0.921486], [0.394749, 0...\n",
      "224  noel  climbing  [[-0.132183, -0.029657, -0.265831], [-0.120586...\n",
      "225  noel  climbing  [[-0.076458, -0.014337, -0.188729], [-0.064449...\n",
      "226  noel  climbing  [[-0.001873, 0.048163, -0.415016], [-0.034221,...\n",
      "227  noel  climbing  [[0.121098, 0.199972, -0.57087], [0.134449, 0....\n",
      "228  noel  climbing  [[0.26981, 0.248678, -1.202782], [0.256733, 0....\n",
      "229  noel  climbing  [[0.64037, 0.368185, -1.161949], [0.635807, 0....\n",
      "230  noel  climbing  [[0.164799, -0.084238, -0.860558], [0.15192, -...\n",
      "\n",
      "[231 rows x 3 columns]\n"
     ]
    }
   ],
   "source": [
    "test = createDF(\"noel\", \"walking\", noelWalking)\n",
    "test = test.append(createDF(\"noel\", \"running\", noelRunning), ignore_index=True)\n",
    "test = test.append(createDF(\"noel\", \"sleeping\", noelSleeping), ignore_index=True)\n",
    "test = test.append(createDF(\"noel\", \"climbing\", noelClimbing), ignore_index=True)"
   ]
  },
  {
   "cell_type": "code",
   "execution_count": null,
   "metadata": {
    "collapsed": true
   },
   "outputs": [],
   "source": []
  }
 ],
 "metadata": {
  "kernelspec": {
   "display_name": "Python 3",
   "language": "python",
   "name": "python3"
  },
  "language_info": {
   "codemirror_mode": {
    "name": "ipython",
    "version": 3
   },
   "file_extension": ".py",
   "mimetype": "text/x-python",
   "name": "python",
   "nbconvert_exporter": "python",
   "pygments_lexer": "ipython3",
   "version": "3.6.0"
  }
 },
 "nbformat": 4,
 "nbformat_minor": 2
}
