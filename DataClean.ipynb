{
 "cells": [
  {
   "cell_type": "markdown",
   "metadata": {},
   "source": [
    "# Data Clean\n",
    "### Takes data labels it, and breaks it into one second chunks\n",
    "#### David Saffo\n",
    "#### 5/16/2017"
   ]
  },
  {
   "cell_type": "code",
   "execution_count": 1,
   "metadata": {
    "collapsed": false
   },
   "outputs": [],
   "source": [
    "import pandas as pd\n",
    "import numpy as np\n",
    "from io import StringIO\n",
    "import math"
   ]
  },
  {
   "cell_type": "code",
   "execution_count": 2,
   "metadata": {
    "collapsed": false
   },
   "outputs": [],
   "source": [
    "noelWalking = pd.read_csv(\"noel walking.csv\", header = None)\n",
    "noelRunning = pd.read_csv(\"noel running.csv\", header = None)\n",
    "noelSleeping = pd.read_csv(\"noel sleeping.csv\", header = None)\n",
    "noelClimbing = pd.read_csv(\"noel climbing.csv\", header = None)"
   ]
  },
  {
   "cell_type": "code",
   "execution_count": 3,
   "metadata": {
    "collapsed": true
   },
   "outputs": [],
   "source": [
    "def createDF(sub, act, data):\n",
    "    x = 0\n",
    "    i = 0\n",
    "    array = []\n",
    "    d = []\n",
    "    for index, row in data.iterrows():\n",
    "        if (data.iloc[index,0].is_integer()==False):\n",
    "            array.append([data.iloc[index,1],data.iloc[index,2],data.iloc[index,3]])\n",
    "        elif (data.iloc[index,0].is_integer()==True):\n",
    "            d.append([sub , act, array])\n",
    "            array = []\n",
    "            i+=1\n",
    "\n",
    "    d.pop(0)\n",
    "    d.pop(1)\n",
    "    d.pop(-1)\n",
    "    d.pop(-2)\n",
    "\n",
    "    dftest = pd.DataFrame(d)\n",
    "    \n",
    "    return dftest"
   ]
  },
  {
   "cell_type": "code",
   "execution_count": 4,
   "metadata": {
    "collapsed": false
   },
   "outputs": [],
   "source": [
    "df = createDF(\"noel\", \"walking\", noelWalking)\n",
    "df = df.append(createDF(\"noel\", \"running\", noelRunning), ignore_index=True)\n",
    "df = df.append(createDF(\"noel\", \"sleeping\", noelSleeping), ignore_index=True)\n",
    "df = df.append(createDF(\"noel\", \"climbing\", noelClimbing), ignore_index=True)"
   ]
  },
  {
   "cell_type": "code",
   "execution_count": 26,
   "metadata": {
    "collapsed": false
   },
   "outputs": [],
   "source": [
    "temp = []\n",
    "a = []\n",
    "mag = []\n",
    "for i in range(len(df)):\n",
    "    temp = df.iloc[i,2]\n",
    "    mag = []\n",
    "    for j in range(len(temp)):\n",
    "        x = temp[j][0]\n",
    "        y = temp[j][1]\n",
    "        z = temp[j][2]\n",
    "    \n",
    "        magnitude = math.sqrt(x ** 2 + y ** 2 + z ** 2)\n",
    "        \n",
    "        mag.append(magnitude)\n",
    "       \n",
    "    a.append(mag)\n",
    "\n",
    "df.insert(3, 3, a)\n",
    "    \n",
    "    "
   ]
  },
  {
   "cell_type": "code",
   "execution_count": 25,
   "metadata": {
    "collapsed": false
   },
   "outputs": [],
   "source": [
    "\n",
    "df = df.drop(3, 1)"
   ]
  },
  {
   "cell_type": "code",
   "execution_count": null,
   "metadata": {
    "collapsed": true
   },
   "outputs": [],
   "source": []
  }
 ],
 "metadata": {
  "anaconda-cloud": {},
  "kernelspec": {
   "display_name": "Python [default]",
   "language": "python",
   "name": "python3"
  },
  "language_info": {
   "codemirror_mode": {
    "name": "ipython",
    "version": 3
   },
   "file_extension": ".py",
   "mimetype": "text/x-python",
   "name": "python",
   "nbconvert_exporter": "python",
   "pygments_lexer": "ipython3",
   "version": "3.5.2"
  }
 },
 "nbformat": 4,
 "nbformat_minor": 2
}
