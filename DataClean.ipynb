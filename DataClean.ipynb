{
 "cells": [
  {
   "cell_type": "markdown",
   "metadata": {
    "nbpresent": {
     "id": "b4256dce-8961-42c5-87f9-71b82c75c555"
    }
   },
   "source": [
    "# Data Clean\n",
    "### Takes data labels it, and breaks it into one second chunks\n",
    "#### David Saffo\n",
    "#### 5/16/2017"
   ]
  },
  {
   "cell_type": "code",
   "execution_count": 1,
   "metadata": {
    "collapsed": false,
    "nbpresent": {
     "id": "4ebc0005-589b-45e8-9522-4561f9b04b78"
    }
   },
   "outputs": [],
   "source": [
    "import pandas as pd\n",
    "import itertools\n",
    "import numpy as np\n",
    "from io import StringIO\n",
    "import math\n",
    "import scipy.stats.stats as stats\n",
    "from sklearn.model_selection import train_test_split\n",
    "from sklearn import metrics\n",
    "from sklearn.neighbors import KNeighborsClassifier\n",
    "from sklearn.metrics import accuracy_score\n",
    "from sklearn.metrics import f1_score\n",
    "import matplotlib.pyplot as plt\n",
    "from sklearn.metrics import confusion_matrix\n",
    "%matplotlib inline"
   ]
  },
  {
   "cell_type": "code",
   "execution_count": 33,
   "metadata": {
    "collapsed": false,
    "nbpresent": {
     "id": "bc8266c6-a6b5-4ce7-824d-fe7e018aa1dc"
    }
   },
   "outputs": [],
   "source": [
    "giaWalking = pd.read_csv(\"Gia Walking.csv\", header = None, skiprows = 2)\n",
    "giaRunning = pd.read_csv(\"Gia Running.csv\", header = None, skiprows = 2)\n",
    "giaSitting = pd.read_csv(\"Gia Sitting.csv\", header = None, skiprows = 2)\n",
    "giaSleeping = pd.read_csv(\"Gia Sleeping.csv\", header = None, skiprows = 2)\n",
    "giaStanding = pd.read_csv(\"Gia Standing.csv\", header = None, skiprows = 2)\n",
    "giaClimbing = pd.read_csv(\"Gia Climbing.csv\", header = None, skiprows = 2)\n",
    "ilonaWalking = pd.read_csv(\"Ilona Walking.csv\", header = None, skiprows = 2)\n",
    "ilonaRunning = pd.read_csv(\"Ilona Running.csv\", header = None, skiprows = 2)\n",
    "ilonaSitting = pd.read_csv(\"Ilona Sitting.csv\", header = None, skiprows = 2)\n",
    "ilonaSleeping = pd.read_csv(\"Ilona Sleeping.csv\", header = None, skiprows = 2)\n",
    "ilonaStanding = pd.read_csv(\"Ilona Standing.csv\", header = None, skiprows = 2)\n",
    "ilonaClimbing = pd.read_csv(\"Ilona Climbing.csv\", header = None, skiprows = 2)\n",
    "liliWalking = pd.read_csv(\"Lili Walking.csv\", header = None, skiprows = 2)\n",
    "liliRunning = pd.read_csv(\"Lili Running.csv\", header = None, skiprows = 2)\n",
    "liliSitting = pd.read_csv(\"Lili Sitting.csv\", header = None, skiprows = 2)\n",
    "liliSleeping = pd.read_csv(\"Lili Sleeping.csv\", header = None, skiprows = 2)\n",
    "liliStanding = pd.read_csv(\"Lili Standing.csv\", header = None, skiprows = 2)\n",
    "liliClimbing = pd.read_csv(\"Lili Climbing.csv\", header = None, skiprows = 2)\n"
   ]
  },
  {
   "cell_type": "code",
   "execution_count": 3,
   "metadata": {
    "collapsed": false,
    "nbpresent": {
     "id": "aadfe1b4-205f-42eb-bac3-ea0d033ea5d0"
    }
   },
   "outputs": [],
   "source": [
    "def createDF(sub, act, data):\n",
    "    data = data.drop(4,1)\n",
    "    x = 0\n",
    "    i = 0\n",
    "    array = []\n",
    "    d = []\n",
    "    for index, row in data.iterrows():\n",
    "        if (data.iloc[index,0] %2 != 0):\n",
    "            array.append([data.iloc[index,1],data.iloc[index,2],data.iloc[index,3]])\n",
    "        elif (data.iloc[index,0] % 2 == 0):\n",
    "            d.append([sub , act, array])\n",
    "            array = []\n",
    "            i+=1\n",
    "\n",
    "    d.pop(0)\n",
    "    d.pop(-1)\n",
    "    d.pop(-2)\n",
    "\n",
    "    dftest = pd.DataFrame(d)\n",
    "    \n",
    "    return dftest"
   ]
  },
  {
   "cell_type": "code",
   "execution_count": 34,
   "metadata": {
    "collapsed": false,
    "nbpresent": {
     "id": "5ca7fe1f-226f-4d81-8c88-2f7fca679ca2"
    }
   },
   "outputs": [],
   "source": [
    "df = createDF(\"gia\", \"walking\", giaWalking)\n",
    "df = df.append(createDF(\"gia\", \"running\", giaRunning), ignore_index=True)\n",
    "df = df.append(createDF(\"gia\", \"sleeping\", giaSleeping), ignore_index=True)\n",
    "df = df.append(createDF(\"gia\", \"climbing\", giaClimbing), ignore_index=True)\n",
    "df = df.append(createDF(\"gia\", \"sitting\", giaSitting), ignore_index=True)\n",
    "df = df.append(createDF(\"gia\", \"standing\", giaStanding), ignore_index=True)\n",
    "df = df.append(createDF(\"ilona\", \"walking\", ilonaWalking), ignore_index=True)\n",
    "df = df.append(createDF(\"ilona\", \"running\", ilonaRunning), ignore_index=True)\n",
    "df = df.append(createDF(\"ilona\", \"sleeping\", ilonaSleeping), ignore_index=True)\n",
    "df = df.append(createDF(\"ilona\", \"climbing\", ilonaClimbing), ignore_index=True)\n",
    "df = df.append(createDF(\"ilona\", \"sitting\", ilonaSitting), ignore_index=True)\n",
    "df = df.append(createDF(\"ilona\", \"standing\", ilonaStanding), ignore_index=True)\n",
    "df = df.append(createDF(\"lili\", \"walking\", liliWalking), ignore_index=True)\n",
    "df = df.append(createDF(\"lili\", \"running\", liliRunning), ignore_index=True)\n",
    "df = df.append(createDF(\"lili\", \"sleeping\", liliSleeping), ignore_index=True)\n",
    "df = df.append(createDF(\"lili\", \"climbing\", liliClimbing), ignore_index=True)\n",
    "df = df.append(createDF(\"lili\", \"sitting\", liliSitting), ignore_index=True)\n",
    "df = df.append(createDF(\"lili\", \"standing\", liliStanding), ignore_index=True)"
   ]
  },
  {
   "cell_type": "code",
   "execution_count": 35,
   "metadata": {
    "collapsed": false,
    "nbpresent": {
     "id": "ea968157-ba06-4114-ada9-08d0178e0ea6"
    }
   },
   "outputs": [],
   "source": [
    "temp = []\n",
    "a = []\n",
    "mag = []\n",
    "for i in range(len(df)):\n",
    "    temp = df.iloc[i,2]\n",
    "    mag = []\n",
    "    for j in range(len(temp)):\n",
    "        x = temp[j][0]\n",
    "        y = temp[j][1]\n",
    "        z = temp[j][2]\n",
    "    \n",
    "        magnitude = math.sqrt(x ** 2 + y ** 2 + z ** 2)\n",
    "        \n",
    "        mag.append(magnitude)\n",
    "       \n",
    "    a.append(mag)\n",
    "\n",
    "df.insert(3, \"magnitude\", a)\n",
    "    \n",
    "    "
   ]
  },
  {
   "cell_type": "code",
   "execution_count": 36,
   "metadata": {
    "collapsed": false,
    "nbpresent": {
     "id": "1fae0419-be89-4deb-b5e8-0463940d07ae"
    }
   },
   "outputs": [
    {
     "data": {
      "text/html": [
       "<div>\n",
       "<table border=\"1\" class=\"dataframe\">\n",
       "  <thead>\n",
       "    <tr style=\"text-align: right;\">\n",
       "      <th></th>\n",
       "      <th>0</th>\n",
       "      <th>1</th>\n",
       "      <th>2</th>\n",
       "      <th>magnitude</th>\n",
       "    </tr>\n",
       "  </thead>\n",
       "  <tbody>\n",
       "    <tr>\n",
       "      <th>0</th>\n",
       "      <td>gia</td>\n",
       "      <td>walking</td>\n",
       "      <td>[[-9.8, 0.3, -1.5], [-9.8, 0.3, -1.5], [-9.8, ...</td>\n",
       "      <td>[9.918669265581952, 9.918669265581952, 9.91866...</td>\n",
       "    </tr>\n",
       "    <tr>\n",
       "      <th>1</th>\n",
       "      <td>gia</td>\n",
       "      <td>walking</td>\n",
       "      <td>[[-10.9, 0.2, -1.2], [-9.9, -0.7, -2.1], [-9.9...</td>\n",
       "      <td>[10.96767979109529, 10.144456614328833, 10.144...</td>\n",
       "    </tr>\n",
       "    <tr>\n",
       "      <th>2</th>\n",
       "      <td>gia</td>\n",
       "      <td>walking</td>\n",
       "      <td>[[-8.5, -4.4, -3.5], [-8.5, -4.4, -3.5], [-8.5...</td>\n",
       "      <td>[10.191172650877817, 10.191172650877817, 10.19...</td>\n",
       "    </tr>\n",
       "    <tr>\n",
       "      <th>3</th>\n",
       "      <td>gia</td>\n",
       "      <td>walking</td>\n",
       "      <td>[[-7.2, 0.0, -1.2], [-7.2, 0.0, -1.2], [-7.2, ...</td>\n",
       "      <td>[7.299315036357863, 7.299315036357863, 7.29931...</td>\n",
       "    </tr>\n",
       "    <tr>\n",
       "      <th>4</th>\n",
       "      <td>gia</td>\n",
       "      <td>walking</td>\n",
       "      <td>[[-7.3, 3.1, -2.0], [-6.3, 4.8, -2.4], [-6.3, ...</td>\n",
       "      <td>[8.179242018671413, 8.275868534480233, 8.27586...</td>\n",
       "    </tr>\n",
       "  </tbody>\n",
       "</table>\n",
       "</div>"
      ],
      "text/plain": [
       "     0        1                                                  2  \\\n",
       "0  gia  walking  [[-9.8, 0.3, -1.5], [-9.8, 0.3, -1.5], [-9.8, ...   \n",
       "1  gia  walking  [[-10.9, 0.2, -1.2], [-9.9, -0.7, -2.1], [-9.9...   \n",
       "2  gia  walking  [[-8.5, -4.4, -3.5], [-8.5, -4.4, -3.5], [-8.5...   \n",
       "3  gia  walking  [[-7.2, 0.0, -1.2], [-7.2, 0.0, -1.2], [-7.2, ...   \n",
       "4  gia  walking  [[-7.3, 3.1, -2.0], [-6.3, 4.8, -2.4], [-6.3, ...   \n",
       "\n",
       "                                           magnitude  \n",
       "0  [9.918669265581952, 9.918669265581952, 9.91866...  \n",
       "1  [10.96767979109529, 10.144456614328833, 10.144...  \n",
       "2  [10.191172650877817, 10.191172650877817, 10.19...  \n",
       "3  [7.299315036357863, 7.299315036357863, 7.29931...  \n",
       "4  [8.179242018671413, 8.275868534480233, 8.27586...  "
      ]
     },
     "execution_count": 36,
     "metadata": {},
     "output_type": "execute_result"
    }
   ],
   "source": [
    "df.head()"
   ]
  },
  {
   "cell_type": "code",
   "execution_count": 37,
   "metadata": {
    "collapsed": true,
    "nbpresent": {
     "id": "7a959381-03c5-492f-b6f8-e2ebff1cee14"
    }
   },
   "outputs": [],
   "source": [
    "temp = []\n",
    "a = []\n",
    "\n",
    "\n",
    "for i in range(len(df)):\n",
    "    temp = df.iloc[i,3]\n",
    "    Max = max(temp)\n",
    "       \n",
    "    a.append(Max)\n",
    "\n",
    "df.insert(4, \"max\", a)"
   ]
  },
  {
   "cell_type": "code",
   "execution_count": 38,
   "metadata": {
    "collapsed": false,
    "nbpresent": {
     "id": "46327b6e-3158-4b6a-b918-ac7c070cf448"
    }
   },
   "outputs": [
    {
     "data": {
      "text/html": [
       "<div>\n",
       "<table border=\"1\" class=\"dataframe\">\n",
       "  <thead>\n",
       "    <tr style=\"text-align: right;\">\n",
       "      <th></th>\n",
       "      <th>0</th>\n",
       "      <th>1</th>\n",
       "      <th>2</th>\n",
       "      <th>magnitude</th>\n",
       "      <th>max</th>\n",
       "    </tr>\n",
       "  </thead>\n",
       "  <tbody>\n",
       "    <tr>\n",
       "      <th>0</th>\n",
       "      <td>gia</td>\n",
       "      <td>walking</td>\n",
       "      <td>[[-9.8, 0.3, -1.5], [-9.8, 0.3, -1.5], [-9.8, ...</td>\n",
       "      <td>[9.918669265581952, 9.918669265581952, 9.91866...</td>\n",
       "      <td>14.342245</td>\n",
       "    </tr>\n",
       "    <tr>\n",
       "      <th>1</th>\n",
       "      <td>gia</td>\n",
       "      <td>walking</td>\n",
       "      <td>[[-10.9, 0.2, -1.2], [-9.9, -0.7, -2.1], [-9.9...</td>\n",
       "      <td>[10.96767979109529, 10.144456614328833, 10.144...</td>\n",
       "      <td>17.623564</td>\n",
       "    </tr>\n",
       "    <tr>\n",
       "      <th>2</th>\n",
       "      <td>gia</td>\n",
       "      <td>walking</td>\n",
       "      <td>[[-8.5, -4.4, -3.5], [-8.5, -4.4, -3.5], [-8.5...</td>\n",
       "      <td>[10.191172650877817, 10.191172650877817, 10.19...</td>\n",
       "      <td>19.783074</td>\n",
       "    </tr>\n",
       "    <tr>\n",
       "      <th>3</th>\n",
       "      <td>gia</td>\n",
       "      <td>walking</td>\n",
       "      <td>[[-7.2, 0.0, -1.2], [-7.2, 0.0, -1.2], [-7.2, ...</td>\n",
       "      <td>[7.299315036357863, 7.299315036357863, 7.29931...</td>\n",
       "      <td>20.592474</td>\n",
       "    </tr>\n",
       "    <tr>\n",
       "      <th>4</th>\n",
       "      <td>gia</td>\n",
       "      <td>walking</td>\n",
       "      <td>[[-7.3, 3.1, -2.0], [-6.3, 4.8, -2.4], [-6.3, ...</td>\n",
       "      <td>[8.179242018671413, 8.275868534480233, 8.27586...</td>\n",
       "      <td>22.588935</td>\n",
       "    </tr>\n",
       "  </tbody>\n",
       "</table>\n",
       "</div>"
      ],
      "text/plain": [
       "     0        1                                                  2  \\\n",
       "0  gia  walking  [[-9.8, 0.3, -1.5], [-9.8, 0.3, -1.5], [-9.8, ...   \n",
       "1  gia  walking  [[-10.9, 0.2, -1.2], [-9.9, -0.7, -2.1], [-9.9...   \n",
       "2  gia  walking  [[-8.5, -4.4, -3.5], [-8.5, -4.4, -3.5], [-8.5...   \n",
       "3  gia  walking  [[-7.2, 0.0, -1.2], [-7.2, 0.0, -1.2], [-7.2, ...   \n",
       "4  gia  walking  [[-7.3, 3.1, -2.0], [-6.3, 4.8, -2.4], [-6.3, ...   \n",
       "\n",
       "                                           magnitude        max  \n",
       "0  [9.918669265581952, 9.918669265581952, 9.91866...  14.342245  \n",
       "1  [10.96767979109529, 10.144456614328833, 10.144...  17.623564  \n",
       "2  [10.191172650877817, 10.191172650877817, 10.19...  19.783074  \n",
       "3  [7.299315036357863, 7.299315036357863, 7.29931...  20.592474  \n",
       "4  [8.179242018671413, 8.275868534480233, 8.27586...  22.588935  "
      ]
     },
     "execution_count": 38,
     "metadata": {},
     "output_type": "execute_result"
    }
   ],
   "source": [
    "df.head()"
   ]
  },
  {
   "cell_type": "code",
   "execution_count": 39,
   "metadata": {
    "collapsed": true,
    "nbpresent": {
     "id": "6971a287-bc29-41a6-8845-2c2a4240dd4d"
    }
   },
   "outputs": [],
   "source": [
    "temp = []\n",
    "a = []\n",
    "\n",
    "\n",
    "for i in range(len(df)):\n",
    "    temp = df.iloc[i,3]\n",
    "    Min = min(temp)\n",
    "       \n",
    "    a.append(Min)\n",
    "\n",
    "df.insert(5, \"min\", a)"
   ]
  },
  {
   "cell_type": "code",
   "execution_count": 40,
   "metadata": {
    "collapsed": false,
    "nbpresent": {
     "id": "81495f28-dcd2-4c3d-8bcb-8d46dc672db1"
    }
   },
   "outputs": [
    {
     "data": {
      "text/html": [
       "<div>\n",
       "<table border=\"1\" class=\"dataframe\">\n",
       "  <thead>\n",
       "    <tr style=\"text-align: right;\">\n",
       "      <th></th>\n",
       "      <th>0</th>\n",
       "      <th>1</th>\n",
       "      <th>2</th>\n",
       "      <th>magnitude</th>\n",
       "      <th>max</th>\n",
       "      <th>min</th>\n",
       "    </tr>\n",
       "  </thead>\n",
       "  <tbody>\n",
       "    <tr>\n",
       "      <th>0</th>\n",
       "      <td>gia</td>\n",
       "      <td>walking</td>\n",
       "      <td>[[-9.8, 0.3, -1.5], [-9.8, 0.3, -1.5], [-9.8, ...</td>\n",
       "      <td>[9.918669265581952, 9.918669265581952, 9.91866...</td>\n",
       "      <td>14.342245</td>\n",
       "      <td>7.056203</td>\n",
       "    </tr>\n",
       "    <tr>\n",
       "      <th>1</th>\n",
       "      <td>gia</td>\n",
       "      <td>walking</td>\n",
       "      <td>[[-10.9, 0.2, -1.2], [-9.9, -0.7, -2.1], [-9.9...</td>\n",
       "      <td>[10.96767979109529, 10.144456614328833, 10.144...</td>\n",
       "      <td>17.623564</td>\n",
       "      <td>5.989157</td>\n",
       "    </tr>\n",
       "    <tr>\n",
       "      <th>2</th>\n",
       "      <td>gia</td>\n",
       "      <td>walking</td>\n",
       "      <td>[[-8.5, -4.4, -3.5], [-8.5, -4.4, -3.5], [-8.5...</td>\n",
       "      <td>[10.191172650877817, 10.191172650877817, 10.19...</td>\n",
       "      <td>19.783074</td>\n",
       "      <td>7.156815</td>\n",
       "    </tr>\n",
       "    <tr>\n",
       "      <th>3</th>\n",
       "      <td>gia</td>\n",
       "      <td>walking</td>\n",
       "      <td>[[-7.2, 0.0, -1.2], [-7.2, 0.0, -1.2], [-7.2, ...</td>\n",
       "      <td>[7.299315036357863, 7.299315036357863, 7.29931...</td>\n",
       "      <td>20.592474</td>\n",
       "      <td>6.953416</td>\n",
       "    </tr>\n",
       "    <tr>\n",
       "      <th>4</th>\n",
       "      <td>gia</td>\n",
       "      <td>walking</td>\n",
       "      <td>[[-7.3, 3.1, -2.0], [-6.3, 4.8, -2.4], [-6.3, ...</td>\n",
       "      <td>[8.179242018671413, 8.275868534480233, 8.27586...</td>\n",
       "      <td>22.588935</td>\n",
       "      <td>7.097183</td>\n",
       "    </tr>\n",
       "  </tbody>\n",
       "</table>\n",
       "</div>"
      ],
      "text/plain": [
       "     0        1                                                  2  \\\n",
       "0  gia  walking  [[-9.8, 0.3, -1.5], [-9.8, 0.3, -1.5], [-9.8, ...   \n",
       "1  gia  walking  [[-10.9, 0.2, -1.2], [-9.9, -0.7, -2.1], [-9.9...   \n",
       "2  gia  walking  [[-8.5, -4.4, -3.5], [-8.5, -4.4, -3.5], [-8.5...   \n",
       "3  gia  walking  [[-7.2, 0.0, -1.2], [-7.2, 0.0, -1.2], [-7.2, ...   \n",
       "4  gia  walking  [[-7.3, 3.1, -2.0], [-6.3, 4.8, -2.4], [-6.3, ...   \n",
       "\n",
       "                                           magnitude        max       min  \n",
       "0  [9.918669265581952, 9.918669265581952, 9.91866...  14.342245  7.056203  \n",
       "1  [10.96767979109529, 10.144456614328833, 10.144...  17.623564  5.989157  \n",
       "2  [10.191172650877817, 10.191172650877817, 10.19...  19.783074  7.156815  \n",
       "3  [7.299315036357863, 7.299315036357863, 7.29931...  20.592474  6.953416  \n",
       "4  [8.179242018671413, 8.275868534480233, 8.27586...  22.588935  7.097183  "
      ]
     },
     "execution_count": 40,
     "metadata": {},
     "output_type": "execute_result"
    }
   ],
   "source": [
    "df.head()"
   ]
  },
  {
   "cell_type": "code",
   "execution_count": 41,
   "metadata": {
    "collapsed": true,
    "nbpresent": {
     "id": "953e2dab-141c-4505-b00c-4e2395d95fef"
    }
   },
   "outputs": [],
   "source": [
    "temp = []\n",
    "a = []\n",
    "\n",
    "\n",
    "for i in range(len(df)):\n",
    "    temp = df.iloc[i,3]\n",
    "    x = np.array(temp)\n",
    "    std = np.std(x)\n",
    "    a.append(std)\n",
    "\n",
    "df.insert(6, \"std\", a)"
   ]
  },
  {
   "cell_type": "code",
   "execution_count": 42,
   "metadata": {
    "collapsed": false,
    "nbpresent": {
     "id": "de2d4821-414a-4b4d-aa44-490fc69c1332"
    }
   },
   "outputs": [
    {
     "data": {
      "text/html": [
       "<div>\n",
       "<table border=\"1\" class=\"dataframe\">\n",
       "  <thead>\n",
       "    <tr style=\"text-align: right;\">\n",
       "      <th></th>\n",
       "      <th>0</th>\n",
       "      <th>1</th>\n",
       "      <th>2</th>\n",
       "      <th>magnitude</th>\n",
       "      <th>max</th>\n",
       "      <th>min</th>\n",
       "      <th>std</th>\n",
       "    </tr>\n",
       "  </thead>\n",
       "  <tbody>\n",
       "    <tr>\n",
       "      <th>0</th>\n",
       "      <td>gia</td>\n",
       "      <td>walking</td>\n",
       "      <td>[[-9.8, 0.3, -1.5], [-9.8, 0.3, -1.5], [-9.8, ...</td>\n",
       "      <td>[9.918669265581952, 9.918669265581952, 9.91866...</td>\n",
       "      <td>14.342245</td>\n",
       "      <td>7.056203</td>\n",
       "      <td>1.153909</td>\n",
       "    </tr>\n",
       "    <tr>\n",
       "      <th>1</th>\n",
       "      <td>gia</td>\n",
       "      <td>walking</td>\n",
       "      <td>[[-10.9, 0.2, -1.2], [-9.9, -0.7, -2.1], [-9.9...</td>\n",
       "      <td>[10.96767979109529, 10.144456614328833, 10.144...</td>\n",
       "      <td>17.623564</td>\n",
       "      <td>5.989157</td>\n",
       "      <td>2.539697</td>\n",
       "    </tr>\n",
       "    <tr>\n",
       "      <th>2</th>\n",
       "      <td>gia</td>\n",
       "      <td>walking</td>\n",
       "      <td>[[-8.5, -4.4, -3.5], [-8.5, -4.4, -3.5], [-8.5...</td>\n",
       "      <td>[10.191172650877817, 10.191172650877817, 10.19...</td>\n",
       "      <td>19.783074</td>\n",
       "      <td>7.156815</td>\n",
       "      <td>2.980663</td>\n",
       "    </tr>\n",
       "    <tr>\n",
       "      <th>3</th>\n",
       "      <td>gia</td>\n",
       "      <td>walking</td>\n",
       "      <td>[[-7.2, 0.0, -1.2], [-7.2, 0.0, -1.2], [-7.2, ...</td>\n",
       "      <td>[7.299315036357863, 7.299315036357863, 7.29931...</td>\n",
       "      <td>20.592474</td>\n",
       "      <td>6.953416</td>\n",
       "      <td>3.096813</td>\n",
       "    </tr>\n",
       "    <tr>\n",
       "      <th>4</th>\n",
       "      <td>gia</td>\n",
       "      <td>walking</td>\n",
       "      <td>[[-7.3, 3.1, -2.0], [-6.3, 4.8, -2.4], [-6.3, ...</td>\n",
       "      <td>[8.179242018671413, 8.275868534480233, 8.27586...</td>\n",
       "      <td>22.588935</td>\n",
       "      <td>7.097183</td>\n",
       "      <td>2.874046</td>\n",
       "    </tr>\n",
       "  </tbody>\n",
       "</table>\n",
       "</div>"
      ],
      "text/plain": [
       "     0        1                                                  2  \\\n",
       "0  gia  walking  [[-9.8, 0.3, -1.5], [-9.8, 0.3, -1.5], [-9.8, ...   \n",
       "1  gia  walking  [[-10.9, 0.2, -1.2], [-9.9, -0.7, -2.1], [-9.9...   \n",
       "2  gia  walking  [[-8.5, -4.4, -3.5], [-8.5, -4.4, -3.5], [-8.5...   \n",
       "3  gia  walking  [[-7.2, 0.0, -1.2], [-7.2, 0.0, -1.2], [-7.2, ...   \n",
       "4  gia  walking  [[-7.3, 3.1, -2.0], [-6.3, 4.8, -2.4], [-6.3, ...   \n",
       "\n",
       "                                           magnitude        max       min  \\\n",
       "0  [9.918669265581952, 9.918669265581952, 9.91866...  14.342245  7.056203   \n",
       "1  [10.96767979109529, 10.144456614328833, 10.144...  17.623564  5.989157   \n",
       "2  [10.191172650877817, 10.191172650877817, 10.19...  19.783074  7.156815   \n",
       "3  [7.299315036357863, 7.299315036357863, 7.29931...  20.592474  6.953416   \n",
       "4  [8.179242018671413, 8.275868534480233, 8.27586...  22.588935  7.097183   \n",
       "\n",
       "        std  \n",
       "0  1.153909  \n",
       "1  2.539697  \n",
       "2  2.980663  \n",
       "3  3.096813  \n",
       "4  2.874046  "
      ]
     },
     "execution_count": 42,
     "metadata": {},
     "output_type": "execute_result"
    }
   ],
   "source": [
    "df.head()"
   ]
  },
  {
   "cell_type": "code",
   "execution_count": 43,
   "metadata": {
    "collapsed": false,
    "nbpresent": {
     "id": "bf1c2268-9b22-429a-ae6b-34d258dbb7a8"
    }
   },
   "outputs": [],
   "source": [
    "temp = []\n",
    "a = []\n",
    "\n",
    "\n",
    "for i in range(len(df)):\n",
    "    temp = df.iloc[i,3]\n",
    "    skew = stats.skew(temp)\n",
    "    a.append(skew)\n",
    "\n",
    "df.insert(7, \"skew\", a)"
   ]
  },
  {
   "cell_type": "code",
   "execution_count": 44,
   "metadata": {
    "collapsed": false,
    "nbpresent": {
     "id": "56452b22-a724-4618-bd78-0c9db808bc31"
    }
   },
   "outputs": [
    {
     "data": {
      "text/html": [
       "<div>\n",
       "<table border=\"1\" class=\"dataframe\">\n",
       "  <thead>\n",
       "    <tr style=\"text-align: right;\">\n",
       "      <th></th>\n",
       "      <th>0</th>\n",
       "      <th>1</th>\n",
       "      <th>2</th>\n",
       "      <th>magnitude</th>\n",
       "      <th>max</th>\n",
       "      <th>min</th>\n",
       "      <th>std</th>\n",
       "      <th>skew</th>\n",
       "    </tr>\n",
       "  </thead>\n",
       "  <tbody>\n",
       "    <tr>\n",
       "      <th>0</th>\n",
       "      <td>gia</td>\n",
       "      <td>walking</td>\n",
       "      <td>[[-9.8, 0.3, -1.5], [-9.8, 0.3, -1.5], [-9.8, ...</td>\n",
       "      <td>[9.918669265581952, 9.918669265581952, 9.91866...</td>\n",
       "      <td>14.342245</td>\n",
       "      <td>7.056203</td>\n",
       "      <td>1.153909</td>\n",
       "      <td>0.765104</td>\n",
       "    </tr>\n",
       "    <tr>\n",
       "      <th>1</th>\n",
       "      <td>gia</td>\n",
       "      <td>walking</td>\n",
       "      <td>[[-10.9, 0.2, -1.2], [-9.9, -0.7, -2.1], [-9.9...</td>\n",
       "      <td>[10.96767979109529, 10.144456614328833, 10.144...</td>\n",
       "      <td>17.623564</td>\n",
       "      <td>5.989157</td>\n",
       "      <td>2.539697</td>\n",
       "      <td>0.793941</td>\n",
       "    </tr>\n",
       "    <tr>\n",
       "      <th>2</th>\n",
       "      <td>gia</td>\n",
       "      <td>walking</td>\n",
       "      <td>[[-8.5, -4.4, -3.5], [-8.5, -4.4, -3.5], [-8.5...</td>\n",
       "      <td>[10.191172650877817, 10.191172650877817, 10.19...</td>\n",
       "      <td>19.783074</td>\n",
       "      <td>7.156815</td>\n",
       "      <td>2.980663</td>\n",
       "      <td>1.883973</td>\n",
       "    </tr>\n",
       "    <tr>\n",
       "      <th>3</th>\n",
       "      <td>gia</td>\n",
       "      <td>walking</td>\n",
       "      <td>[[-7.2, 0.0, -1.2], [-7.2, 0.0, -1.2], [-7.2, ...</td>\n",
       "      <td>[7.299315036357863, 7.299315036357863, 7.29931...</td>\n",
       "      <td>20.592474</td>\n",
       "      <td>6.953416</td>\n",
       "      <td>3.096813</td>\n",
       "      <td>1.265939</td>\n",
       "    </tr>\n",
       "    <tr>\n",
       "      <th>4</th>\n",
       "      <td>gia</td>\n",
       "      <td>walking</td>\n",
       "      <td>[[-7.3, 3.1, -2.0], [-6.3, 4.8, -2.4], [-6.3, ...</td>\n",
       "      <td>[8.179242018671413, 8.275868534480233, 8.27586...</td>\n",
       "      <td>22.588935</td>\n",
       "      <td>7.097183</td>\n",
       "      <td>2.874046</td>\n",
       "      <td>2.321100</td>\n",
       "    </tr>\n",
       "  </tbody>\n",
       "</table>\n",
       "</div>"
      ],
      "text/plain": [
       "     0        1                                                  2  \\\n",
       "0  gia  walking  [[-9.8, 0.3, -1.5], [-9.8, 0.3, -1.5], [-9.8, ...   \n",
       "1  gia  walking  [[-10.9, 0.2, -1.2], [-9.9, -0.7, -2.1], [-9.9...   \n",
       "2  gia  walking  [[-8.5, -4.4, -3.5], [-8.5, -4.4, -3.5], [-8.5...   \n",
       "3  gia  walking  [[-7.2, 0.0, -1.2], [-7.2, 0.0, -1.2], [-7.2, ...   \n",
       "4  gia  walking  [[-7.3, 3.1, -2.0], [-6.3, 4.8, -2.4], [-6.3, ...   \n",
       "\n",
       "                                           magnitude        max       min  \\\n",
       "0  [9.918669265581952, 9.918669265581952, 9.91866...  14.342245  7.056203   \n",
       "1  [10.96767979109529, 10.144456614328833, 10.144...  17.623564  5.989157   \n",
       "2  [10.191172650877817, 10.191172650877817, 10.19...  19.783074  7.156815   \n",
       "3  [7.299315036357863, 7.299315036357863, 7.29931...  20.592474  6.953416   \n",
       "4  [8.179242018671413, 8.275868534480233, 8.27586...  22.588935  7.097183   \n",
       "\n",
       "        std      skew  \n",
       "0  1.153909  0.765104  \n",
       "1  2.539697  0.793941  \n",
       "2  2.980663  1.883973  \n",
       "3  3.096813  1.265939  \n",
       "4  2.874046  2.321100  "
      ]
     },
     "execution_count": 44,
     "metadata": {},
     "output_type": "execute_result"
    }
   ],
   "source": [
    "df.head()"
   ]
  },
  {
   "cell_type": "code",
   "execution_count": 45,
   "metadata": {
    "collapsed": true,
    "nbpresent": {
     "id": "327894fa-5ce0-4967-9872-a4009e7c2f55"
    }
   },
   "outputs": [],
   "source": [
    "temp = []\n",
    "a = []\n",
    "\n",
    "for i in range(len(df)):\n",
    "    temp = df.iloc[i,3]\n",
    "    kurt = stats.kurtosis(temp)\n",
    "    a.append(kurt)\n",
    "df.insert(8, \"kurtosis\", a)"
   ]
  },
  {
   "cell_type": "code",
   "execution_count": 46,
   "metadata": {
    "collapsed": false,
    "nbpresent": {
     "id": "f6870b90-cbd2-4db0-9781-97b7b788c184"
    }
   },
   "outputs": [
    {
     "data": {
      "text/html": [
       "<div>\n",
       "<table border=\"1\" class=\"dataframe\">\n",
       "  <thead>\n",
       "    <tr style=\"text-align: right;\">\n",
       "      <th></th>\n",
       "      <th>0</th>\n",
       "      <th>1</th>\n",
       "      <th>2</th>\n",
       "      <th>magnitude</th>\n",
       "      <th>max</th>\n",
       "      <th>min</th>\n",
       "      <th>std</th>\n",
       "      <th>skew</th>\n",
       "      <th>kurtosis</th>\n",
       "    </tr>\n",
       "  </thead>\n",
       "  <tbody>\n",
       "    <tr>\n",
       "      <th>0</th>\n",
       "      <td>gia</td>\n",
       "      <td>walking</td>\n",
       "      <td>[[-9.8, 0.3, -1.5], [-9.8, 0.3, -1.5], [-9.8, ...</td>\n",
       "      <td>[9.918669265581952, 9.918669265581952, 9.91866...</td>\n",
       "      <td>14.342245</td>\n",
       "      <td>7.056203</td>\n",
       "      <td>1.153909</td>\n",
       "      <td>0.765104</td>\n",
       "      <td>4.308712</td>\n",
       "    </tr>\n",
       "    <tr>\n",
       "      <th>1</th>\n",
       "      <td>gia</td>\n",
       "      <td>walking</td>\n",
       "      <td>[[-10.9, 0.2, -1.2], [-9.9, -0.7, -2.1], [-9.9...</td>\n",
       "      <td>[10.96767979109529, 10.144456614328833, 10.144...</td>\n",
       "      <td>17.623564</td>\n",
       "      <td>5.989157</td>\n",
       "      <td>2.539697</td>\n",
       "      <td>0.793941</td>\n",
       "      <td>0.369980</td>\n",
       "    </tr>\n",
       "    <tr>\n",
       "      <th>2</th>\n",
       "      <td>gia</td>\n",
       "      <td>walking</td>\n",
       "      <td>[[-8.5, -4.4, -3.5], [-8.5, -4.4, -3.5], [-8.5...</td>\n",
       "      <td>[10.191172650877817, 10.191172650877817, 10.19...</td>\n",
       "      <td>19.783074</td>\n",
       "      <td>7.156815</td>\n",
       "      <td>2.980663</td>\n",
       "      <td>1.883973</td>\n",
       "      <td>3.243430</td>\n",
       "    </tr>\n",
       "    <tr>\n",
       "      <th>3</th>\n",
       "      <td>gia</td>\n",
       "      <td>walking</td>\n",
       "      <td>[[-7.2, 0.0, -1.2], [-7.2, 0.0, -1.2], [-7.2, ...</td>\n",
       "      <td>[7.299315036357863, 7.299315036357863, 7.29931...</td>\n",
       "      <td>20.592474</td>\n",
       "      <td>6.953416</td>\n",
       "      <td>3.096813</td>\n",
       "      <td>1.265939</td>\n",
       "      <td>1.202015</td>\n",
       "    </tr>\n",
       "    <tr>\n",
       "      <th>4</th>\n",
       "      <td>gia</td>\n",
       "      <td>walking</td>\n",
       "      <td>[[-7.3, 3.1, -2.0], [-6.3, 4.8, -2.4], [-6.3, ...</td>\n",
       "      <td>[8.179242018671413, 8.275868534480233, 8.27586...</td>\n",
       "      <td>22.588935</td>\n",
       "      <td>7.097183</td>\n",
       "      <td>2.874046</td>\n",
       "      <td>2.321100</td>\n",
       "      <td>6.854679</td>\n",
       "    </tr>\n",
       "  </tbody>\n",
       "</table>\n",
       "</div>"
      ],
      "text/plain": [
       "     0        1                                                  2  \\\n",
       "0  gia  walking  [[-9.8, 0.3, -1.5], [-9.8, 0.3, -1.5], [-9.8, ...   \n",
       "1  gia  walking  [[-10.9, 0.2, -1.2], [-9.9, -0.7, -2.1], [-9.9...   \n",
       "2  gia  walking  [[-8.5, -4.4, -3.5], [-8.5, -4.4, -3.5], [-8.5...   \n",
       "3  gia  walking  [[-7.2, 0.0, -1.2], [-7.2, 0.0, -1.2], [-7.2, ...   \n",
       "4  gia  walking  [[-7.3, 3.1, -2.0], [-6.3, 4.8, -2.4], [-6.3, ...   \n",
       "\n",
       "                                           magnitude        max       min  \\\n",
       "0  [9.918669265581952, 9.918669265581952, 9.91866...  14.342245  7.056203   \n",
       "1  [10.96767979109529, 10.144456614328833, 10.144...  17.623564  5.989157   \n",
       "2  [10.191172650877817, 10.191172650877817, 10.19...  19.783074  7.156815   \n",
       "3  [7.299315036357863, 7.299315036357863, 7.29931...  20.592474  6.953416   \n",
       "4  [8.179242018671413, 8.275868534480233, 8.27586...  22.588935  7.097183   \n",
       "\n",
       "        std      skew  kurtosis  \n",
       "0  1.153909  0.765104  4.308712  \n",
       "1  2.539697  0.793941  0.369980  \n",
       "2  2.980663  1.883973  3.243430  \n",
       "3  3.096813  1.265939  1.202015  \n",
       "4  2.874046  2.321100  6.854679  "
      ]
     },
     "execution_count": 46,
     "metadata": {},
     "output_type": "execute_result"
    }
   ],
   "source": [
    "df.head()"
   ]
  },
  {
   "cell_type": "code",
   "execution_count": 47,
   "metadata": {
    "collapsed": true,
    "nbpresent": {
     "id": "eff9e866-8d7c-4270-ab8a-34cab6826137"
    }
   },
   "outputs": [],
   "source": [
    "temp = []\n",
    "a = []\n",
    "\n",
    "\n",
    "for i in range(len(df)):\n",
    "    temp = df.iloc[i,3]\n",
    "    x = np.array(temp)\n",
    "    Mean = np.mean(x)\n",
    "    a.append(Mean)\n",
    "\n",
    "df.insert(9, \"mean\", a)"
   ]
  },
  {
   "cell_type": "code",
   "execution_count": 48,
   "metadata": {
    "collapsed": false,
    "nbpresent": {
     "id": "530dfcc7-e934-49ae-8e23-fcc83bb20ad9"
    }
   },
   "outputs": [
    {
     "data": {
      "text/html": [
       "<div>\n",
       "<table border=\"1\" class=\"dataframe\">\n",
       "  <thead>\n",
       "    <tr style=\"text-align: right;\">\n",
       "      <th></th>\n",
       "      <th>0</th>\n",
       "      <th>1</th>\n",
       "      <th>2</th>\n",
       "      <th>magnitude</th>\n",
       "      <th>max</th>\n",
       "      <th>min</th>\n",
       "      <th>std</th>\n",
       "      <th>skew</th>\n",
       "      <th>kurtosis</th>\n",
       "      <th>mean</th>\n",
       "    </tr>\n",
       "  </thead>\n",
       "  <tbody>\n",
       "    <tr>\n",
       "      <th>0</th>\n",
       "      <td>gia</td>\n",
       "      <td>walking</td>\n",
       "      <td>[[-9.8, 0.3, -1.5], [-9.8, 0.3, -1.5], [-9.8, ...</td>\n",
       "      <td>[9.918669265581952, 9.918669265581952, 9.91866...</td>\n",
       "      <td>14.342245</td>\n",
       "      <td>7.056203</td>\n",
       "      <td>1.153909</td>\n",
       "      <td>0.765104</td>\n",
       "      <td>4.308712</td>\n",
       "      <td>10.103423</td>\n",
       "    </tr>\n",
       "    <tr>\n",
       "      <th>1</th>\n",
       "      <td>gia</td>\n",
       "      <td>walking</td>\n",
       "      <td>[[-10.9, 0.2, -1.2], [-9.9, -0.7, -2.1], [-9.9...</td>\n",
       "      <td>[10.96767979109529, 10.144456614328833, 10.144...</td>\n",
       "      <td>17.623564</td>\n",
       "      <td>5.989157</td>\n",
       "      <td>2.539697</td>\n",
       "      <td>0.793941</td>\n",
       "      <td>0.369980</td>\n",
       "      <td>10.294204</td>\n",
       "    </tr>\n",
       "    <tr>\n",
       "      <th>2</th>\n",
       "      <td>gia</td>\n",
       "      <td>walking</td>\n",
       "      <td>[[-8.5, -4.4, -3.5], [-8.5, -4.4, -3.5], [-8.5...</td>\n",
       "      <td>[10.191172650877817, 10.191172650877817, 10.19...</td>\n",
       "      <td>19.783074</td>\n",
       "      <td>7.156815</td>\n",
       "      <td>2.980663</td>\n",
       "      <td>1.883973</td>\n",
       "      <td>3.243430</td>\n",
       "      <td>10.325923</td>\n",
       "    </tr>\n",
       "    <tr>\n",
       "      <th>3</th>\n",
       "      <td>gia</td>\n",
       "      <td>walking</td>\n",
       "      <td>[[-7.2, 0.0, -1.2], [-7.2, 0.0, -1.2], [-7.2, ...</td>\n",
       "      <td>[7.299315036357863, 7.299315036357863, 7.29931...</td>\n",
       "      <td>20.592474</td>\n",
       "      <td>6.953416</td>\n",
       "      <td>3.096813</td>\n",
       "      <td>1.265939</td>\n",
       "      <td>1.202015</td>\n",
       "      <td>10.695082</td>\n",
       "    </tr>\n",
       "    <tr>\n",
       "      <th>4</th>\n",
       "      <td>gia</td>\n",
       "      <td>walking</td>\n",
       "      <td>[[-7.3, 3.1, -2.0], [-6.3, 4.8, -2.4], [-6.3, ...</td>\n",
       "      <td>[8.179242018671413, 8.275868534480233, 8.27586...</td>\n",
       "      <td>22.588935</td>\n",
       "      <td>7.097183</td>\n",
       "      <td>2.874046</td>\n",
       "      <td>2.321100</td>\n",
       "      <td>6.854679</td>\n",
       "      <td>10.447635</td>\n",
       "    </tr>\n",
       "  </tbody>\n",
       "</table>\n",
       "</div>"
      ],
      "text/plain": [
       "     0        1                                                  2  \\\n",
       "0  gia  walking  [[-9.8, 0.3, -1.5], [-9.8, 0.3, -1.5], [-9.8, ...   \n",
       "1  gia  walking  [[-10.9, 0.2, -1.2], [-9.9, -0.7, -2.1], [-9.9...   \n",
       "2  gia  walking  [[-8.5, -4.4, -3.5], [-8.5, -4.4, -3.5], [-8.5...   \n",
       "3  gia  walking  [[-7.2, 0.0, -1.2], [-7.2, 0.0, -1.2], [-7.2, ...   \n",
       "4  gia  walking  [[-7.3, 3.1, -2.0], [-6.3, 4.8, -2.4], [-6.3, ...   \n",
       "\n",
       "                                           magnitude        max       min  \\\n",
       "0  [9.918669265581952, 9.918669265581952, 9.91866...  14.342245  7.056203   \n",
       "1  [10.96767979109529, 10.144456614328833, 10.144...  17.623564  5.989157   \n",
       "2  [10.191172650877817, 10.191172650877817, 10.19...  19.783074  7.156815   \n",
       "3  [7.299315036357863, 7.299315036357863, 7.29931...  20.592474  6.953416   \n",
       "4  [8.179242018671413, 8.275868534480233, 8.27586...  22.588935  7.097183   \n",
       "\n",
       "        std      skew  kurtosis       mean  \n",
       "0  1.153909  0.765104  4.308712  10.103423  \n",
       "1  2.539697  0.793941  0.369980  10.294204  \n",
       "2  2.980663  1.883973  3.243430  10.325923  \n",
       "3  3.096813  1.265939  1.202015  10.695082  \n",
       "4  2.874046  2.321100  6.854679  10.447635  "
      ]
     },
     "execution_count": 48,
     "metadata": {},
     "output_type": "execute_result"
    }
   ],
   "source": [
    "df.head()"
   ]
  },
  {
   "cell_type": "code",
   "execution_count": 49,
   "metadata": {
    "collapsed": false,
    "nbpresent": {
     "id": "7eff92fa-7b42-4fd1-8021-bcf5a8beaa39"
    }
   },
   "outputs": [],
   "source": [
    "temp = []\n",
    "a = []\n",
    "\n",
    "\n",
    "for i in range(len(df)):\n",
    "    temp = df.iloc[i,3]\n",
    "    x = np.array(temp)\n",
    "    Median = np.median(x)\n",
    "    a.append(Median)\n",
    "\n",
    "df.insert(10, \"median\", a)"
   ]
  },
  {
   "cell_type": "code",
   "execution_count": 50,
   "metadata": {
    "collapsed": false,
    "nbpresent": {
     "id": "e086c663-6f24-4c26-9808-20ae493fa1b7"
    }
   },
   "outputs": [
    {
     "data": {
      "text/html": [
       "<div>\n",
       "<table border=\"1\" class=\"dataframe\">\n",
       "  <thead>\n",
       "    <tr style=\"text-align: right;\">\n",
       "      <th></th>\n",
       "      <th>0</th>\n",
       "      <th>1</th>\n",
       "      <th>2</th>\n",
       "      <th>magnitude</th>\n",
       "      <th>max</th>\n",
       "      <th>min</th>\n",
       "      <th>std</th>\n",
       "      <th>skew</th>\n",
       "      <th>kurtosis</th>\n",
       "      <th>mean</th>\n",
       "      <th>median</th>\n",
       "    </tr>\n",
       "  </thead>\n",
       "  <tbody>\n",
       "    <tr>\n",
       "      <th>0</th>\n",
       "      <td>gia</td>\n",
       "      <td>walking</td>\n",
       "      <td>[[-9.8, 0.3, -1.5], [-9.8, 0.3, -1.5], [-9.8, ...</td>\n",
       "      <td>[9.918669265581952, 9.918669265581952, 9.91866...</td>\n",
       "      <td>14.342245</td>\n",
       "      <td>7.056203</td>\n",
       "      <td>1.153909</td>\n",
       "      <td>0.765104</td>\n",
       "      <td>4.308712</td>\n",
       "      <td>10.103423</td>\n",
       "      <td>9.950879</td>\n",
       "    </tr>\n",
       "    <tr>\n",
       "      <th>1</th>\n",
       "      <td>gia</td>\n",
       "      <td>walking</td>\n",
       "      <td>[[-10.9, 0.2, -1.2], [-9.9, -0.7, -2.1], [-9.9...</td>\n",
       "      <td>[10.96767979109529, 10.144456614328833, 10.144...</td>\n",
       "      <td>17.623564</td>\n",
       "      <td>5.989157</td>\n",
       "      <td>2.539697</td>\n",
       "      <td>0.793941</td>\n",
       "      <td>0.369980</td>\n",
       "      <td>10.294204</td>\n",
       "      <td>10.104949</td>\n",
       "    </tr>\n",
       "    <tr>\n",
       "      <th>2</th>\n",
       "      <td>gia</td>\n",
       "      <td>walking</td>\n",
       "      <td>[[-8.5, -4.4, -3.5], [-8.5, -4.4, -3.5], [-8.5...</td>\n",
       "      <td>[10.191172650877817, 10.191172650877817, 10.19...</td>\n",
       "      <td>19.783074</td>\n",
       "      <td>7.156815</td>\n",
       "      <td>2.980663</td>\n",
       "      <td>1.883973</td>\n",
       "      <td>3.243430</td>\n",
       "      <td>10.325923</td>\n",
       "      <td>9.721625</td>\n",
       "    </tr>\n",
       "    <tr>\n",
       "      <th>3</th>\n",
       "      <td>gia</td>\n",
       "      <td>walking</td>\n",
       "      <td>[[-7.2, 0.0, -1.2], [-7.2, 0.0, -1.2], [-7.2, ...</td>\n",
       "      <td>[7.299315036357863, 7.299315036357863, 7.29931...</td>\n",
       "      <td>20.592474</td>\n",
       "      <td>6.953416</td>\n",
       "      <td>3.096813</td>\n",
       "      <td>1.265939</td>\n",
       "      <td>1.202015</td>\n",
       "      <td>10.695082</td>\n",
       "      <td>9.829547</td>\n",
       "    </tr>\n",
       "    <tr>\n",
       "      <th>4</th>\n",
       "      <td>gia</td>\n",
       "      <td>walking</td>\n",
       "      <td>[[-7.3, 3.1, -2.0], [-6.3, 4.8, -2.4], [-6.3, ...</td>\n",
       "      <td>[8.179242018671413, 8.275868534480233, 8.27586...</td>\n",
       "      <td>22.588935</td>\n",
       "      <td>7.097183</td>\n",
       "      <td>2.874046</td>\n",
       "      <td>2.321100</td>\n",
       "      <td>6.854679</td>\n",
       "      <td>10.447635</td>\n",
       "      <td>9.961426</td>\n",
       "    </tr>\n",
       "    <tr>\n",
       "      <th>5</th>\n",
       "      <td>gia</td>\n",
       "      <td>walking</td>\n",
       "      <td>[[-11.1, 0.9, -1.5], [-9.6, 0.2, -1.3], [-9.6,...</td>\n",
       "      <td>[11.236992480196825, 9.689685237405806, 9.6896...</td>\n",
       "      <td>17.422399</td>\n",
       "      <td>6.024118</td>\n",
       "      <td>2.544375</td>\n",
       "      <td>0.892820</td>\n",
       "      <td>0.789222</td>\n",
       "      <td>10.442894</td>\n",
       "      <td>10.285913</td>\n",
       "    </tr>\n",
       "    <tr>\n",
       "      <th>6</th>\n",
       "      <td>gia</td>\n",
       "      <td>walking</td>\n",
       "      <td>[[-6.9, 0.2, -2.8], [-6.9, 0.2, -2.8], [-6.9, ...</td>\n",
       "      <td>[7.449161026585477, 7.449161026585477, 7.44916...</td>\n",
       "      <td>21.328150</td>\n",
       "      <td>6.930368</td>\n",
       "      <td>2.601552</td>\n",
       "      <td>2.410858</td>\n",
       "      <td>7.126931</td>\n",
       "      <td>10.348865</td>\n",
       "      <td>9.946356</td>\n",
       "    </tr>\n",
       "    <tr>\n",
       "      <th>7</th>\n",
       "      <td>gia</td>\n",
       "      <td>walking</td>\n",
       "      <td>[[-8.0, -3.3, -5.7], [-8.0, -3.3, -5.7], [-8.0...</td>\n",
       "      <td>[10.36243214694311, 10.36243214694311, 10.3624...</td>\n",
       "      <td>16.994999</td>\n",
       "      <td>7.976841</td>\n",
       "      <td>2.192396</td>\n",
       "      <td>1.313694</td>\n",
       "      <td>1.204022</td>\n",
       "      <td>10.400864</td>\n",
       "      <td>9.871677</td>\n",
       "    </tr>\n",
       "    <tr>\n",
       "      <th>8</th>\n",
       "      <td>gia</td>\n",
       "      <td>walking</td>\n",
       "      <td>[[-14.8, -2.1, -1.9], [-14.8, -2.1, -1.9], [-1...</td>\n",
       "      <td>[15.068510211696445, 15.068510211696445, 15.06...</td>\n",
       "      <td>20.667608</td>\n",
       "      <td>6.041523</td>\n",
       "      <td>2.887888</td>\n",
       "      <td>1.176041</td>\n",
       "      <td>1.992694</td>\n",
       "      <td>10.506356</td>\n",
       "      <td>10.064790</td>\n",
       "    </tr>\n",
       "    <tr>\n",
       "      <th>9</th>\n",
       "      <td>gia</td>\n",
       "      <td>walking</td>\n",
       "      <td>[[-8.3, -0.6, -1.3], [-8.3, -0.6, -1.3], [-8.3...</td>\n",
       "      <td>[8.422588675698227, 8.422588675698227, 8.42258...</td>\n",
       "      <td>17.962739</td>\n",
       "      <td>6.332456</td>\n",
       "      <td>2.623359</td>\n",
       "      <td>1.060948</td>\n",
       "      <td>0.685604</td>\n",
       "      <td>10.448195</td>\n",
       "      <td>9.877753</td>\n",
       "    </tr>\n",
       "    <tr>\n",
       "      <th>10</th>\n",
       "      <td>gia</td>\n",
       "      <td>walking</td>\n",
       "      <td>[[-8.1, -4.2, -4.6], [-8.1, -4.2, -4.6], [-8.1...</td>\n",
       "      <td>[10.218121158021175, 10.218121158021175, 10.21...</td>\n",
       "      <td>18.157643</td>\n",
       "      <td>6.071244</td>\n",
       "      <td>2.438776</td>\n",
       "      <td>0.834981</td>\n",
       "      <td>0.941568</td>\n",
       "      <td>10.552759</td>\n",
       "      <td>10.463747</td>\n",
       "    </tr>\n",
       "    <tr>\n",
       "      <th>11</th>\n",
       "      <td>gia</td>\n",
       "      <td>walking</td>\n",
       "      <td>[[-5.3, 1.9, -3.0], [-5.3, 1.9, -3.0], [-8.3, ...</td>\n",
       "      <td>[6.3796551630946325, 6.3796551630946325, 8.514...</td>\n",
       "      <td>17.346181</td>\n",
       "      <td>6.379655</td>\n",
       "      <td>2.383982</td>\n",
       "      <td>1.239506</td>\n",
       "      <td>1.331502</td>\n",
       "      <td>10.377154</td>\n",
       "      <td>9.986992</td>\n",
       "    </tr>\n",
       "    <tr>\n",
       "      <th>12</th>\n",
       "      <td>gia</td>\n",
       "      <td>walking</td>\n",
       "      <td>[[-12.0, 2.7, -4.2], [-12.0, 2.7, -4.2], [-12....</td>\n",
       "      <td>[12.997307413460682, 12.997307413460682, 12.99...</td>\n",
       "      <td>16.692513</td>\n",
       "      <td>5.192302</td>\n",
       "      <td>2.484702</td>\n",
       "      <td>0.981712</td>\n",
       "      <td>0.759409</td>\n",
       "      <td>10.317847</td>\n",
       "      <td>9.840732</td>\n",
       "    </tr>\n",
       "    <tr>\n",
       "      <th>13</th>\n",
       "      <td>gia</td>\n",
       "      <td>walking</td>\n",
       "      <td>[[-9.4, 0.7, -3.1], [-9.4, 0.7, -3.1], [-9.4, ...</td>\n",
       "      <td>[9.922701245124737, 9.922701245124737, 9.92270...</td>\n",
       "      <td>18.445867</td>\n",
       "      <td>6.058052</td>\n",
       "      <td>2.552415</td>\n",
       "      <td>1.257966</td>\n",
       "      <td>2.165099</td>\n",
       "      <td>10.513762</td>\n",
       "      <td>10.116818</td>\n",
       "    </tr>\n",
       "    <tr>\n",
       "      <th>14</th>\n",
       "      <td>gia</td>\n",
       "      <td>walking</td>\n",
       "      <td>[[-10.9, -0.4, -0.8], [-10.9, -0.4, -0.8], [-9...</td>\n",
       "      <td>[10.936635680134911, 10.936635680134911, 9.057...</td>\n",
       "      <td>18.995526</td>\n",
       "      <td>6.794851</td>\n",
       "      <td>2.520394</td>\n",
       "      <td>1.903504</td>\n",
       "      <td>4.158880</td>\n",
       "      <td>10.354907</td>\n",
       "      <td>10.188719</td>\n",
       "    </tr>\n",
       "    <tr>\n",
       "      <th>15</th>\n",
       "      <td>gia</td>\n",
       "      <td>walking</td>\n",
       "      <td>[[-10.6, 1.1, -2.0], [-10.6, 1.1, -2.0], [-10....</td>\n",
       "      <td>[10.842970072816765, 10.842970072816765, 10.80...</td>\n",
       "      <td>17.618740</td>\n",
       "      <td>6.896376</td>\n",
       "      <td>2.259788</td>\n",
       "      <td>1.056631</td>\n",
       "      <td>1.162736</td>\n",
       "      <td>10.289017</td>\n",
       "      <td>9.899495</td>\n",
       "    </tr>\n",
       "    <tr>\n",
       "      <th>16</th>\n",
       "      <td>gia</td>\n",
       "      <td>walking</td>\n",
       "      <td>[[-10.6, 2.6, -1.1], [-10.6, 2.6, -1.1], [-10....</td>\n",
       "      <td>[10.969503179269333, 10.969503179269333, 10.96...</td>\n",
       "      <td>20.909567</td>\n",
       "      <td>7.128815</td>\n",
       "      <td>2.582846</td>\n",
       "      <td>1.864971</td>\n",
       "      <td>4.374896</td>\n",
       "      <td>10.303486</td>\n",
       "      <td>9.708759</td>\n",
       "    </tr>\n",
       "    <tr>\n",
       "      <th>17</th>\n",
       "      <td>gia</td>\n",
       "      <td>walking</td>\n",
       "      <td>[[-9.7, -1.3, -1.9], [-10.1, -1.0, -1.7], [-10...</td>\n",
       "      <td>[9.9694533450937, 10.290772565750348, 10.29077...</td>\n",
       "      <td>21.207074</td>\n",
       "      <td>6.676077</td>\n",
       "      <td>3.174886</td>\n",
       "      <td>1.872833</td>\n",
       "      <td>3.519547</td>\n",
       "      <td>10.474254</td>\n",
       "      <td>9.802551</td>\n",
       "    </tr>\n",
       "    <tr>\n",
       "      <th>18</th>\n",
       "      <td>gia</td>\n",
       "      <td>walking</td>\n",
       "      <td>[[-9.6, -0.7, -1.5], [-9.6, -0.7, -1.5], [-9.6...</td>\n",
       "      <td>[9.741663102366042, 9.741663102366042, 9.74166...</td>\n",
       "      <td>16.468455</td>\n",
       "      <td>6.067125</td>\n",
       "      <td>2.084430</td>\n",
       "      <td>0.630336</td>\n",
       "      <td>0.891043</td>\n",
       "      <td>10.157510</td>\n",
       "      <td>9.869650</td>\n",
       "    </tr>\n",
       "    <tr>\n",
       "      <th>19</th>\n",
       "      <td>gia</td>\n",
       "      <td>walking</td>\n",
       "      <td>[[-9.4, -0.1, -1.7], [-9.4, -0.1, -1.7], [-9.4...</td>\n",
       "      <td>[9.553009996854396, 9.553009996854396, 9.55300...</td>\n",
       "      <td>19.387109</td>\n",
       "      <td>7.256032</td>\n",
       "      <td>2.818176</td>\n",
       "      <td>1.321581</td>\n",
       "      <td>1.404323</td>\n",
       "      <td>10.461895</td>\n",
       "      <td>9.597395</td>\n",
       "    </tr>\n",
       "    <tr>\n",
       "      <th>20</th>\n",
       "      <td>gia</td>\n",
       "      <td>walking</td>\n",
       "      <td>[[-7.5, 3.7, -1.2], [-7.5, 3.7, -1.2], [-7.5, ...</td>\n",
       "      <td>[8.44866853415377, 8.44866853415377, 8.4486685...</td>\n",
       "      <td>16.076069</td>\n",
       "      <td>7.237403</td>\n",
       "      <td>2.352573</td>\n",
       "      <td>1.154529</td>\n",
       "      <td>0.360158</td>\n",
       "      <td>10.164987</td>\n",
       "      <td>9.817332</td>\n",
       "    </tr>\n",
       "    <tr>\n",
       "      <th>21</th>\n",
       "      <td>gia</td>\n",
       "      <td>walking</td>\n",
       "      <td>[[-9.2, -1.4, -1.6], [-9.2, -1.4, -1.6], [-9.2...</td>\n",
       "      <td>[9.442457307290299, 9.442457307290299, 9.44245...</td>\n",
       "      <td>18.294535</td>\n",
       "      <td>6.623443</td>\n",
       "      <td>2.268489</td>\n",
       "      <td>1.445517</td>\n",
       "      <td>2.929473</td>\n",
       "      <td>10.314847</td>\n",
       "      <td>10.224480</td>\n",
       "    </tr>\n",
       "    <tr>\n",
       "      <th>22</th>\n",
       "      <td>gia</td>\n",
       "      <td>walking</td>\n",
       "      <td>[[-5.5, -2.0, -4.4], [-5.5, -2.0, -4.4], [-5.5...</td>\n",
       "      <td>[7.321885003194191, 7.321885003194191, 7.32188...</td>\n",
       "      <td>21.180415</td>\n",
       "      <td>5.924525</td>\n",
       "      <td>2.858302</td>\n",
       "      <td>1.962778</td>\n",
       "      <td>5.085172</td>\n",
       "      <td>10.190130</td>\n",
       "      <td>9.675743</td>\n",
       "    </tr>\n",
       "    <tr>\n",
       "      <th>23</th>\n",
       "      <td>gia</td>\n",
       "      <td>walking</td>\n",
       "      <td>[[-13.9, -4.0, -4.6], [-13.9, -4.0, -4.6], [-1...</td>\n",
       "      <td>[15.177944524868971, 15.177944524868971, 15.17...</td>\n",
       "      <td>15.177945</td>\n",
       "      <td>6.140033</td>\n",
       "      <td>2.128947</td>\n",
       "      <td>0.426823</td>\n",
       "      <td>-0.393471</td>\n",
       "      <td>10.262629</td>\n",
       "      <td>9.976973</td>\n",
       "    </tr>\n",
       "    <tr>\n",
       "      <th>24</th>\n",
       "      <td>gia</td>\n",
       "      <td>walking</td>\n",
       "      <td>[[-8.4, 2.2, -1.1], [-8.4, 2.2, -1.1], [-8.4, ...</td>\n",
       "      <td>[8.752713864853575, 8.752713864853575, 8.75271...</td>\n",
       "      <td>18.535372</td>\n",
       "      <td>7.638717</td>\n",
       "      <td>2.319299</td>\n",
       "      <td>1.893374</td>\n",
       "      <td>3.968488</td>\n",
       "      <td>10.223930</td>\n",
       "      <td>9.993498</td>\n",
       "    </tr>\n",
       "    <tr>\n",
       "      <th>25</th>\n",
       "      <td>gia</td>\n",
       "      <td>walking</td>\n",
       "      <td>[[-12.3, 0.1, -1.4], [-13.7, 3.2, -4.3], [-13....</td>\n",
       "      <td>[12.379822292747178, 14.711220207719004, 14.71...</td>\n",
       "      <td>18.023873</td>\n",
       "      <td>6.780118</td>\n",
       "      <td>2.432641</td>\n",
       "      <td>0.843586</td>\n",
       "      <td>0.651184</td>\n",
       "      <td>10.477494</td>\n",
       "      <td>10.008496</td>\n",
       "    </tr>\n",
       "    <tr>\n",
       "      <th>26</th>\n",
       "      <td>gia</td>\n",
       "      <td>walking</td>\n",
       "      <td>[[-8.5, -4.8, -1.1], [-7.4, -5.2, -2.1], [-7.4...</td>\n",
       "      <td>[9.82344135219425, 9.284934033152847, 9.284934...</td>\n",
       "      <td>15.405518</td>\n",
       "      <td>6.166036</td>\n",
       "      <td>2.188648</td>\n",
       "      <td>0.541291</td>\n",
       "      <td>-0.250380</td>\n",
       "      <td>10.055380</td>\n",
       "      <td>9.886354</td>\n",
       "    </tr>\n",
       "    <tr>\n",
       "      <th>27</th>\n",
       "      <td>gia</td>\n",
       "      <td>walking</td>\n",
       "      <td>[[-10.4, 3.7, -5.2], [-10.4, 3.7, -5.2], [-20....</td>\n",
       "      <td>[12.202049008260868, 12.202049008260868, 23.16...</td>\n",
       "      <td>23.161606</td>\n",
       "      <td>7.000714</td>\n",
       "      <td>3.172049</td>\n",
       "      <td>2.365876</td>\n",
       "      <td>5.941309</td>\n",
       "      <td>10.585131</td>\n",
       "      <td>9.714937</td>\n",
       "    </tr>\n",
       "    <tr>\n",
       "      <th>28</th>\n",
       "      <td>gia</td>\n",
       "      <td>walking</td>\n",
       "      <td>[[-9.6, 0.0, -1.4], [-9.6, 0.0, -1.4], [-8.4, ...</td>\n",
       "      <td>[9.701546268507922, 9.701546268507922, 8.55862...</td>\n",
       "      <td>17.674275</td>\n",
       "      <td>7.579578</td>\n",
       "      <td>2.157734</td>\n",
       "      <td>1.481919</td>\n",
       "      <td>2.508743</td>\n",
       "      <td>10.129229</td>\n",
       "      <td>9.646761</td>\n",
       "    </tr>\n",
       "    <tr>\n",
       "      <th>29</th>\n",
       "      <td>gia</td>\n",
       "      <td>walking</td>\n",
       "      <td>[[-9.6, 1.0, -1.7], [-9.6, 1.0, -1.7], [-9.6, ...</td>\n",
       "      <td>[9.800510190801292, 9.800510190801292, 9.80051...</td>\n",
       "      <td>19.994499</td>\n",
       "      <td>7.145628</td>\n",
       "      <td>2.471909</td>\n",
       "      <td>1.681595</td>\n",
       "      <td>3.763025</td>\n",
       "      <td>10.274554</td>\n",
       "      <td>10.094058</td>\n",
       "    </tr>\n",
       "    <tr>\n",
       "      <th>...</th>\n",
       "      <td>...</td>\n",
       "      <td>...</td>\n",
       "      <td>...</td>\n",
       "      <td>...</td>\n",
       "      <td>...</td>\n",
       "      <td>...</td>\n",
       "      <td>...</td>\n",
       "      <td>...</td>\n",
       "      <td>...</td>\n",
       "      <td>...</td>\n",
       "      <td>...</td>\n",
       "    </tr>\n",
       "    <tr>\n",
       "      <th>469</th>\n",
       "      <td>lili</td>\n",
       "      <td>standing</td>\n",
       "      <td>[[-9.9, 0.2, -0.5], [-9.9, 0.2, -0.5], [-9.9, ...</td>\n",
       "      <td>[9.91463564635635, 9.91463564635635, 9.9146356...</td>\n",
       "      <td>10.114346</td>\n",
       "      <td>9.708759</td>\n",
       "      <td>0.072019</td>\n",
       "      <td>0.541671</td>\n",
       "      <td>1.518329</td>\n",
       "      <td>9.880687</td>\n",
       "      <td>9.909087</td>\n",
       "    </tr>\n",
       "    <tr>\n",
       "      <th>470</th>\n",
       "      <td>lili</td>\n",
       "      <td>standing</td>\n",
       "      <td>[[-9.7, 0.1, -0.4], [-10.0, 0.0, -0.4], [-10.0...</td>\n",
       "      <td>[9.708758932015975, 10.007996802557443, 10.007...</td>\n",
       "      <td>10.143964</td>\n",
       "      <td>9.627565</td>\n",
       "      <td>0.088831</td>\n",
       "      <td>-0.133618</td>\n",
       "      <td>1.172970</td>\n",
       "      <td>9.869116</td>\n",
       "      <td>9.853933</td>\n",
       "    </tr>\n",
       "    <tr>\n",
       "      <th>471</th>\n",
       "      <td>lili</td>\n",
       "      <td>standing</td>\n",
       "      <td>[[-10.0, -0.8, -0.5], [-10.0, -0.8, -0.5], [-1...</td>\n",
       "      <td>[10.044401425669925, 10.044401425669925, 10.04...</td>\n",
       "      <td>10.658799</td>\n",
       "      <td>9.468896</td>\n",
       "      <td>0.207148</td>\n",
       "      <td>1.314178</td>\n",
       "      <td>3.445595</td>\n",
       "      <td>9.871361</td>\n",
       "      <td>9.833107</td>\n",
       "    </tr>\n",
       "    <tr>\n",
       "      <th>472</th>\n",
       "      <td>lili</td>\n",
       "      <td>standing</td>\n",
       "      <td>[[-9.5, 0.8, -1.3], [-9.5, 0.8, -1.3], [-9.9, ...</td>\n",
       "      <td>[9.621850133939938, 9.621850133939938, 10.0164...</td>\n",
       "      <td>10.538501</td>\n",
       "      <td>9.568176</td>\n",
       "      <td>0.189482</td>\n",
       "      <td>1.136531</td>\n",
       "      <td>2.438446</td>\n",
       "      <td>9.895016</td>\n",
       "      <td>9.881295</td>\n",
       "    </tr>\n",
       "    <tr>\n",
       "      <th>473</th>\n",
       "      <td>lili</td>\n",
       "      <td>standing</td>\n",
       "      <td>[[-9.8, -0.1, -0.5], [-9.8, -0.1, -0.5], [-9.9...</td>\n",
       "      <td>[9.813256340277677, 9.813256340277677, 9.90656...</td>\n",
       "      <td>10.161693</td>\n",
       "      <td>9.679359</td>\n",
       "      <td>0.096551</td>\n",
       "      <td>0.330199</td>\n",
       "      <td>-0.076016</td>\n",
       "      <td>9.878598</td>\n",
       "      <td>9.863569</td>\n",
       "    </tr>\n",
       "    <tr>\n",
       "      <th>474</th>\n",
       "      <td>lili</td>\n",
       "      <td>standing</td>\n",
       "      <td>[[-9.8, 0.2, -1.2], [-9.8, 0.3, -1.2], [-9.8, ...</td>\n",
       "      <td>[9.875221516502808, 9.87775278087076, 9.877752...</td>\n",
       "      <td>10.003000</td>\n",
       "      <td>9.700515</td>\n",
       "      <td>0.071393</td>\n",
       "      <td>-0.253621</td>\n",
       "      <td>-0.157693</td>\n",
       "      <td>9.882166</td>\n",
       "      <td>9.887871</td>\n",
       "    </tr>\n",
       "    <tr>\n",
       "      <th>475</th>\n",
       "      <td>lili</td>\n",
       "      <td>standing</td>\n",
       "      <td>[[-9.8, 0.4, -1.3], [-9.8, 0.4, -1.3], [-9.8, ...</td>\n",
       "      <td>[9.893937537704593, 9.893937537704593, 9.89393...</td>\n",
       "      <td>10.049876</td>\n",
       "      <td>9.733447</td>\n",
       "      <td>0.066471</td>\n",
       "      <td>-0.074981</td>\n",
       "      <td>-0.076703</td>\n",
       "      <td>9.883210</td>\n",
       "      <td>9.862048</td>\n",
       "    </tr>\n",
       "    <tr>\n",
       "      <th>476</th>\n",
       "      <td>lili</td>\n",
       "      <td>standing</td>\n",
       "      <td>[[-9.9, 0.1, -1.0], [-9.9, 0.1, -1.0], [-9.8, ...</td>\n",
       "      <td>[9.9508793581271, 9.9508793581271, 9.861541461...</td>\n",
       "      <td>9.974467</td>\n",
       "      <td>9.764220</td>\n",
       "      <td>0.054550</td>\n",
       "      <td>0.095245</td>\n",
       "      <td>-0.882490</td>\n",
       "      <td>9.889151</td>\n",
       "      <td>9.863569</td>\n",
       "    </tr>\n",
       "    <tr>\n",
       "      <th>477</th>\n",
       "      <td>lili</td>\n",
       "      <td>standing</td>\n",
       "      <td>[[-9.7, 0.1, -1.5], [-9.7, 0.1, -1.5], [-9.7, ...</td>\n",
       "      <td>[9.81580358401695, 9.81580358401695, 9.8158035...</td>\n",
       "      <td>10.062306</td>\n",
       "      <td>9.604686</td>\n",
       "      <td>0.086548</td>\n",
       "      <td>-0.554170</td>\n",
       "      <td>1.408012</td>\n",
       "      <td>9.888829</td>\n",
       "      <td>9.875222</td>\n",
       "    </tr>\n",
       "    <tr>\n",
       "      <th>478</th>\n",
       "      <td>lili</td>\n",
       "      <td>standing</td>\n",
       "      <td>[[-9.7, 0.2, -1.1], [-9.7, 0.2, -1.1], [-9.7, ...</td>\n",
       "      <td>[9.764220398987314, 9.764220398987314, 9.76422...</td>\n",
       "      <td>10.161693</td>\n",
       "      <td>9.454100</td>\n",
       "      <td>0.131113</td>\n",
       "      <td>-0.324241</td>\n",
       "      <td>1.035218</td>\n",
       "      <td>9.886186</td>\n",
       "      <td>9.887871</td>\n",
       "    </tr>\n",
       "    <tr>\n",
       "      <th>479</th>\n",
       "      <td>lili</td>\n",
       "      <td>standing</td>\n",
       "      <td>[[-9.9, -0.2, -0.9], [-9.9, -0.2, -0.9], [-9.8...</td>\n",
       "      <td>[9.942836617384398, 9.942836617384398, 9.86204...</td>\n",
       "      <td>10.033942</td>\n",
       "      <td>9.689685</td>\n",
       "      <td>0.073184</td>\n",
       "      <td>-0.311883</td>\n",
       "      <td>0.215709</td>\n",
       "      <td>9.883308</td>\n",
       "      <td>9.873196</td>\n",
       "    </tr>\n",
       "    <tr>\n",
       "      <th>480</th>\n",
       "      <td>lili</td>\n",
       "      <td>standing</td>\n",
       "      <td>[[-9.9, 0.1, -0.6], [-9.9, 0.1, -0.8], [-9.9, ...</td>\n",
       "      <td>[9.918669265581952, 9.932774033471214, 9.93277...</td>\n",
       "      <td>10.009995</td>\n",
       "      <td>9.810199</td>\n",
       "      <td>0.050304</td>\n",
       "      <td>0.133841</td>\n",
       "      <td>-1.312953</td>\n",
       "      <td>9.878278</td>\n",
       "      <td>9.906563</td>\n",
       "    </tr>\n",
       "    <tr>\n",
       "      <th>481</th>\n",
       "      <td>lili</td>\n",
       "      <td>standing</td>\n",
       "      <td>[[-9.9, 0.2, -0.5], [-9.9, 0.2, -0.5], [-9.9, ...</td>\n",
       "      <td>[9.91463564635635, 9.91463564635635, 9.9146356...</td>\n",
       "      <td>10.009995</td>\n",
       "      <td>9.802551</td>\n",
       "      <td>0.048607</td>\n",
       "      <td>-0.253344</td>\n",
       "      <td>0.648198</td>\n",
       "      <td>9.898810</td>\n",
       "      <td>9.906563</td>\n",
       "    </tr>\n",
       "    <tr>\n",
       "      <th>482</th>\n",
       "      <td>lili</td>\n",
       "      <td>standing</td>\n",
       "      <td>[[-9.9, 0.1, -0.3], [-9.9, 0.1, -0.3], [-9.9, ...</td>\n",
       "      <td>[9.905049217444606, 9.905049217444606, 9.90504...</td>\n",
       "      <td>10.114346</td>\n",
       "      <td>9.723168</td>\n",
       "      <td>0.075334</td>\n",
       "      <td>0.545781</td>\n",
       "      <td>0.870650</td>\n",
       "      <td>9.883719</td>\n",
       "      <td>9.910096</td>\n",
       "    </tr>\n",
       "    <tr>\n",
       "      <th>483</th>\n",
       "      <td>lili</td>\n",
       "      <td>standing</td>\n",
       "      <td>[[-9.9, 0.1, -0.6], [-9.8, 0.2, -0.6], [-9.8, ...</td>\n",
       "      <td>[9.918669265581952, 9.820386957752735, 9.82038...</td>\n",
       "      <td>10.014490</td>\n",
       "      <td>9.708759</td>\n",
       "      <td>0.056034</td>\n",
       "      <td>-0.918894</td>\n",
       "      <td>0.939525</td>\n",
       "      <td>9.885316</td>\n",
       "      <td>9.913123</td>\n",
       "    </tr>\n",
       "    <tr>\n",
       "      <th>484</th>\n",
       "      <td>lili</td>\n",
       "      <td>standing</td>\n",
       "      <td>[[-9.9, 0.1, -0.5], [-9.9, 0.1, -0.5], [-9.9, ...</td>\n",
       "      <td>[9.913122616007533, 9.913122616007533, 9.91312...</td>\n",
       "      <td>9.920181</td>\n",
       "      <td>9.808670</td>\n",
       "      <td>0.044975</td>\n",
       "      <td>-0.943022</td>\n",
       "      <td>-1.084674</td>\n",
       "      <td>9.887904</td>\n",
       "      <td>9.914636</td>\n",
       "    </tr>\n",
       "    <tr>\n",
       "      <th>485</th>\n",
       "      <td>lili</td>\n",
       "      <td>standing</td>\n",
       "      <td>[[-9.8, 0.2, -0.6], [-9.8, 0.2, -0.6], [-9.9, ...</td>\n",
       "      <td>[9.820386957752735, 9.820386957752735, 9.92018...</td>\n",
       "      <td>9.932774</td>\n",
       "      <td>9.814785</td>\n",
       "      <td>0.045634</td>\n",
       "      <td>0.875672</td>\n",
       "      <td>-1.188969</td>\n",
       "      <td>9.852981</td>\n",
       "      <td>9.827004</td>\n",
       "    </tr>\n",
       "    <tr>\n",
       "      <th>486</th>\n",
       "      <td>lili</td>\n",
       "      <td>standing</td>\n",
       "      <td>[[-9.8, 0.2, -0.6], [-9.8, 0.2, -0.6], [-9.8, ...</td>\n",
       "      <td>[9.820386957752735, 9.820386957752735, 9.82038...</td>\n",
       "      <td>11.364418</td>\n",
       "      <td>9.202717</td>\n",
       "      <td>0.294018</td>\n",
       "      <td>2.176867</td>\n",
       "      <td>11.193864</td>\n",
       "      <td>9.898022</td>\n",
       "      <td>9.906563</td>\n",
       "    </tr>\n",
       "    <tr>\n",
       "      <th>487</th>\n",
       "      <td>lili</td>\n",
       "      <td>standing</td>\n",
       "      <td>[[-10.0, 0.0, 0.4], [-10.0, 0.0, 0.4], [-10.0,...</td>\n",
       "      <td>[10.007996802557443, 10.007996802557443, 10.00...</td>\n",
       "      <td>10.100000</td>\n",
       "      <td>9.700515</td>\n",
       "      <td>0.087088</td>\n",
       "      <td>0.128593</td>\n",
       "      <td>0.155251</td>\n",
       "      <td>9.865543</td>\n",
       "      <td>9.900505</td>\n",
       "    </tr>\n",
       "    <tr>\n",
       "      <th>488</th>\n",
       "      <td>lili</td>\n",
       "      <td>standing</td>\n",
       "      <td>[[-9.7, 0.1, -0.4], [-9.8, 0.1, -0.4], [-9.8, ...</td>\n",
       "      <td>[9.708758932015975, 9.80866963456309, 9.808669...</td>\n",
       "      <td>10.007997</td>\n",
       "      <td>9.702577</td>\n",
       "      <td>0.088589</td>\n",
       "      <td>-0.254884</td>\n",
       "      <td>-0.713755</td>\n",
       "      <td>9.875191</td>\n",
       "      <td>9.905049</td>\n",
       "    </tr>\n",
       "    <tr>\n",
       "      <th>489</th>\n",
       "      <td>lili</td>\n",
       "      <td>standing</td>\n",
       "      <td>[[-9.9, -0.1, 0.0], [-9.9, -0.1, 0.0], [-9.9, ...</td>\n",
       "      <td>[9.90050503762308, 9.90050503762308, 9.9005050...</td>\n",
       "      <td>10.106434</td>\n",
       "      <td>9.527854</td>\n",
       "      <td>0.106979</td>\n",
       "      <td>-0.585596</td>\n",
       "      <td>0.927110</td>\n",
       "      <td>9.883109</td>\n",
       "      <td>9.900505</td>\n",
       "    </tr>\n",
       "    <tr>\n",
       "      <th>490</th>\n",
       "      <td>lili</td>\n",
       "      <td>standing</td>\n",
       "      <td>[[-10.0, 0.2, 0.0], [-10.0, 0.2, 0.0], [-10.1,...</td>\n",
       "      <td>[10.00199980003999, 10.00199980003999, 10.1024...</td>\n",
       "      <td>10.102475</td>\n",
       "      <td>9.700000</td>\n",
       "      <td>0.097094</td>\n",
       "      <td>0.235846</td>\n",
       "      <td>-0.661862</td>\n",
       "      <td>9.887080</td>\n",
       "      <td>9.900505</td>\n",
       "    </tr>\n",
       "    <tr>\n",
       "      <th>491</th>\n",
       "      <td>lili</td>\n",
       "      <td>standing</td>\n",
       "      <td>[[-9.8, 0.0, 0.0], [-9.8, 0.0, 0.0], [-9.8, 0....</td>\n",
       "      <td>[9.8, 9.8, 9.8, 9.8, 10.000499987500625, 10.00...</td>\n",
       "      <td>10.002500</td>\n",
       "      <td>9.700515</td>\n",
       "      <td>0.074368</td>\n",
       "      <td>0.007771</td>\n",
       "      <td>-0.740813</td>\n",
       "      <td>9.889264</td>\n",
       "      <td>9.901010</td>\n",
       "    </tr>\n",
       "    <tr>\n",
       "      <th>492</th>\n",
       "      <td>lili</td>\n",
       "      <td>standing</td>\n",
       "      <td>[[-9.9, 0.0, -0.3], [-9.9, 0.0, -0.3], [-9.9, ...</td>\n",
       "      <td>[9.904544411531507, 9.904544411531507, 9.90454...</td>\n",
       "      <td>10.002000</td>\n",
       "      <td>9.802551</td>\n",
       "      <td>0.038873</td>\n",
       "      <td>-1.153050</td>\n",
       "      <td>1.988874</td>\n",
       "      <td>9.891443</td>\n",
       "      <td>9.904544</td>\n",
       "    </tr>\n",
       "    <tr>\n",
       "      <th>493</th>\n",
       "      <td>lili</td>\n",
       "      <td>standing</td>\n",
       "      <td>[[-9.9, 0.2, -0.2], [-9.9, 0.2, -0.2], [-9.9, ...</td>\n",
       "      <td>[9.904039579888604, 9.904039579888604, 9.90403...</td>\n",
       "      <td>10.102475</td>\n",
       "      <td>9.712878</td>\n",
       "      <td>0.071573</td>\n",
       "      <td>0.514386</td>\n",
       "      <td>1.472359</td>\n",
       "      <td>9.888822</td>\n",
       "      <td>9.902525</td>\n",
       "    </tr>\n",
       "    <tr>\n",
       "      <th>494</th>\n",
       "      <td>lili</td>\n",
       "      <td>standing</td>\n",
       "      <td>[[-10.1, -0.1, -0.1], [-10.1, -0.1, -0.1], [-9...</td>\n",
       "      <td>[10.10099005048515, 10.10099005048515, 9.90201...</td>\n",
       "      <td>10.100990</td>\n",
       "      <td>9.804591</td>\n",
       "      <td>0.048112</td>\n",
       "      <td>0.020679</td>\n",
       "      <td>2.646391</td>\n",
       "      <td>9.885065</td>\n",
       "      <td>9.908078</td>\n",
       "    </tr>\n",
       "    <tr>\n",
       "      <th>495</th>\n",
       "      <td>lili</td>\n",
       "      <td>standing</td>\n",
       "      <td>[[-9.8, 0.0, -0.5], [-9.8, 0.0, -0.5], [-9.8, ...</td>\n",
       "      <td>[9.812746812182612, 9.812746812182612, 9.80866...</td>\n",
       "      <td>9.920181</td>\n",
       "      <td>9.808670</td>\n",
       "      <td>0.040591</td>\n",
       "      <td>-1.331436</td>\n",
       "      <td>-0.171751</td>\n",
       "      <td>9.889417</td>\n",
       "      <td>9.908582</td>\n",
       "    </tr>\n",
       "    <tr>\n",
       "      <th>496</th>\n",
       "      <td>lili</td>\n",
       "      <td>standing</td>\n",
       "      <td>[[-9.9, 0.2, -0.5], [-9.9, 0.2, -0.5], [-9.9, ...</td>\n",
       "      <td>[9.91463564635635, 9.91463564635635, 9.9146356...</td>\n",
       "      <td>10.014490</td>\n",
       "      <td>9.808670</td>\n",
       "      <td>0.040747</td>\n",
       "      <td>-0.909849</td>\n",
       "      <td>1.758011</td>\n",
       "      <td>9.899876</td>\n",
       "      <td>9.913123</td>\n",
       "    </tr>\n",
       "    <tr>\n",
       "      <th>497</th>\n",
       "      <td>lili</td>\n",
       "      <td>standing</td>\n",
       "      <td>[[-9.9, 0.1, -0.4], [-9.9, 0.1, -0.4], [-9.9, ...</td>\n",
       "      <td>[9.90858213873206, 9.90858213873206, 9.9126182...</td>\n",
       "      <td>10.161693</td>\n",
       "      <td>9.725739</td>\n",
       "      <td>0.083499</td>\n",
       "      <td>0.794853</td>\n",
       "      <td>1.098883</td>\n",
       "      <td>9.892303</td>\n",
       "      <td>9.913123</td>\n",
       "    </tr>\n",
       "    <tr>\n",
       "      <th>498</th>\n",
       "      <td>lili</td>\n",
       "      <td>standing</td>\n",
       "      <td>[[-9.8, -0.4, -0.3], [-9.8, -0.4, -0.3], [-9.8...</td>\n",
       "      <td>[9.812746812182612, 9.812746812182612, 9.81274...</td>\n",
       "      <td>10.009995</td>\n",
       "      <td>9.800510</td>\n",
       "      <td>0.057687</td>\n",
       "      <td>-0.077931</td>\n",
       "      <td>-0.798836</td>\n",
       "      <td>9.892685</td>\n",
       "      <td>9.906563</td>\n",
       "    </tr>\n",
       "  </tbody>\n",
       "</table>\n",
       "<p>499 rows × 11 columns</p>\n",
       "</div>"
      ],
      "text/plain": [
       "        0         1                                                  2  \\\n",
       "0     gia   walking  [[-9.8, 0.3, -1.5], [-9.8, 0.3, -1.5], [-9.8, ...   \n",
       "1     gia   walking  [[-10.9, 0.2, -1.2], [-9.9, -0.7, -2.1], [-9.9...   \n",
       "2     gia   walking  [[-8.5, -4.4, -3.5], [-8.5, -4.4, -3.5], [-8.5...   \n",
       "3     gia   walking  [[-7.2, 0.0, -1.2], [-7.2, 0.0, -1.2], [-7.2, ...   \n",
       "4     gia   walking  [[-7.3, 3.1, -2.0], [-6.3, 4.8, -2.4], [-6.3, ...   \n",
       "5     gia   walking  [[-11.1, 0.9, -1.5], [-9.6, 0.2, -1.3], [-9.6,...   \n",
       "6     gia   walking  [[-6.9, 0.2, -2.8], [-6.9, 0.2, -2.8], [-6.9, ...   \n",
       "7     gia   walking  [[-8.0, -3.3, -5.7], [-8.0, -3.3, -5.7], [-8.0...   \n",
       "8     gia   walking  [[-14.8, -2.1, -1.9], [-14.8, -2.1, -1.9], [-1...   \n",
       "9     gia   walking  [[-8.3, -0.6, -1.3], [-8.3, -0.6, -1.3], [-8.3...   \n",
       "10    gia   walking  [[-8.1, -4.2, -4.6], [-8.1, -4.2, -4.6], [-8.1...   \n",
       "11    gia   walking  [[-5.3, 1.9, -3.0], [-5.3, 1.9, -3.0], [-8.3, ...   \n",
       "12    gia   walking  [[-12.0, 2.7, -4.2], [-12.0, 2.7, -4.2], [-12....   \n",
       "13    gia   walking  [[-9.4, 0.7, -3.1], [-9.4, 0.7, -3.1], [-9.4, ...   \n",
       "14    gia   walking  [[-10.9, -0.4, -0.8], [-10.9, -0.4, -0.8], [-9...   \n",
       "15    gia   walking  [[-10.6, 1.1, -2.0], [-10.6, 1.1, -2.0], [-10....   \n",
       "16    gia   walking  [[-10.6, 2.6, -1.1], [-10.6, 2.6, -1.1], [-10....   \n",
       "17    gia   walking  [[-9.7, -1.3, -1.9], [-10.1, -1.0, -1.7], [-10...   \n",
       "18    gia   walking  [[-9.6, -0.7, -1.5], [-9.6, -0.7, -1.5], [-9.6...   \n",
       "19    gia   walking  [[-9.4, -0.1, -1.7], [-9.4, -0.1, -1.7], [-9.4...   \n",
       "20    gia   walking  [[-7.5, 3.7, -1.2], [-7.5, 3.7, -1.2], [-7.5, ...   \n",
       "21    gia   walking  [[-9.2, -1.4, -1.6], [-9.2, -1.4, -1.6], [-9.2...   \n",
       "22    gia   walking  [[-5.5, -2.0, -4.4], [-5.5, -2.0, -4.4], [-5.5...   \n",
       "23    gia   walking  [[-13.9, -4.0, -4.6], [-13.9, -4.0, -4.6], [-1...   \n",
       "24    gia   walking  [[-8.4, 2.2, -1.1], [-8.4, 2.2, -1.1], [-8.4, ...   \n",
       "25    gia   walking  [[-12.3, 0.1, -1.4], [-13.7, 3.2, -4.3], [-13....   \n",
       "26    gia   walking  [[-8.5, -4.8, -1.1], [-7.4, -5.2, -2.1], [-7.4...   \n",
       "27    gia   walking  [[-10.4, 3.7, -5.2], [-10.4, 3.7, -5.2], [-20....   \n",
       "28    gia   walking  [[-9.6, 0.0, -1.4], [-9.6, 0.0, -1.4], [-8.4, ...   \n",
       "29    gia   walking  [[-9.6, 1.0, -1.7], [-9.6, 1.0, -1.7], [-9.6, ...   \n",
       "..    ...       ...                                                ...   \n",
       "469  lili  standing  [[-9.9, 0.2, -0.5], [-9.9, 0.2, -0.5], [-9.9, ...   \n",
       "470  lili  standing  [[-9.7, 0.1, -0.4], [-10.0, 0.0, -0.4], [-10.0...   \n",
       "471  lili  standing  [[-10.0, -0.8, -0.5], [-10.0, -0.8, -0.5], [-1...   \n",
       "472  lili  standing  [[-9.5, 0.8, -1.3], [-9.5, 0.8, -1.3], [-9.9, ...   \n",
       "473  lili  standing  [[-9.8, -0.1, -0.5], [-9.8, -0.1, -0.5], [-9.9...   \n",
       "474  lili  standing  [[-9.8, 0.2, -1.2], [-9.8, 0.3, -1.2], [-9.8, ...   \n",
       "475  lili  standing  [[-9.8, 0.4, -1.3], [-9.8, 0.4, -1.3], [-9.8, ...   \n",
       "476  lili  standing  [[-9.9, 0.1, -1.0], [-9.9, 0.1, -1.0], [-9.8, ...   \n",
       "477  lili  standing  [[-9.7, 0.1, -1.5], [-9.7, 0.1, -1.5], [-9.7, ...   \n",
       "478  lili  standing  [[-9.7, 0.2, -1.1], [-9.7, 0.2, -1.1], [-9.7, ...   \n",
       "479  lili  standing  [[-9.9, -0.2, -0.9], [-9.9, -0.2, -0.9], [-9.8...   \n",
       "480  lili  standing  [[-9.9, 0.1, -0.6], [-9.9, 0.1, -0.8], [-9.9, ...   \n",
       "481  lili  standing  [[-9.9, 0.2, -0.5], [-9.9, 0.2, -0.5], [-9.9, ...   \n",
       "482  lili  standing  [[-9.9, 0.1, -0.3], [-9.9, 0.1, -0.3], [-9.9, ...   \n",
       "483  lili  standing  [[-9.9, 0.1, -0.6], [-9.8, 0.2, -0.6], [-9.8, ...   \n",
       "484  lili  standing  [[-9.9, 0.1, -0.5], [-9.9, 0.1, -0.5], [-9.9, ...   \n",
       "485  lili  standing  [[-9.8, 0.2, -0.6], [-9.8, 0.2, -0.6], [-9.9, ...   \n",
       "486  lili  standing  [[-9.8, 0.2, -0.6], [-9.8, 0.2, -0.6], [-9.8, ...   \n",
       "487  lili  standing  [[-10.0, 0.0, 0.4], [-10.0, 0.0, 0.4], [-10.0,...   \n",
       "488  lili  standing  [[-9.7, 0.1, -0.4], [-9.8, 0.1, -0.4], [-9.8, ...   \n",
       "489  lili  standing  [[-9.9, -0.1, 0.0], [-9.9, -0.1, 0.0], [-9.9, ...   \n",
       "490  lili  standing  [[-10.0, 0.2, 0.0], [-10.0, 0.2, 0.0], [-10.1,...   \n",
       "491  lili  standing  [[-9.8, 0.0, 0.0], [-9.8, 0.0, 0.0], [-9.8, 0....   \n",
       "492  lili  standing  [[-9.9, 0.0, -0.3], [-9.9, 0.0, -0.3], [-9.9, ...   \n",
       "493  lili  standing  [[-9.9, 0.2, -0.2], [-9.9, 0.2, -0.2], [-9.9, ...   \n",
       "494  lili  standing  [[-10.1, -0.1, -0.1], [-10.1, -0.1, -0.1], [-9...   \n",
       "495  lili  standing  [[-9.8, 0.0, -0.5], [-9.8, 0.0, -0.5], [-9.8, ...   \n",
       "496  lili  standing  [[-9.9, 0.2, -0.5], [-9.9, 0.2, -0.5], [-9.9, ...   \n",
       "497  lili  standing  [[-9.9, 0.1, -0.4], [-9.9, 0.1, -0.4], [-9.9, ...   \n",
       "498  lili  standing  [[-9.8, -0.4, -0.3], [-9.8, -0.4, -0.3], [-9.8...   \n",
       "\n",
       "                                             magnitude        max       min  \\\n",
       "0    [9.918669265581952, 9.918669265581952, 9.91866...  14.342245  7.056203   \n",
       "1    [10.96767979109529, 10.144456614328833, 10.144...  17.623564  5.989157   \n",
       "2    [10.191172650877817, 10.191172650877817, 10.19...  19.783074  7.156815   \n",
       "3    [7.299315036357863, 7.299315036357863, 7.29931...  20.592474  6.953416   \n",
       "4    [8.179242018671413, 8.275868534480233, 8.27586...  22.588935  7.097183   \n",
       "5    [11.236992480196825, 9.689685237405806, 9.6896...  17.422399  6.024118   \n",
       "6    [7.449161026585477, 7.449161026585477, 7.44916...  21.328150  6.930368   \n",
       "7    [10.36243214694311, 10.36243214694311, 10.3624...  16.994999  7.976841   \n",
       "8    [15.068510211696445, 15.068510211696445, 15.06...  20.667608  6.041523   \n",
       "9    [8.422588675698227, 8.422588675698227, 8.42258...  17.962739  6.332456   \n",
       "10   [10.218121158021175, 10.218121158021175, 10.21...  18.157643  6.071244   \n",
       "11   [6.3796551630946325, 6.3796551630946325, 8.514...  17.346181  6.379655   \n",
       "12   [12.997307413460682, 12.997307413460682, 12.99...  16.692513  5.192302   \n",
       "13   [9.922701245124737, 9.922701245124737, 9.92270...  18.445867  6.058052   \n",
       "14   [10.936635680134911, 10.936635680134911, 9.057...  18.995526  6.794851   \n",
       "15   [10.842970072816765, 10.842970072816765, 10.80...  17.618740  6.896376   \n",
       "16   [10.969503179269333, 10.969503179269333, 10.96...  20.909567  7.128815   \n",
       "17   [9.9694533450937, 10.290772565750348, 10.29077...  21.207074  6.676077   \n",
       "18   [9.741663102366042, 9.741663102366042, 9.74166...  16.468455  6.067125   \n",
       "19   [9.553009996854396, 9.553009996854396, 9.55300...  19.387109  7.256032   \n",
       "20   [8.44866853415377, 8.44866853415377, 8.4486685...  16.076069  7.237403   \n",
       "21   [9.442457307290299, 9.442457307290299, 9.44245...  18.294535  6.623443   \n",
       "22   [7.321885003194191, 7.321885003194191, 7.32188...  21.180415  5.924525   \n",
       "23   [15.177944524868971, 15.177944524868971, 15.17...  15.177945  6.140033   \n",
       "24   [8.752713864853575, 8.752713864853575, 8.75271...  18.535372  7.638717   \n",
       "25   [12.379822292747178, 14.711220207719004, 14.71...  18.023873  6.780118   \n",
       "26   [9.82344135219425, 9.284934033152847, 9.284934...  15.405518  6.166036   \n",
       "27   [12.202049008260868, 12.202049008260868, 23.16...  23.161606  7.000714   \n",
       "28   [9.701546268507922, 9.701546268507922, 8.55862...  17.674275  7.579578   \n",
       "29   [9.800510190801292, 9.800510190801292, 9.80051...  19.994499  7.145628   \n",
       "..                                                 ...        ...       ...   \n",
       "469  [9.91463564635635, 9.91463564635635, 9.9146356...  10.114346  9.708759   \n",
       "470  [9.708758932015975, 10.007996802557443, 10.007...  10.143964  9.627565   \n",
       "471  [10.044401425669925, 10.044401425669925, 10.04...  10.658799  9.468896   \n",
       "472  [9.621850133939938, 9.621850133939938, 10.0164...  10.538501  9.568176   \n",
       "473  [9.813256340277677, 9.813256340277677, 9.90656...  10.161693  9.679359   \n",
       "474  [9.875221516502808, 9.87775278087076, 9.877752...  10.003000  9.700515   \n",
       "475  [9.893937537704593, 9.893937537704593, 9.89393...  10.049876  9.733447   \n",
       "476  [9.9508793581271, 9.9508793581271, 9.861541461...   9.974467  9.764220   \n",
       "477  [9.81580358401695, 9.81580358401695, 9.8158035...  10.062306  9.604686   \n",
       "478  [9.764220398987314, 9.764220398987314, 9.76422...  10.161693  9.454100   \n",
       "479  [9.942836617384398, 9.942836617384398, 9.86204...  10.033942  9.689685   \n",
       "480  [9.918669265581952, 9.932774033471214, 9.93277...  10.009995  9.810199   \n",
       "481  [9.91463564635635, 9.91463564635635, 9.9146356...  10.009995  9.802551   \n",
       "482  [9.905049217444606, 9.905049217444606, 9.90504...  10.114346  9.723168   \n",
       "483  [9.918669265581952, 9.820386957752735, 9.82038...  10.014490  9.708759   \n",
       "484  [9.913122616007533, 9.913122616007533, 9.91312...   9.920181  9.808670   \n",
       "485  [9.820386957752735, 9.820386957752735, 9.92018...   9.932774  9.814785   \n",
       "486  [9.820386957752735, 9.820386957752735, 9.82038...  11.364418  9.202717   \n",
       "487  [10.007996802557443, 10.007996802557443, 10.00...  10.100000  9.700515   \n",
       "488  [9.708758932015975, 9.80866963456309, 9.808669...  10.007997  9.702577   \n",
       "489  [9.90050503762308, 9.90050503762308, 9.9005050...  10.106434  9.527854   \n",
       "490  [10.00199980003999, 10.00199980003999, 10.1024...  10.102475  9.700000   \n",
       "491  [9.8, 9.8, 9.8, 9.8, 10.000499987500625, 10.00...  10.002500  9.700515   \n",
       "492  [9.904544411531507, 9.904544411531507, 9.90454...  10.002000  9.802551   \n",
       "493  [9.904039579888604, 9.904039579888604, 9.90403...  10.102475  9.712878   \n",
       "494  [10.10099005048515, 10.10099005048515, 9.90201...  10.100990  9.804591   \n",
       "495  [9.812746812182612, 9.812746812182612, 9.80866...   9.920181  9.808670   \n",
       "496  [9.91463564635635, 9.91463564635635, 9.9146356...  10.014490  9.808670   \n",
       "497  [9.90858213873206, 9.90858213873206, 9.9126182...  10.161693  9.725739   \n",
       "498  [9.812746812182612, 9.812746812182612, 9.81274...  10.009995  9.800510   \n",
       "\n",
       "          std      skew   kurtosis       mean     median  \n",
       "0    1.153909  0.765104   4.308712  10.103423   9.950879  \n",
       "1    2.539697  0.793941   0.369980  10.294204  10.104949  \n",
       "2    2.980663  1.883973   3.243430  10.325923   9.721625  \n",
       "3    3.096813  1.265939   1.202015  10.695082   9.829547  \n",
       "4    2.874046  2.321100   6.854679  10.447635   9.961426  \n",
       "5    2.544375  0.892820   0.789222  10.442894  10.285913  \n",
       "6    2.601552  2.410858   7.126931  10.348865   9.946356  \n",
       "7    2.192396  1.313694   1.204022  10.400864   9.871677  \n",
       "8    2.887888  1.176041   1.992694  10.506356  10.064790  \n",
       "9    2.623359  1.060948   0.685604  10.448195   9.877753  \n",
       "10   2.438776  0.834981   0.941568  10.552759  10.463747  \n",
       "11   2.383982  1.239506   1.331502  10.377154   9.986992  \n",
       "12   2.484702  0.981712   0.759409  10.317847   9.840732  \n",
       "13   2.552415  1.257966   2.165099  10.513762  10.116818  \n",
       "14   2.520394  1.903504   4.158880  10.354907  10.188719  \n",
       "15   2.259788  1.056631   1.162736  10.289017   9.899495  \n",
       "16   2.582846  1.864971   4.374896  10.303486   9.708759  \n",
       "17   3.174886  1.872833   3.519547  10.474254   9.802551  \n",
       "18   2.084430  0.630336   0.891043  10.157510   9.869650  \n",
       "19   2.818176  1.321581   1.404323  10.461895   9.597395  \n",
       "20   2.352573  1.154529   0.360158  10.164987   9.817332  \n",
       "21   2.268489  1.445517   2.929473  10.314847  10.224480  \n",
       "22   2.858302  1.962778   5.085172  10.190130   9.675743  \n",
       "23   2.128947  0.426823  -0.393471  10.262629   9.976973  \n",
       "24   2.319299  1.893374   3.968488  10.223930   9.993498  \n",
       "25   2.432641  0.843586   0.651184  10.477494  10.008496  \n",
       "26   2.188648  0.541291  -0.250380  10.055380   9.886354  \n",
       "27   3.172049  2.365876   5.941309  10.585131   9.714937  \n",
       "28   2.157734  1.481919   2.508743  10.129229   9.646761  \n",
       "29   2.471909  1.681595   3.763025  10.274554  10.094058  \n",
       "..        ...       ...        ...        ...        ...  \n",
       "469  0.072019  0.541671   1.518329   9.880687   9.909087  \n",
       "470  0.088831 -0.133618   1.172970   9.869116   9.853933  \n",
       "471  0.207148  1.314178   3.445595   9.871361   9.833107  \n",
       "472  0.189482  1.136531   2.438446   9.895016   9.881295  \n",
       "473  0.096551  0.330199  -0.076016   9.878598   9.863569  \n",
       "474  0.071393 -0.253621  -0.157693   9.882166   9.887871  \n",
       "475  0.066471 -0.074981  -0.076703   9.883210   9.862048  \n",
       "476  0.054550  0.095245  -0.882490   9.889151   9.863569  \n",
       "477  0.086548 -0.554170   1.408012   9.888829   9.875222  \n",
       "478  0.131113 -0.324241   1.035218   9.886186   9.887871  \n",
       "479  0.073184 -0.311883   0.215709   9.883308   9.873196  \n",
       "480  0.050304  0.133841  -1.312953   9.878278   9.906563  \n",
       "481  0.048607 -0.253344   0.648198   9.898810   9.906563  \n",
       "482  0.075334  0.545781   0.870650   9.883719   9.910096  \n",
       "483  0.056034 -0.918894   0.939525   9.885316   9.913123  \n",
       "484  0.044975 -0.943022  -1.084674   9.887904   9.914636  \n",
       "485  0.045634  0.875672  -1.188969   9.852981   9.827004  \n",
       "486  0.294018  2.176867  11.193864   9.898022   9.906563  \n",
       "487  0.087088  0.128593   0.155251   9.865543   9.900505  \n",
       "488  0.088589 -0.254884  -0.713755   9.875191   9.905049  \n",
       "489  0.106979 -0.585596   0.927110   9.883109   9.900505  \n",
       "490  0.097094  0.235846  -0.661862   9.887080   9.900505  \n",
       "491  0.074368  0.007771  -0.740813   9.889264   9.901010  \n",
       "492  0.038873 -1.153050   1.988874   9.891443   9.904544  \n",
       "493  0.071573  0.514386   1.472359   9.888822   9.902525  \n",
       "494  0.048112  0.020679   2.646391   9.885065   9.908078  \n",
       "495  0.040591 -1.331436  -0.171751   9.889417   9.908582  \n",
       "496  0.040747 -0.909849   1.758011   9.899876   9.913123  \n",
       "497  0.083499  0.794853   1.098883   9.892303   9.913123  \n",
       "498  0.057687 -0.077931  -0.798836   9.892685   9.906563  \n",
       "\n",
       "[499 rows x 11 columns]"
      ]
     },
     "execution_count": 50,
     "metadata": {},
     "output_type": "execute_result"
    }
   ],
   "source": [
    "df.head(len(df))"
   ]
  },
  {
   "cell_type": "code",
   "execution_count": 51,
   "metadata": {
    "collapsed": false,
    "nbpresent": {
     "id": "367c9c1f-9583-428a-88ec-a54bff41f630"
    }
   },
   "outputs": [],
   "source": [
    "Y = df[1]\n",
    "features = ['max', 'min', 'std', 'skew', 'mean', 'median', 'kurtosis']\n",
    "X = df[features]"
   ]
  },
  {
   "cell_type": "code",
   "execution_count": 52,
   "metadata": {
    "collapsed": false,
    "nbpresent": {
     "id": "ef61af13-534c-41ce-aead-b2584ec11d83"
    }
   },
   "outputs": [],
   "source": [
    "X_train, X_test, y_train, y_test = train_test_split(X, Y, test_size=0.30, random_state=42)"
   ]
  },
  {
   "cell_type": "code",
   "execution_count": 53,
   "metadata": {
    "collapsed": false,
    "nbpresent": {
     "id": "f7c3093c-2495-4966-bc13-2e748756443c"
    }
   },
   "outputs": [
    {
     "name": "stdout",
     "output_type": "stream",
     "text": [
      "[0.56000000000000005, 7]\n"
     ]
    },
    {
     "data": {
      "image/png": "[encoded data removed]",
      "text/plain": [
       "<matplotlib.figure.Figure at 0x14813215da0>"
      ]
     },
     "metadata": {},
     "output_type": "display_data"
    }
   ],
   "source": [
    "kResult= []\n",
    "for n in range(1, 100,1):\n",
    "    model = KNeighborsClassifier(n_neighbors = n)\n",
    "    model.fit(X_train, y_train)\n",
    "\n",
    "    expected = y_test\n",
    "    predicted = model.predict(X_test)\n",
    "    acc = accuracy_score(expected, predicted)\n",
    "\n",
    "\n",
    "    kResult.append([acc,n])\n",
    "print(max(kResult))\n",
    "#plotting peak k value preformance \n",
    "kResult = pd.DataFrame(kResult, columns=[\"n\", \"acc\"])\n",
    "plt.plot(kResult.acc, kResult.n)\n",
    "plt.title(\"Accuracy with K\")\n",
    "plt.show()"
   ]
  },
  {
   "cell_type": "code",
   "execution_count": 55,
   "metadata": {
    "collapsed": false,
    "nbpresent": {
     "id": "40b02c89-cc86-4e02-93d3-648620f1ddf6"
    },
    "scrolled": true
   },
   "outputs": [
    {
     "name": "stdout",
     "output_type": "stream",
     "text": [
      "Classification Report:\n",
      "             precision    recall  f1-score   support\n",
      "\n",
      "   climbing       0.30      0.43      0.35         7\n",
      "    running       0.94      0.89      0.92        19\n",
      "    sitting       0.36      0.63      0.46        30\n",
      "   sleeping       0.67      0.22      0.33        36\n",
      "   standing       0.46      0.44      0.45        27\n",
      "    walking       0.81      0.81      0.81        31\n",
      "\n",
      "avg / total       0.62      0.56      0.55       150\n",
      "\n",
      "Confusion Matrix:\n",
      "[[ 3  0  0  1  0  3]\n",
      " [ 1 17  0  0  0  1]\n",
      " [ 2  0 19  3  5  1]\n",
      " [ 2  0 19  8  6  1]\n",
      " [ 1  0 14  0 12  0]\n",
      " [ 1  1  1  0  3 25]]\n",
      "Confusion matrix, without normalization\n",
      "[[ 3  0  0  1  0  3]\n",
      " [ 1 17  0  0  0  1]\n",
      " [ 2  0 19  3  5  1]\n",
      " [ 2  0 19  8  6  1]\n",
      " [ 1  0 14  0 12  0]\n",
      " [ 1  1  1  0  3 25]]\n",
      "Normalized confusion matrix\n",
      "[[ 0.43  0.    0.    0.14  0.    0.43]\n",
      " [ 0.05  0.89  0.    0.    0.    0.05]\n",
      " [ 0.07  0.    0.63  0.1   0.17  0.03]\n",
      " [ 0.06  0.    0.53  0.22  0.17  0.03]\n",
      " [ 0.04  0.    0.52  0.    0.44  0.  ]\n",
      " [ 0.03  0.03  0.03  0.    0.1   0.81]]\n"
     ]
    },
    {
     "data": {
      "image/png": "[encoded data removed]",
      "text/plain": [
       "<matplotlib.figure.Figure at 0x148141aabe0>"
      ]
     },
     "metadata": {},
     "output_type": "display_data"
    },
    {
     "data": {
      "image/png": "[encoded data removed]",
      "text/plain": [
       "<matplotlib.figure.Figure at 0x148143b2b00>"
      ]
     },
     "metadata": {},
     "output_type": "display_data"
    }
   ],
   "source": [
    "model = KNeighborsClassifier(n_neighbors = 7)\n",
    "model.fit(X_train, y_train)\n",
    "\n",
    "class_names = [\"climbing\", \"running\", \"sitting\", \"sleeping\", \"standing\", \"walking\"]\n",
    "expected = y_test\n",
    "predicted = model.predict(X_test)\n",
    "print(\"Classification Report:\")\n",
    "print(metrics.classification_report(expected, predicted))\n",
    "print(\"Confusion Matrix:\")\n",
    "print(metrics.confusion_matrix(expected, predicted))\n",
    "\n",
    "def plot_confusion_matrix(cm, classes,\n",
    "                          normalize=False,\n",
    "                          title='Confusion matrix',\n",
    "                          cmap=plt.cm.Blues):\n",
    "    \"\"\"\n",
    "    This function prints and plots the confusion matrix.\n",
    "    Normalization can be applied by setting `normalize=True`.\n",
    "    \"\"\"\n",
    "    plt.imshow(cm, interpolation='nearest', cmap=cmap)\n",
    "    plt.title(title)\n",
    "    plt.colorbar()\n",
    "    tick_marks = np.arange(len(classes))\n",
    "    plt.xticks(tick_marks, classes, rotation=45)\n",
    "    plt.yticks(tick_marks, classes)\n",
    "\n",
    "    if normalize:\n",
    "        cm = cm.astype('float') / cm.sum(axis=1)[:, np.newaxis]\n",
    "        print(\"Normalized confusion matrix\")\n",
    "    else:\n",
    "        print('Confusion matrix, without normalization')\n",
    "\n",
    "    print(cm)\n",
    "\n",
    "    thresh = cm.max() / 2.\n",
    "    for i, j in itertools.product(range(cm.shape[0]), range(cm.shape[1])):\n",
    "        plt.text(j, i, cm[i, j],\n",
    "                 horizontalalignment=\"center\",\n",
    "                 color=\"white\" if cm[i, j] > thresh else \"black\")\n",
    "\n",
    "    plt.tight_layout()\n",
    "    plt.ylabel('True label')\n",
    "    plt.xlabel('Predicted label')\n",
    "\n",
    "# Compute confusion matrix\n",
    "cnf_matrix = confusion_matrix(expected, predicted)\n",
    "np.set_printoptions(precision=2)\n",
    "\n",
    "# Plot non-normalized confusion matrix\n",
    "plt.figure()\n",
    "plot_confusion_matrix(cnf_matrix, classes=class_names,\n",
    "                      title='Confusion matrix, without normalization')\n",
    "\n",
    "# Plot normalized confusion matrix\n",
    "plt.figure()\n",
    "plot_confusion_matrix(cnf_matrix, classes=class_names, normalize=True,\n",
    "                      title='Normalized confusion matrix')\n",
    "\n",
    "plt.show()"
   ]
  },
  {
   "cell_type": "code",
   "execution_count": null,
   "metadata": {
    "collapsed": true
   },
   "outputs": [],
   "source": []
  },
  {
   "cell_type": "code",
   "execution_count": null,
   "metadata": {
    "collapsed": true
   },
   "outputs": [],
   "source": []
  }
 ],
 "metadata": {
  "anaconda-cloud": {},
  "kernelspec": {
   "display_name": "Python [default]",
   "language": "python",
   "name": "python3"
  },
  "language_info": {
   "codemirror_mode": {
    "name": "ipython",
    "version": 3
   },
   "file_extension": ".py",
   "mimetype": "text/x-python",
   "name": "python",
   "nbconvert_exporter": "python",
   "pygments_lexer": "ipython3",
   "version": "3.5.2"
  },
  "nbpresent": {
   "slides": {
    "00aa9d4f-38f2-4c9b-87cd-358d179027ea": {
     "id": "00aa9d4f-38f2-4c9b-87cd-358d179027ea",
     "prev": "35fbe87f-e44d-4758-ac18-293d1f2834be",
     "regions": {
      "cbde238e-6828-4edb-9a4e-a718557b0797": {
       "attrs": {
        "height": 0.8,
        "width": 0.8,
        "x": 0.1,
        "y": 0.1
       },
       "content": {
        "cell": "e086c663-6f24-4c26-9808-20ae493fa1b7",
        "part": "whole"
       },
       "id": "cbde238e-6828-4edb-9a4e-a718557b0797"
      }
     }
    },
    "24458f1a-fcc4-4aba-89b0-6551963a830c": {
     "id": "24458f1a-fcc4-4aba-89b0-6551963a830c",
     "prev": "f5d4f634-bc9c-413d-b460-8f151499df52",
     "regions": {
      "39f56057-bb51-4d27-a4e7-a5baea59b553": {
       "attrs": {
        "height": 0.8,
        "width": 0.8,
        "x": 0.1,
        "y": 0.1
       },
       "content": {
        "cell": "bc8266c6-a6b5-4ce7-824d-fe7e018aa1dc",
        "part": "whole"
       },
       "id": "39f56057-bb51-4d27-a4e7-a5baea59b553"
      }
     }
    },
    "28e19f2d-2edf-4510-a3cf-0ca6fad92995": {
     "id": "28e19f2d-2edf-4510-a3cf-0ca6fad92995",
     "prev": "5b7e4850-ecc6-46c5-9d39-c98c62fa5bad",
     "regions": {
      "5af28db4-3e32-451c-b3ce-9b0eaada5fc7": {
       "attrs": {
        "height": 0.8,
        "width": 0.8,
        "x": 0.1,
        "y": 0.1
       },
       "content": {
        "cell": "ef61af13-534c-41ce-aead-b2584ec11d83",
        "part": "whole"
       },
       "id": "5af28db4-3e32-451c-b3ce-9b0eaada5fc7"
      }
     }
    },
    "2f2f5ac8-b261-4390-8871-7b598f7c03e9": {
     "id": "2f2f5ac8-b261-4390-8871-7b598f7c03e9",
     "prev": "dc43aabf-059c-4c29-a45b-dc2cb7ab51ee",
     "regions": {
      "803ed76b-1515-4467-bcc2-c70e1e6cf38d": {
       "attrs": {
        "height": 0.8,
        "width": 0.8,
        "x": 0.1,
        "y": 0.1
       },
       "content": {
        "cell": "81495f28-dcd2-4c3d-8bcb-8d46dc672db1",
        "part": "whole"
       },
       "id": "803ed76b-1515-4467-bcc2-c70e1e6cf38d"
      }
     }
    },
    "35fbe87f-e44d-4758-ac18-293d1f2834be": {
     "id": "35fbe87f-e44d-4758-ac18-293d1f2834be",
     "prev": "a971f19a-b09c-41e8-914e-7df63fa4e809",
     "regions": {
      "9298ea76-295a-4354-8b87-7f695481b349": {
       "attrs": {
        "height": 0.8,
        "width": 0.8,
        "x": 0.1,
        "y": 0.1
       },
       "content": {
        "cell": "7eff92fa-7b42-4fd1-8021-bcf5a8beaa39",
        "part": "whole"
       },
       "id": "9298ea76-295a-4354-8b87-7f695481b349"
      }
     }
    },
    "39d27a99-c386-4d1d-8bcd-7004f9c723f6": {
     "id": "39d27a99-c386-4d1d-8bcd-7004f9c723f6",
     "prev": "710686fb-d2dd-44e2-9bcd-3603187e76fa",
     "regions": {
      "b93c4edb-9ea9-44fb-8bf3-d76f8ed60917": {
       "attrs": {
        "height": 0.8,
        "width": 0.8,
        "x": 0.1,
        "y": 0.1
       },
       "content": {
        "cell": "46327b6e-3158-4b6a-b918-ac7c070cf448",
        "part": "whole"
       },
       "id": "b93c4edb-9ea9-44fb-8bf3-d76f8ed60917"
      }
     }
    },
    "40e00ff8-dca5-4fa9-87c4-5533321cdf50": {
     "id": "40e00ff8-dca5-4fa9-87c4-5533321cdf50",
     "prev": "5d3fb42a-d020-4698-93c1-949787196fcf",
     "regions": {
      "e65767e5-e9f0-4d45-8cfb-9756191e7888": {
       "attrs": {
        "height": 0.8,
        "width": 0.8,
        "x": 0.1,
        "y": 0.1
       },
       "content": {
        "cell": "40b02c89-cc86-4e02-93d3-648620f1ddf6",
        "part": "whole"
       },
       "id": "e65767e5-e9f0-4d45-8cfb-9756191e7888"
      }
     }
    },
    "4d6526d7-84a2-412f-8de3-d428c2603d5a": {
     "id": "4d6526d7-84a2-412f-8de3-d428c2603d5a",
     "prev": "af7ac804-e995-44bd-9555-44030de8cbc9",
     "regions": {
      "aca280c4-afb0-4728-87fc-5b278d4fca95": {
       "attrs": {
        "height": 0.8,
        "width": 0.8,
        "x": 0.1,
        "y": 0.1
       },
       "content": {
        "cell": "de2d4821-414a-4b4d-aa44-490fc69c1332",
        "part": "whole"
       },
       "id": "aca280c4-afb0-4728-87fc-5b278d4fca95"
      }
     }
    },
    "5b7e4850-ecc6-46c5-9d39-c98c62fa5bad": {
     "id": "5b7e4850-ecc6-46c5-9d39-c98c62fa5bad",
     "prev": "00aa9d4f-38f2-4c9b-87cd-358d179027ea",
     "regions": {
      "3ade3b54-b949-419b-8eaf-676cd8e6ff10": {
       "attrs": {
        "height": 0.8,
        "width": 0.8,
        "x": 0.1,
        "y": 0.1
       },
       "content": {
        "cell": "367c9c1f-9583-428a-88ec-a54bff41f630",
        "part": "whole"
       },
       "id": "3ade3b54-b949-419b-8eaf-676cd8e6ff10"
      }
     }
    },
    "5d3fb42a-d020-4698-93c1-949787196fcf": {
     "id": "5d3fb42a-d020-4698-93c1-949787196fcf",
     "prev": "28e19f2d-2edf-4510-a3cf-0ca6fad92995",
     "regions": {
      "20b55005-9431-4a14-80af-b7fb661cbfce": {
       "attrs": {
        "height": 0.8,
        "width": 0.8,
        "x": 0.1,
        "y": 0.1
       },
       "content": {
        "cell": "f7c3093c-2495-4966-bc13-2e748756443c",
        "part": "whole"
       },
       "id": "20b55005-9431-4a14-80af-b7fb661cbfce"
      }
     }
    },
    "5dfa2a38-f1aa-4e29-988b-55d05f1bb331": {
     "id": "5dfa2a38-f1aa-4e29-988b-55d05f1bb331",
     "prev": "a87b18b1-136f-42c0-97fe-496d166e601d",
     "regions": {
      "9bdeb93f-3464-46d7-9703-dd3c4076b1f9": {
       "attrs": {
        "height": 0.8,
        "width": 0.8,
        "x": 0.1,
        "y": 0.1
       },
       "content": {
        "cell": "5ca7fe1f-226f-4d81-8c88-2f7fca679ca2",
        "part": "whole"
       },
       "id": "9bdeb93f-3464-46d7-9703-dd3c4076b1f9"
      }
     }
    },
    "6c734dc7-218e-4ccd-b382-2a24cb4f3c67": {
     "id": "6c734dc7-218e-4ccd-b382-2a24cb4f3c67",
     "prev": "c879f959-2f63-45d0-b287-5a499f09a890",
     "regions": {
      "1edb6e2f-c033-4df2-ad7d-24068abe6533": {
       "attrs": {
        "height": 0.8,
        "width": 0.8,
        "x": 0.1,
        "y": 0.1
       },
       "content": {
        "cell": "eff9e866-8d7c-4270-ab8a-34cab6826137",
        "part": "whole"
       },
       "id": "1edb6e2f-c033-4df2-ad7d-24068abe6533"
      }
     }
    },
    "710686fb-d2dd-44e2-9bcd-3603187e76fa": {
     "id": "710686fb-d2dd-44e2-9bcd-3603187e76fa",
     "prev": "80cb2a4f-5b1f-4ec4-a0c6-b65db12465f3",
     "regions": {
      "40641d00-971f-4e81-9bac-fe38e2194e26": {
       "attrs": {
        "height": 0.8,
        "width": 0.8,
        "x": 0.1,
        "y": 0.1
       },
       "content": {
        "cell": "7a959381-03c5-492f-b6f8-e2ebff1cee14",
        "part": "whole"
       },
       "id": "40641d00-971f-4e81-9bac-fe38e2194e26"
      }
     }
    },
    "7980f726-7060-4448-8a63-8f35ee9f113c": {
     "id": "7980f726-7060-4448-8a63-8f35ee9f113c",
     "prev": null,
     "regions": {
      "e7796935-2c2d-4e79-8fa4-d857b85988d9": {
       "attrs": {
        "height": 0.8,
        "width": 0.8,
        "x": 0.1,
        "y": 0.1
       },
       "content": {
        "cell": "b4256dce-8961-42c5-87f9-71b82c75c555",
        "part": "whole"
       },
       "id": "e7796935-2c2d-4e79-8fa4-d857b85988d9"
      }
     }
    },
    "80cb2a4f-5b1f-4ec4-a0c6-b65db12465f3": {
     "id": "80cb2a4f-5b1f-4ec4-a0c6-b65db12465f3",
     "prev": "af61bb1d-b77d-47f2-9ae4-dfd4f3788679",
     "regions": {
      "76737a2b-3165-45e7-acf8-e5fb90ce2b9f": {
       "attrs": {
        "height": 0.8,
        "width": 0.8,
        "x": 0.1,
        "y": 0.1
       },
       "content": {
        "cell": "1fae0419-be89-4deb-b5e8-0463940d07ae",
        "part": "whole"
       },
       "id": "76737a2b-3165-45e7-acf8-e5fb90ce2b9f"
      }
     }
    },
    "89154808-258a-4328-a8e9-f071f230dc3e": {
     "id": "89154808-258a-4328-a8e9-f071f230dc3e",
     "prev": "b17dfe1d-ed8a-4df7-ac31-3ce5c7c35e54",
     "regions": {
      "dee056b7-c15f-44fe-97e0-af3eb49576d9": {
       "attrs": {
        "height": 0.8,
        "width": 0.8,
        "x": 0.1,
        "y": 0.1
       },
       "content": {
        "cell": "327894fa-5ce0-4967-9872-a4009e7c2f55",
        "part": "whole"
       },
       "id": "dee056b7-c15f-44fe-97e0-af3eb49576d9"
      }
     }
    },
    "a87b18b1-136f-42c0-97fe-496d166e601d": {
     "id": "a87b18b1-136f-42c0-97fe-496d166e601d",
     "prev": "24458f1a-fcc4-4aba-89b0-6551963a830c",
     "regions": {
      "372a86a8-db2c-48fd-9e8b-34b7502784ca": {
       "attrs": {
        "height": 0.8,
        "width": 0.8,
        "x": 0.1,
        "y": 0.1
       },
       "content": {
        "cell": "aadfe1b4-205f-42eb-bac3-ea0d033ea5d0",
        "part": "whole"
       },
       "id": "372a86a8-db2c-48fd-9e8b-34b7502784ca"
      }
     }
    },
    "a971f19a-b09c-41e8-914e-7df63fa4e809": {
     "id": "a971f19a-b09c-41e8-914e-7df63fa4e809",
     "prev": "6c734dc7-218e-4ccd-b382-2a24cb4f3c67",
     "regions": {
      "ed3c9611-91ee-45dd-ab2e-f2e0fb43b041": {
       "attrs": {
        "height": 0.8,
        "width": 0.8,
        "x": 0.1,
        "y": 0.1
       },
       "content": {
        "cell": "530dfcc7-e934-49ae-8e23-fcc83bb20ad9",
        "part": "whole"
       },
       "id": "ed3c9611-91ee-45dd-ab2e-f2e0fb43b041"
      }
     }
    },
    "af61bb1d-b77d-47f2-9ae4-dfd4f3788679": {
     "id": "af61bb1d-b77d-47f2-9ae4-dfd4f3788679",
     "prev": "5dfa2a38-f1aa-4e29-988b-55d05f1bb331",
     "regions": {
      "abd05cbd-c160-4960-a559-935fcf814381": {
       "attrs": {
        "height": 0.8,
        "width": 0.8,
        "x": 0.1,
        "y": 0.1
       },
       "content": {
        "cell": "ea968157-ba06-4114-ada9-08d0178e0ea6",
        "part": "whole"
       },
       "id": "abd05cbd-c160-4960-a559-935fcf814381"
      }
     }
    },
    "af7ac804-e995-44bd-9555-44030de8cbc9": {
     "id": "af7ac804-e995-44bd-9555-44030de8cbc9",
     "prev": "2f2f5ac8-b261-4390-8871-7b598f7c03e9",
     "regions": {
      "73fcf038-c283-4ff9-9f84-ea5c832b7cef": {
       "attrs": {
        "height": 0.8,
        "width": 0.8,
        "x": 0.1,
        "y": 0.1
       },
       "content": {
        "cell": "953e2dab-141c-4505-b00c-4e2395d95fef",
        "part": "whole"
       },
       "id": "73fcf038-c283-4ff9-9f84-ea5c832b7cef"
      }
     }
    },
    "b17dfe1d-ed8a-4df7-ac31-3ce5c7c35e54": {
     "id": "b17dfe1d-ed8a-4df7-ac31-3ce5c7c35e54",
     "prev": "c615bd74-696a-4a06-af65-00249f3ef3be",
     "regions": {
      "5216904a-6218-415c-925f-7e9442411886": {
       "attrs": {
        "height": 0.8,
        "width": 0.8,
        "x": 0.1,
        "y": 0.1
       },
       "content": {
        "cell": "56452b22-a724-4618-bd78-0c9db808bc31",
        "part": "whole"
       },
       "id": "5216904a-6218-415c-925f-7e9442411886"
      }
     }
    },
    "c615bd74-696a-4a06-af65-00249f3ef3be": {
     "id": "c615bd74-696a-4a06-af65-00249f3ef3be",
     "prev": "4d6526d7-84a2-412f-8de3-d428c2603d5a",
     "regions": {
      "2fc34aec-37ef-464e-a428-80bfbbd044b7": {
       "attrs": {
        "height": 0.8,
        "width": 0.8,
        "x": 0.1,
        "y": 0.1
       },
       "content": {
        "cell": "bf1c2268-9b22-429a-ae6b-34d258dbb7a8",
        "part": "whole"
       },
       "id": "2fc34aec-37ef-464e-a428-80bfbbd044b7"
      }
     }
    },
    "c879f959-2f63-45d0-b287-5a499f09a890": {
     "id": "c879f959-2f63-45d0-b287-5a499f09a890",
     "prev": "89154808-258a-4328-a8e9-f071f230dc3e",
     "regions": {
      "1de9e533-96aa-4079-b40f-189e514dbe9a": {
       "attrs": {
        "height": 0.8,
        "width": 0.8,
        "x": 0.1,
        "y": 0.1
       },
       "content": {
        "cell": "f6870b90-cbd2-4db0-9781-97b7b788c184",
        "part": "whole"
       },
       "id": "1de9e533-96aa-4079-b40f-189e514dbe9a"
      }
     }
    },
    "dc43aabf-059c-4c29-a45b-dc2cb7ab51ee": {
     "id": "dc43aabf-059c-4c29-a45b-dc2cb7ab51ee",
     "prev": "39d27a99-c386-4d1d-8bcd-7004f9c723f6",
     "regions": {
      "9a111f70-833f-448f-9af7-ea2ff7245861": {
       "attrs": {
        "height": 0.8,
        "width": 0.8,
        "x": 0.1,
        "y": 0.1
       },
       "content": {
        "cell": "6971a287-bc29-41a6-8845-2c2a4240dd4d",
        "part": "whole"
       },
       "id": "9a111f70-833f-448f-9af7-ea2ff7245861"
      }
     }
    },
    "ec140e2b-69d5-4a42-a0f1-3b59040fd303": {
     "id": "ec140e2b-69d5-4a42-a0f1-3b59040fd303",
     "prev": "40e00ff8-dca5-4fa9-87c4-5533321cdf50",
     "regions": {
      "3b9445a8-52b1-4fc1-8fcc-094f69458b79": {
       "attrs": {
        "height": 0.8,
        "width": 0.8,
        "x": 0.1,
        "y": 0.1
       },
       "content": {
        "cell": "ddf51d90-bf80-4f78-bf80-c6e7964109f7",
        "part": "whole"
       },
       "id": "3b9445a8-52b1-4fc1-8fcc-094f69458b79"
      }
     }
    },
    "f5d4f634-bc9c-413d-b460-8f151499df52": {
     "id": "f5d4f634-bc9c-413d-b460-8f151499df52",
     "prev": "7980f726-7060-4448-8a63-8f35ee9f113c",
     "regions": {
      "c357a6ee-d28f-462e-bee7-2227cfb5591d": {
       "attrs": {
        "height": 0.8,
        "width": 0.8,
        "x": 0.1,
        "y": 0.1
       },
       "content": {
        "cell": "4ebc0005-589b-45e8-9522-4561f9b04b78",
        "part": "whole"
       },
       "id": "c357a6ee-d28f-462e-bee7-2227cfb5591d"
      }
     }
    }
   },
   "themes": {}
  }
 },
 "nbformat": 4,
 "nbformat_minor": 2
}
